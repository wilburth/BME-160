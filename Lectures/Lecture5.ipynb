{
 "cells": [
  {
   "cell_type": "markdown",
   "source": [
    "# Research Programming in the Life Sciences\n",
    "## Data containers, naming and conditionals \n",
    "\n",
    "- David L. Bernick, PhD\n",
    "- Biomolecular Engineering\n",
    "- Baskin School of Engineering\n",
    "- UCSC"
   ],
   "metadata": {
    "collapsed": false
   }
  },
  {
   "cell_type": "markdown",
   "source": [
    "# Homework\n",
    "## Reading\n",
    " - Model, Chs 1, 2 and 3 pgs. 47-78, __and 4__\n",
    " - Model, Appendix A and B\n",
    " \n",
    "## Lab\n",
    " - Lab 3 is published"
   ],
   "metadata": {
    "collapsed": false
   }
  },
  {
   "cell_type": "markdown",
   "source": [
    "# Final Project\n",
    "## Deliverables\n",
    "\n",
    "##  Report\n",
    " - Introduce problem, why important and how programming will help\n",
    " - Description of programming concepts implemented and algorithms used to complete program\n",
    " - Write-up of results and discussion/interpretation\n",
    "     - how well does the code perform\n",
    "     - how could it be extended to other problems\n",
    "\n",
    "## Poster\n",
    " - Provide quick overview of problem\n",
    " - Describe one or two main challenges to solving this problem and how you overcame them\n",
    " - Show the results of your program\n",
    " - Next steps"
   ],
   "metadata": {
    "collapsed": false
   }
  },
  {
   "cell_type": "markdown",
   "source": [
    "# Final Project Examples\n",
    " - Identifying sequence motifs associated with human disease in alternative genes\n",
    " - Performing statistical tests on a large dataset (microarray, facs populations, deep-seq, etc)\n",
    " - Performing sequence manipulations and statistical gathering for individual and multiple sequences\n",
    " - Simulating metabolic pathways or cellular processes\n",
    " - FASTQ conversion - Phred+33, Phred+64, Solexa+64, Sanger "
   ],
   "metadata": {
    "collapsed": false
   }
  },
  {
   "cell_type": "markdown",
   "source": [
    "# Naming revisited\n",
    " - in Python, we assign names to objects\n",
    " - we can provide multiple names to the same object"
   ],
   "metadata": {
    "collapsed": false
   }
  },
  {
   "cell_type": "code",
   "execution_count": 2,
   "outputs": [
    {
     "data": {
      "text/plain": "True"
     },
     "execution_count": 2,
     "metadata": {},
     "output_type": "execute_result"
    }
   ],
   "source": [
    "a = [ 1, 2, 3 ]\n",
    "thenAgain_a = a\n",
    "a is thenAgain_a"
   ],
   "metadata": {
    "collapsed": false,
    "pycharm": {
     "name": "#%%\n"
    }
   }
  },
  {
   "cell_type": "markdown",
   "source": [
    "if we alter the named object, all of its names see the change"
   ],
   "metadata": {
    "collapsed": false
   }
  },
  {
   "cell_type": "code",
   "execution_count": 3,
   "outputs": [
    {
     "name": "stdout",
     "output_type": "stream",
     "text": [
      "[1, 2, 3, 4]\n",
      "[1, 2, 3, 4]\n"
     ]
    },
    {
     "data": {
      "text/plain": "True"
     },
     "execution_count": 3,
     "metadata": {},
     "output_type": "execute_result"
    }
   ],
   "source": [
    "a.append(4)\n",
    "print (a)\n",
    "print (thenAgain_a)\n",
    "a is thenAgain_a"
   ],
   "metadata": {
    "collapsed": false,
    "pycharm": {
     "name": "#%%\n"
    }
   }
  },
  {
   "cell_type": "markdown",
   "source": [
    "# Naming revisited\n",
    "If we assign a name to some other object, that name refers to the other object"
   ],
   "metadata": {
    "collapsed": false
   }
  },
  {
   "cell_type": "code",
   "execution_count": 4,
   "outputs": [
    {
     "name": "stdout",
     "output_type": "stream",
     "text": [
      "[1, 2, 3, 4]\n",
      "[1, 2, 3, 4]\n",
      "[5, 6, 7, 8]\n",
      "[1, 2, 3, 4]\n"
     ]
    },
    {
     "data": {
      "text/plain": "False"
     },
     "execution_count": 4,
     "metadata": {},
     "output_type": "execute_result"
    }
   ],
   "source": [
    "print (a)\n",
    "print (thenAgain_a)\n",
    "\n",
    "a = [5, 6, 7, 8]\n",
    "print (a)\n",
    "print (thenAgain_a)\n",
    "\n",
    "a is thenAgain_a"
   ],
   "metadata": {
    "collapsed": false,
    "pycharm": {
     "name": "#%%\n"
    }
   }
  },
  {
   "cell_type": "markdown",
   "source": [
    "# Naming revisited\n",
    "what about this...."
   ],
   "metadata": {
    "collapsed": false
   }
  },
  {
   "cell_type": "code",
   "execution_count": 5,
   "outputs": [
    {
     "name": "stdout",
     "output_type": "stream",
     "text": [
      "[1, 7, 8, 9, 10, 11, 42, 3]\n",
      "14\n"
     ]
    }
   ],
   "source": [
    "a = [ 1, 2, 3 ]\n",
    "thenAgain_a = a\n",
    "\n",
    "a[1:2] = [7,8,9,10,11,42]\n",
    "a is thenAgain_a  \n",
    "print (a)\n",
    "\n",
    "b = thenAgain_a[1]\n",
    "b *= 2\n",
    "\n",
    "print (b)\n"
   ],
   "metadata": {
    "collapsed": false,
    "pycharm": {
     "name": "#%%\n"
    }
   }
  },
  {
   "cell_type": "markdown",
   "source": [
    "# Flow of Control"
   ],
   "metadata": {
    "collapsed": false
   }
  },
  {
   "cell_type": "markdown",
   "source": [
    "# Simple Statements\n",
    "## Examples\n",
    " - expressions: +, -, *, /\n",
    " - assignments: =\n",
    " - methods and functions: \n",
    " - len(), .count(‘A’)"
   ],
   "metadata": {
    "collapsed": false
   }
  },
  {
   "cell_type": "code",
   "execution_count": 6,
   "outputs": [
    {
     "name": "stdout",
     "output_type": "stream",
     "text": [
      " ATGCCGGGGTTTTTATAA \n"
     ]
    }
   ],
   "source": [
    "thisString = 'ATGCCGGGGTTTTTA'\n",
    "newString = thisString + 'TAA'\n",
    "countsA = newString.count('A')\n",
    "print (\" {} \".format(newString))"
   ],
   "metadata": {
    "collapsed": false,
    "pycharm": {
     "name": "#%%\n"
    }
   }
  },
  {
   "cell_type": "markdown",
   "source": [
    "# Compound Statements (suites)\n",
    " - A compound statement is:\n",
    "     - a block of statements (or suite of statements)\n",
    "     - compound statements have at least 1 indented statement after the first line\n",
    "     \n",
    "## Example:"
   ],
   "metadata": {
    "collapsed": false
   }
  },
  {
   "cell_type": "code",
   "execution_count": 7,
   "outputs": [
    {
     "ename": "SyntaxError",
     "evalue": "invalid syntax (<ipython-input-7-8df83f8a4cd5>, line 1)",
     "output_type": "error",
     "traceback": [
      "\u001B[1;36m  File \u001B[1;32m\"<ipython-input-7-8df83f8a4cd5>\"\u001B[1;36m, line \u001B[1;32m1\u001B[0m\n\u001B[1;33m    if aCond then :  # this is the “header”\u001B[0m\n\u001B[1;37m                ^\u001B[0m\n\u001B[1;31mSyntaxError\u001B[0m\u001B[1;31m:\u001B[0m invalid syntax\n"
     ]
    }
   ],
   "source": [
    "if aCond then:  # this is the “header”\n",
    "    someAssign = 3.141592\n",
    "    someOtherAssign = 2.781828"
   ],
   "metadata": {
    "collapsed": false,
    "pycharm": {
     "name": "#%%\n"
    }
   }
  },
  {
   "cell_type": "markdown",
   "source": [
    " - This is an __*if*__ clause. The __*header*__ line ends with __:__\n",
    " - All statements in the block are indented"
   ],
   "metadata": {
    "collapsed": false
   }
  },
  {
   "cell_type": "markdown",
   "source": [
    "# Compound Statements\n",
    "## header1     :\n",
    "    statement 1a\n",
    "    statement 1b\n",
    "## header2     :\n",
    "    statement 2b\n",
    "    statement 2b\n",
    "## Examples"
   ],
   "metadata": {
    "collapsed": false
   }
  },
  {
   "cell_type": "code",
   "execution_count": null,
   "outputs": [],
   "source": [
    "#Conditionals\n",
    "if expression :\n",
    "    statements\n",
    "else :\n",
    "    statements\n",
    "#Loops and iterations\n",
    "for item in collection :\n",
    "    statements using item\n",
    "    \n",
    "while expression :\n",
    "    statements that alter expression\n",
    "else:\n",
    "    final-statements\n",
    "    \n",
    "# Exception Handlers"
   ],
   "metadata": {
    "collapsed": false,
    "pycharm": {
     "name": "#%%\n"
    }
   }
  },
  {
   "cell_type": "markdown",
   "source": [
    "# Python Syntax Rules I\n",
    " - End of statement happens at end of line\n",
    "      - pi = 3.141592\n",
    " - End of block happens at end of indentation"
   ],
   "metadata": {
    "collapsed": false
   }
  },
  {
   "cell_type": "code",
   "execution_count": 11,
   "outputs": [],
   "source": [
    "class Triad : \n",
    "    def __init__(self,p,q,r) :\n",
    "        self.p = p\n",
    "        self.q = q\n",
    "        self.r = r\n",
    "        \n",
    "p1 = Triad( p=(1,0,0), q=(0,0,0), r=(0,1,0) )"
   ],
   "metadata": {
    "collapsed": false,
    "pycharm": {
     "name": "#%%\n"
    }
   }
  },
  {
   "cell_type": "markdown",
   "source": [
    "# Python Syntax Rules II\n",
    "## multi-statement line\n",
    "## Examples:"
   ],
   "metadata": {
    "collapsed": false
   }
  },
  {
   "cell_type": "code",
   "execution_count": 10,
   "outputs": [
    {
     "name": "stdout",
     "output_type": "stream",
     "text": [
      "3\n",
      "2\n"
     ]
    }
   ],
   "source": [
    "a = 1; b = 2; c = 3; print (a+b)\n",
    "\n",
    "#multiline statement with enclosure:\n",
    "shortAA =   {\n",
    "            'CYS':'C','ASP':'D','SER':'S','GLN':'Q',\n",
    "            'LYS':'K','ILE':'I','PRO':'P','THR':'T',\n",
    "            'PHE':'F','ASN':'N','GLY':'G','HIS':'H',\n",
    "            'LEU':'L','ARG':'R','TRP':'W','ALA':'A',\n",
    "            'VAL':'V','GLU':'E','TYR':'Y','MET':'M'\n",
    "            }\n",
    "\n",
    "# single line block\n",
    "if b > a: print (b)"
   ],
   "metadata": {
    "collapsed": false,
    "pycharm": {
     "name": "#%%\n"
    }
   }
  },
  {
   "cell_type": "markdown",
   "source": [
    "# Python Syntax Rules III\n",
    " - Statements execute sequentially, until you say otherwise\n",
    " - Block and statement bounds are automatically detected\n",
    " - Compound statements follow prototype"
   ],
   "metadata": {
    "collapsed": false
   }
  },
  {
   "cell_type": "code",
   "execution_count": null,
   "outputs": [],
   "source": [
    "keyword:\n",
    "    indented-statements"
   ],
   "metadata": {
    "collapsed": false,
    "pycharm": {
     "name": "#%%\n"
    }
   }
  },
  {
   "cell_type": "markdown",
   "source": [
    " - Blank lines, spaces, and comments are usually ignored\n",
    " - Docstrings are ignored but saved for help()"
   ],
   "metadata": {
    "collapsed": false
   }
  },
  {
   "cell_type": "markdown",
   "source": [
    "# BME160 Style Guidelines"
   ],
   "metadata": {
    "collapsed": false
   }
  },
  {
   "cell_type": "code",
   "execution_count": 6,
   "outputs": [],
   "source": [
    "#!/usr/bin/env python3\n",
    "# Name: David Bernick (dbernick)\n",
    "# Group: None\n",
    "'''\n",
    "Provide a BME160 coding style example.\n",
    "\n",
    "Inputs: none\n",
    "Outputs: none\n",
    "'''\n",
    "class Camel :           # Capitalize Classes\n",
    "    ''' Create a BME160 simple class.'''\n",
    "    def method1 (self): # lower case for method\n",
    "        ''' Check if x and y[1] are positive. '''\n",
    "        x = 1           # space between =\n",
    "        y = (1, 2, 3)   # space after comma\n",
    "        if x > 0 :\n",
    "            if y[1] >= 1:# 4 spaces ot tab for indent\n",
    "                print (\"Double positive\")"
   ],
   "metadata": {
    "collapsed": false,
    "pycharm": {
     "name": "#%%\n"
    }
   }
  },
  {
   "cell_type": "markdown",
   "source": [
    "# Simple Conditional"
   ],
   "metadata": {
    "collapsed": false
   }
  },
  {
   "cell_type": "code",
   "execution_count": null,
   "outputs": [],
   "source": [
    "if expression :\n",
    "    statements"
   ],
   "metadata": {
    "collapsed": false,
    "pycharm": {
     "name": "#%%\n"
    }
   }
  },
  {
   "cell_type": "markdown",
   "source": [
    "## Usage:\n",
    " - Used to execute a block of code based on the evaluation of expression\n",
    " - If expression is True, execute the if block\n",
    "     - otherwise, don’t"
   ],
   "metadata": {
    "collapsed": false
   }
  },
  {
   "cell_type": "markdown",
   "source": [
    "# One-Alternative example"
   ],
   "metadata": {
    "collapsed": false
   }
  },
  {
   "cell_type": "code",
   "execution_count": null,
   "outputs": [],
   "source": [
    "a = 3.141592\n",
    "b = 3.141592\n",
    "if a == b :\n",
    "    print (\"Thanks for the pi\")\n",
    "else :\n",
    "    print (\"no pi for you\"\")"
   ],
   "metadata": {
    "collapsed": false,
    "pycharm": {
     "name": "#%%\n"
    }
   }
  },
  {
   "cell_type": "markdown",
   "source": [
    "# Multi-Test Conditional"
   ],
   "metadata": {
    "collapsed": false
   }
  },
  {
   "cell_type": "code",
   "execution_count": null,
   "outputs": [],
   "source": [
    "if expression1:\n",
    "    statements\n",
    "elif expression2:\n",
    "    statements\n",
    "else:\n",
    "    statements"
   ],
   "metadata": {
    "collapsed": false,
    "pycharm": {
     "name": "#%%\n"
    }
   }
  },
  {
   "cell_type": "markdown",
   "source": [
    "## Usage:\n",
    "Used to select one block of code to execute based on the sequential evaluation of multiple expressions.\n",
    "\n",
    " - if clause executed only if expression1 is True\n",
    " - elif clause executed only if expression1 is False and expression2 is True\n",
    " - else clause executed if both expressions are False"
   ],
   "metadata": {
    "collapsed": false
   }
  }
 ],
 "metadata": {
  "celltoolbar": "Slideshow",
  "kernelspec": {
   "display_name": "Python 3",
   "language": "python",
   "name": "python3"
  },
  "language_info": {
   "codemirror_mode": {
    "name": "ipython",
    "version": 3
   },
   "file_extension": ".py",
   "mimetype": "text/x-python",
   "name": "python",
   "nbconvert_exporter": "python",
   "pygments_lexer": "ipython3",
   "version": "3.7.6"
  }
 },
 "nbformat": 4,
 "nbformat_minor": 2
}