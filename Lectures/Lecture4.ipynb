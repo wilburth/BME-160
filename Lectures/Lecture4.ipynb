{
 "cells": [
  {
   "cell_type": "markdown",
   "metadata": {
    "slideshow": {
     "slide_type": "slide"
    }
   },
   "source": [
    "# Research Programming in the Life Sciences\n",
    "## Data containers, naming and conditionals \n",
    "\n",
    "- David L. Bernick, PhD\n",
    "- Biomolecular Engineering\n",
    "- Baskin School of Engineering\n",
    "- UCSC"
   ]
  },
  {
   "cell_type": "markdown",
   "metadata": {
    "slideshow": {
     "slide_type": "slide"
    }
   },
   "source": [
    "# Homework\n",
    "## Reading\n",
    " - Model, Chs 1, 2 and 3 pgs. 47-78\n",
    " - Model, Appendix A and B"
   ]
  },
  {
   "cell_type": "markdown",
   "metadata": {
    "slideshow": {
     "slide_type": "slide"
    }
   },
   "source": [
    "# Overview\n",
    " - Collections I: sets, strings, ranges, & tuples\n",
    " - Collections II: lists, tuples and dictionaries\n",
    " - Code example - Triad\n",
    " - Final Project"
   ]
  },
  {
   "cell_type": "markdown",
   "metadata": {
    "slideshow": {
     "slide_type": "slide"
    }
   },
   "source": [
    "# Quiz Results\n",
    " - Q6: 5/2 = ?\n",
    " - Q9: s = \"CGGATGTTA\", s[-1] = ?\n",
    " - Q10: s = \"CGGATGTTA\", s[3:5] = ?\n",
    " - Q11: s = \"CGGATGTTA\", s[:] = ?"
   ]
  },
  {
   "cell_type": "code",
   "execution_count": 12,
   "metadata": {
    "slideshow": {
     "slide_type": "fragment"
    },
    "pycharm": {
     "is_executing": false
    }
   },
   "outputs": [
    {
     "data": {
      "text/plain": "<Figure size 432x288 with 1 Axes>",
      "image/png": "[encoded data removed]"
     },
     "metadata": {
      "needs_background": "light"
     },
     "output_type": "display_data"
    }
   ],
   "source": [
    "import matplotlib.pyplot as plt #import necessary package --> matplotlib.pyplot\n",
    "x = [i/2 for i in range(11,21)] # this says: do function i/2 for every i from 11 up to but not including 21 **AND** to set x equal to a list containing these numbers (due to the brackets [])--> this results in us being able to see the lowest score (i=11, i/2 --> 5.5 float value)\n",
    "y = [1,1,1,6,4,10,11,15,10,28] # store a list of y values\n",
    "plt.bar(x,y,0.2) # use function .bar(x, height, width of bars --> default = 0.8) \n",
    "plt.xlabel('Scores', fontsize=18) # print xlabel (could try printing a ylabel)\n",
    "plt.title('Quiz 1 results',fontsize=18) # \n",
    "plt.figtext(.3,0.7,'mean=89%', fontsize=18, ha='center')\n",
    "plt.show()"
   ]
  },
  {
   "cell_type": "markdown",
   "metadata": {
    "slideshow": {
     "slide_type": "slide"
    }
   },
   "source": [
    "# Lab 2 Preview\n",
    "Practice manipulating data types\n",
    " - Remove ambiguous bases from a sequence\n",
    "     - you can reuse Classes from Lab 1 !!!\n",
    " - Parse information from a FASTQ seqname\n",
    " - Compute geometry between atomic coordinates\n",
    " - Create mappings for codons tables and amino acid letter conversion"
   ]
  },
  {
   "cell_type": "markdown",
   "metadata": {
    "slideshow": {
     "slide_type": "skip"
    }
   },
   "source": [
    "# Mutability\n",
    " - After a mutable object is instantiated\n",
    "     - mutable objects can be changed\n",
    "     - Lists [] and dictionaries {} are mutable\n",
    " - After an immutable objects is instantiated\n",
    "     - immutable objects can not be changed\n",
    "     - int, float, str, tuple () are immutable\n",
    "\n",
    "## implications:"
   ]
  },
  {
   "cell_type": "code",
   "execution_count": 42,
   "metadata": {
    "collapsed": true,
    "slideshow": {
     "slide_type": "skip"
    }
   },
   "outputs": [],
   "source": [
    "a=1; b=1    # a and b might both share memory\n",
    "a=[]; b=[]    # a and b do NOT share memory"
   ]
  },
  {
   "cell_type": "markdown",
   "metadata": {
    "slideshow": {
     "slide_type": "skip"
    }
   },
   "source": [
    "# Sequences \" \"  [ ], ( )\n",
    "Ordered collection of items that may contain duplicates\n",
    "\n",
    " - Strings\n",
    "     - Immutable collection of ordered characters* in quotes ' or \"\n",
    " - Ranges\n",
    "     - Series of integers specified by (start,stop,step)\n",
    " - Tuples\n",
    "     - Immutable collection of any object enclosed in parentheses ()\n",
    " - Lists\n",
    "     - Mutable collection of any object enclosed in brackets []\n",
    " - Examples:"
   ]
  },
  {
   "cell_type": "code",
   "execution_count": null,
   "metadata": {
    "collapsed": true,
    "slideshow": {
     "slide_type": "skip"
    }
   },
   "outputs": [],
   "source": [
    "dnaSeq = 'ACGT'\n",
    "floorsInBuilding = range (1,13)  # floors from 1st floor to 12th floor\n",
    "rnaBases = ['A', 'C', 'G', 'U']\n",
    "atomCoords = (1.2, 3.2, 5.8)\n",
    "\n",
    "emptyString = \"\"\n",
    "emptyTuple = ()\n",
    "emptyList = []"
   ]
  },
  {
   "cell_type": "markdown",
   "metadata": {
    "slideshow": {
     "slide_type": "skip"
    }
   },
   "source": [
    "# Sequence Slicing \n",
    "Sequences support indexing and slicing"
   ]
  },
  {
   "cell_type": "code",
   "execution_count": null,
   "metadata": {
    "collapsed": true,
    "slideshow": {
     "slide_type": "skip"
    }
   },
   "outputs": [],
   "source": [
    "seq[i:j]  # elements of seq starting at position i, up to ( not including) j\n",
    "seq[i:]   # elements of seq starting at position i, up to the end\n",
    "seq[:j]   # elements of seq starting at the beginning, up to ( not including) j\n",
    "seq[:-1]  # elements of seq starting at the beginning, up to ( not including) the last element\n",
    "seq[:]    # all elements of seq\n",
    "seq[i:j:k]# elements of seq starting at position i, up to ( not including) j, every Kth element"
   ]
  },
  {
   "cell_type": "markdown",
   "metadata": {
    "slideshow": {
     "slide_type": "skip"
    }
   },
   "source": [
    "# Sequence Operations\n",
    "Operations that can be performed on sequences"
   ]
  },
  {
   "cell_type": "code",
   "execution_count": null,
   "metadata": {
    "collapsed": true,
    "slideshow": {
     "slide_type": "skip"
    }
   },
   "outputs": [],
   "source": [
    "<, <=, >=, >    # operands must be of the samme type\n",
    "==, !=          # any type operands, though result is False for type mismatch\n",
    "in, not in      # test for element presence\n",
    "*               # repetition\n",
    "+               # concatenation\n",
    "[i]             # indexing\n",
    "[i:j:k]         # slicing"
   ]
  },
  {
   "cell_type": "code",
   "execution_count": 1,
   "metadata": {},
   "outputs": [
    {
     "name": "stdout",
     "output_type": "stream",
     "text": [
      "[1, 2, 3]\n",
      "[4, 5, 6]\n",
      "[1, 2, 3, 4, 5, 6]\n"
     ]
    }
   ],
   "source": [
    "a = [1,2,3]\n",
    "b = [4,5,6]\n",
    "c = a + b\n",
    "print (a)\n",
    "print (b)\n",
    "print (c)\n"
   ]
  },
  {
   "cell_type": "markdown",
   "metadata": {
    "slideshow": {
     "slide_type": "slide"
    }
   },
   "source": [
    "# Manipulating Strings\n",
    " - Python has many operators, assignments, methods and functions for strings\n",
    " - see Model pp 53-60\n",
    "\n",
    "## Examples:"
   ]
  },
  {
   "cell_type": "code",
   "execution_count": 5,
   "metadata": {
    "slideshow": {
     "slide_type": "fragment"
    }
   },
   "outputs": [
    {
     "name": "stdout",
     "output_type": "stream",
     "text": [
      "4\n"
     ]
    }
   ],
   "source": [
    "# Concatenate\n",
    "polyA = \"AAAA\"\n",
    "polyT = \"TTTT\"\n",
    "pAT = polyA + polyT   # stores string \"AAAATTTT\"\n",
    "# Repeat Strings\n",
    "scaleFactor = 3\n",
    "polyGC6 = 'GC' * 6    # stores \"GCGCGCGCGCGC\"\n",
    "polyGC  = 'GC' * scaleFactor   # stores \"GCGCGC\"\n",
    "k = pAT.count('A')\n",
    "print (k)"
   ]
  },
  {
   "cell_type": "markdown",
   "metadata": {
    "slideshow": {
     "slide_type": "slide"
    }
   },
   "source": [
    "# Augmented Assignments*\n",
    "## Examples:\n",
    "\n",
    "*Chapter 2, page 23."
   ]
  },
  {
   "cell_type": "code",
   "execution_count": null,
   "metadata": {
    "collapsed": true,
    "slideshow": {
     "slide_type": "fragment"
    }
   },
   "outputs": [],
   "source": [
    "# Concatenate assignment\n",
    "polyA = \"AAAA\"\n",
    "polyT = \"TTTT\"\n",
    "polyA += polyT  # stores string \"AAAATTTT\"\n",
    "                # polyA = polyA + polyT\n",
    "# Repeat Assignment\n",
    "scaleFactor = 3\n",
    "sGC = 'GC'\n",
    "sGC *= 6             # stores \"GCGCGCGCGCGC\"\n",
    "sGC = 'GC'\n",
    "sGC *= scaleFactor   # stores \"GCGCGC\""
   ]
  },
  {
   "cell_type": "markdown",
   "metadata": {
    "slideshow": {
     "slide_type": "slide"
    }
   },
   "source": [
    "# Ranges and Tuples\n",
    " - Ranges - flow control through iteration\n",
    "     - Series of integers specified by (start,stop,step)\n",
    " - Tuples - points and print attributes\n",
    "     - Immutable collection of any object enclosed in parentheses ()\n",
    " \n",
    "## Examples:"
   ]
  },
  {
   "cell_type": "code",
   "execution_count": 14,
   "metadata": {
    "collapsed": true,
    "slideshow": {
     "slide_type": "fragment"
    },
    "pycharm": {
     "is_executing": false
    }
   },
   "outputs": [
    {
     "name": "stdout",
     "text": [
      "1.2 2.2\n"
     ],
     "output_type": "stream"
    }
   ],
   "source": [
    "range(5)        # 0,1,2,3,4\n",
    "range(1, 5)     # 1,2,3,4\n",
    "range(2, 12, 2) # 2,4,6,8,10\n",
    "\n",
    "k = tuple([1.2, 3.0, 2.2]) # e.g. coordinates\n",
    "print (\"%s %s\" % (k[0], k[2]) )"
   ]
  },
  {
   "cell_type": "markdown",
   "metadata": {
    "slideshow": {
     "slide_type": "slide"
    }
   },
   "source": [
    "# Collections II\n"
   ]
  },
  {
   "cell_type": "markdown",
   "metadata": {
    "slideshow": {
     "slide_type": "slide"
    }
   },
   "source": [
    "# Lists: [ ]\n",
    " - An ordered collection of objects\n",
    "     - very common and useful type – most general sequence provided by Python. \n",
    "     - items separated by commas in [ ]\n",
    "     \n",
    "## Examples:"
   ]
  },
  {
   "cell_type": "code",
   "execution_count": 1,
   "metadata": {
    "slideshow": {
     "slide_type": "fragment"
    }
   },
   "outputs": [],
   "source": [
    "allNatural = list('ACDEFGHIKLMNPQRSTVWY')\n",
    "aminoAcids = ['A', 'D', 'K', 'R']\n",
    "codons = ['ATG', 'AUG', 'CTG']\n",
    "emptyList = list()    # same as []"
   ]
  },
  {
   "cell_type": "code",
   "execution_count": 2,
   "metadata": {},
   "outputs": [
    {
     "name": "stdout",
     "output_type": "stream",
     "text": [
      "['a', 'b', 'c', 'd', 'e', 'f', 'g', 'h', 'i']\n"
     ]
    }
   ],
   "source": [
    "k = list ( 'abcdefghi')\n",
    "print (k)\n"
   ]
  },
  {
   "cell_type": "markdown",
   "metadata": {
    "slideshow": {
     "slide_type": "slide"
    }
   },
   "source": [
    "## List Assignments\n",
    "Lists can be assigned new values based on slicing or indexing on the left side of =\n",
    "![List Modification Asignments](Lecture4.listOps.png)\n",
    "\n",
    " - Assignment modifies original list\n",
    "     - Lists are __*mutable*__"
   ]
  },
  {
   "cell_type": "markdown",
   "metadata": {
    "slideshow": {
     "slide_type": "slide"
    }
   },
   "source": [
    "# List Assignments\n",
    "Lists can be assigned new values based on slicing or indexing on the left side of ="
   ]
  },
  {
   "cell_type": "code",
   "execution_count": null,
   "metadata": {
    "collapsed": true,
    "slideshow": {
     "slide_type": "fragment"
    }
   },
   "outputs": [],
   "source": [
    "aminoAcids = ['A', 'D', 'K', 'R']\n",
    "\n",
    "# Replacing:\n",
    "aminoAcids[0] = 'E'\n",
    "aminoAcids[0:4] = ['A', 'D', 'K', 'R']\n",
    "aminoAcids[:] = ['A', 'D', 'K', 'R', 'T']\n",
    "\n",
    "# Insertion:\n",
    "aminoAcids[1:1] = 'W'\n",
    "\n",
    "# Deletion:\n",
    "del aminoAcids[1]"
   ]
  },
  {
   "cell_type": "markdown",
   "metadata": {
    "slideshow": {
     "slide_type": "slide"
    }
   },
   "source": [
    "# List Methods\n",
    "Methods operate on lists. They change the list !"
   ]
  },
  {
   "cell_type": "code",
   "execution_count": null,
   "metadata": {
    "collapsed": true,
    "slideshow": {
     "slide_type": "fragment"
    }
   },
   "outputs": [],
   "source": [
    "# Append:\n",
    "aminoAcids.append(x)     # adds to list\n",
    "\n",
    "# Extend:\n",
    "aminoAcids.extend(x)     # adds elements of x\n",
    "\n",
    "# Insert:\n",
    "aminoAcids.insert(i, x)  # insert x before i\n",
    "\n",
    "# Remove:\n",
    "aminoAcids.remove(x)     # first occurrence of x\n",
    "\n",
    "# Pop:\n",
    "aminoAcids.pop([i])      # remove last, can specify i\n",
    "\n",
    "# Reverse:\n",
    "aminoAcids.reverse()     # reverse list\n",
    "\n",
    "# Sort:\n",
    "aminoAcids.sort()        # sort by comparing elements"
   ]
  },
  {
   "cell_type": "markdown",
   "metadata": {
    "slideshow": {
     "slide_type": "slide"
    }
   },
   "source": [
    "# Component Assignments\n",
    "We can unpack each of the components of a list or tuple and assign names to each of the unpacked components"
   ]
  },
  {
   "cell_type": "code",
   "execution_count": 2,
   "metadata": {
    "slideshow": {
     "slide_type": "fragment"
    }
   },
   "outputs": [
    {
     "name": "stdout",
     "output_type": "stream",
     "text": [
      "0 1 2\n"
     ]
    }
   ],
   "source": [
    "myTuple = (0,1,2)   # a point with 3 components\n",
    "x,y,z = myTuple      # unpack components to scalars\n",
    "print (x,y,z)"
   ]
  },
  {
   "cell_type": "markdown",
   "metadata": {
    "slideshow": {
     "slide_type": "fragment"
    }
   },
   "source": [
    " - x is assigned to 0\n",
    " - y is assigned to 1\n",
    " - z is assigned to 2\n",
    " "
   ]
  },
  {
   "cell_type": "markdown",
   "metadata": {
    "slideshow": {
     "slide_type": "slide"
    }
   },
   "source": [
    "# List manipulation Example"
   ]
  },
  {
   "cell_type": "code",
   "execution_count": 1,
   "metadata": {
    "slideshow": {
     "slide_type": "fragment"
    }
   },
   "outputs": [
    {
     "name": "stdout",
     "output_type": "stream",
     "text": [
      "2 1\n"
     ]
    }
   ],
   "source": [
    "a = 1\n",
    "b = a\n",
    "a *= 2\n",
    "print (a,b)"
   ]
  },
  {
   "cell_type": "code",
   "execution_count": 2,
   "metadata": {
    "slideshow": {
     "slide_type": "fragment"
    }
   },
   "outputs": [
    {
     "name": "stdout",
     "output_type": "stream",
     "text": [
      "(1, 2, 3, 4, 1, 2, 3, 4) (1, 2, 3, 4)\n"
     ]
    }
   ],
   "source": [
    "a = (1,2,3,4)\n",
    "b = a\n",
    "a *= 2\n",
    "print (a,b)"
   ]
  },
  {
   "cell_type": "code",
   "execution_count": 3,
   "metadata": {
    "slideshow": {
     "slide_type": "fragment"
    }
   },
   "outputs": [
    {
     "name": "stdout",
     "output_type": "stream",
     "text": [
      "[1, 2, 3, 4, 1, 2, 3, 4] [1, 2, 3, 4, 1, 2, 3, 4]\n"
     ]
    }
   ],
   "source": [
    "a = [1,2,3,4]\n",
    "b = a\n",
    "b *= 2\n",
    "print (a,b)"
   ]
  },
  {
   "cell_type": "markdown",
   "metadata": {
    "slideshow": {
     "slide_type": "slide"
    }
   },
   "source": [
    "# zip\n",
    "a zip object will generate lists of lists (tuples of tuples)\n",
    " - assume:"
   ]
  },
  {
   "cell_type": "code",
   "execution_count": 5,
   "metadata": {
    "slideshow": {
     "slide_type": "fragment"
    }
   },
   "outputs": [],
   "source": [
    "a = (0,1,2)\n",
    "b = (3,4,5)\n",
    "myZip = zip(a,b)"
   ]
  },
  {
   "cell_type": "markdown",
   "metadata": {
    "slideshow": {
     "slide_type": "fragment"
    }
   },
   "source": [
    "we want to operate on the paired components:\n",
    " - (0,3), (1,4), (2,5)"
   ]
  },
  {
   "cell_type": "code",
   "execution_count": 6,
   "metadata": {
    "slideshow": {
     "slide_type": "fragment"
    }
   },
   "outputs": [
    {
     "name": "stdout",
     "output_type": "stream",
     "text": [
      "((0, 3), (1, 4), (2, 5))\n",
      "(0, 3)\n",
      "0 3\n",
      "0\n"
     ]
    }
   ],
   "source": [
    "zippedTuple = tuple(myZip)\n",
    "firstTuple = zippedTuple[0] \n",
    "xa, xb = zippedTuple[0]\n",
    "print (zippedTuple)\n",
    "print (zippedTuple[0])\n",
    "print (xa, xb)\n",
    "print (xa)"
   ]
  },
  {
   "cell_type": "markdown",
   "metadata": {
    "slideshow": {
     "slide_type": "slide"
    }
   },
   "source": [
    "# String Methods - str.join() and str.split()\n",
    "useful conversions between strings and lists\n",
    "\n",
    " - S.join(iterable) -> string\n",
    "     - returns a string which is the concatenation of strings in the iterable and S is the separator between elements\n",
    " - S.split(sep) -> list of strings\n",
    "     - returns a list of strings from the string S using sep as the delimiter string\n",
    "     \n",
    "## Examples:"
   ]
  },
  {
   "cell_type": "code",
   "execution_count": 10,
   "metadata": {
    "slideshow": {
     "slide_type": "fragment"
    }
   },
   "outputs": [
    {
     "name": "stdout",
     "output_type": "stream",
     "text": [
      "['Hello', 'World']\n",
      "['DNA', ' RNA', ' Protein']\n",
      "A C G T\n"
     ]
    }
   ],
   "source": [
    "print ( \"Hello World\".split() )\n",
    "\n",
    "print ( \"DNA, RNA, Protein\".split(',') )\n",
    "\n",
    "baseStr = ' '.join(['A', 'C', 'G', 'T'])\n",
    "print (baseStr)"
   ]
  },
  {
   "cell_type": "code",
   "execution_count": 8,
   "metadata": {},
   "outputs": [
    {
     "name": "stdout",
     "output_type": "stream",
     "text": [
      "['a', 'b', 'c', 'd', 'e', 'f', 'g', 'h', 'i', 'j', 'k']\n"
     ]
    }
   ],
   "source": [
    "k = 'abcdefghijk'\n",
    "l = list(k)\n",
    "print (l)"
   ]
  },
  {
   "cell_type": "markdown",
   "metadata": {
    "slideshow": {
     "slide_type": "slide"
    }
   },
   "source": [
    "# Mappings {:}\n",
    "Unordered collection of key/value pairs*\n",
    "In an english dictionary: words are keys, definitions are values\n",
    "\n",
    "![](Lecture4dictMappings.png)\n",
    "\n",
    "Chapter 3, pages 66-72. "
   ]
  },
  {
   "cell_type": "markdown",
   "metadata": {
    "slideshow": {
     "slide_type": "slide"
    }
   },
   "source": [
    "# Dictionary Construction\n",
    " - Dictionaries are created by placing key and value pairs inside { }\n",
    " - The key can be any immutable type and the value can be any object \n",
    "\n",
    "\n",
    "## Dictionary Operators\n",
    " - In Python, we manipulate dictionaries using keys\n",
    " - Operations:\n",
    "     - d[key]           # get value of key\n",
    "     - d[key] = value   # associate value to a key\n",
    "     - del d[key]       # delete key\n",
    "     \n",
    "## Examples:"
   ]
  },
  {
   "cell_type": "code",
   "execution_count": 11,
   "metadata": {
    "slideshow": {
     "slide_type": "fragment"
    }
   },
   "outputs": [],
   "source": [
    "emptyDict = dict()       # same as {}\n",
    "ThreeToOne = {'Ala':'A', 'Cys':'C'}\n",
    "myAA = ThreeToOne['Ala'] # lookup of 1 letter code\n",
    "ThreeToOne['Tyr'] = 'Y'  # adds a new AA to dict"
   ]
  },
  {
   "cell_type": "code",
   "execution_count": 16,
   "metadata": {},
   "outputs": [
    {
     "name": "stdout",
     "output_type": "stream",
     "text": [
      "None\n"
     ]
    }
   ],
   "source": [
    "print (ThreeToOne.get('Trp'))\n"
   ]
  },
  {
   "cell_type": "markdown",
   "metadata": {
    "slideshow": {
     "slide_type": "slide"
    }
   },
   "source": [
    "# Dictionary Methods\n",
    " - Dictionary methods that operate on: \n",
    "     - keys, values or key:value pairs\n",
    "\n",
    "assume: d is an object of class dict\n",
    "## Methods:"
   ]
  },
  {
   "cell_type": "code",
   "execution_count": null,
   "metadata": {
    "collapsed": true,
    "slideshow": {
     "slide_type": "fragment"
    }
   },
   "outputs": [],
   "source": [
    "d.get(key)  # like d[key], but no error\n",
    "d.pop(key)  # like del d[key], but no error\n",
    "d.keys()    # returns sequence of keys\n",
    "d.values()  # returns sequence of values\n",
    "d.items()   # returns tuples of keys, values"
   ]
  },
  {
   "cell_type": "markdown",
   "metadata": {
    "slideshow": {
     "slide_type": "slide"
    }
   },
   "source": [
    "# Triad"
   ]
  },
  {
   "cell_type": "code",
   "execution_count": null,
   "metadata": {
    "collapsed": true,
    "slideshow": {
     "slide_type": "slide"
    }
   },
   "outputs": [],
   "source": [
    "\n",
    "    \"\"\"\n",
    "    Author: David Bernick\n",
    "    Date: March 21, 2013\n",
    "    This class calculates angles and distances among a triad of points.  \n",
    "    Points can be supplied in any dimensional space as long as they are consistent. \n",
    "    Points are supplied as tupels in n-dimensions, and there should be three of those to make the triad. \n",
    "    Each point is positionally named as p,q,r and the corresponding angles are then angleP, angleQ and angleR.\n",
    "    Distances are given by dPQ(), dPR() and dQR()\n",
    "    \n",
    "    Required Modules: math\n",
    "    initialization: 3 positional tuples representing Points in n-space\n",
    "        p1 = Triad( p=(1,0,0), q=(0,0,0), r=(0,1,0) )\n",
    "        \n",
    "    attributes: p,q,r the 3 tuples representing points in N-space\n",
    "    \n",
    "    methods:  angleP(), angleR(), angleQ() angles measured in radians\n",
    "          dPQ(), dPR(), dQR() distances in the same units of p,q,r\n",
    "    \"\"\"\n",
    " "
   ]
  },
  {
   "cell_type": "code",
   "execution_count": null,
   "metadata": {
    "collapsed": true,
    "slideshow": {
     "slide_type": "slide"
    }
   },
   "outputs": [],
   "source": [
    "class Triad :\n",
    "    def __init__(self,p,q,r) :\n",
    "        self.p = p\n",
    "        self.q = q\n",
    "        self.r = r\n",
    "# private helper methods\n",
    "    def d2 (self,a,b) : # calculate squared distance of point a to b\n",
    "        return float(sum((ia-ib)*(ia-ib) for ia,ib in zip (a,b)))\n",
    "    \n",
    "    def dot (self,a,b) :# dotProd of standard vectors a,b\n",
    "        return float(sum(ia*ib for ia,ib in zip(a,b)))\n",
    "    \n",
    "    def ndot (self,a,b,c) : # dotProd of vec. a,c standardized to b\n",
    "        return float(sum((ia-ib)*(ic-ib) for ia,ib,ic in zip (a,b,c)))\n",
    "    "
   ]
  },
  {
   "cell_type": "code",
   "execution_count": null,
   "metadata": {
    "collapsed": true,
    "slideshow": {
     "slide_type": "subslide"
    }
   },
   "outputs": [],
   "source": [
    "# calculate lengths(distances) of segments PQ, PR and QR\n",
    "    def dPQ (self):\n",
    "        return math.sqrt(self.d2(self.p,self.q))\n",
    "    \n",
    "    def dPR (self):\n",
    "        return math.sqrt(self.d2(self.p,self.r))\n",
    "    \n",
    "    def dQR (self):\n",
    "        return math.sqrt(self.d2(self.q,self.r))\n",
    "    \n",
    "# calculate angles(in radians) at points P, Q and R \u2028",
    "# angle routines use the standardized dot product over the product of the 2 adjacent sides\u2028",
    "  \n",
    "    def angleP (self) :\n",
    "        return math.acos(self.ndot(self.q,self.p,self.r) /    math.sqrt(self.d2(self.q,self.p)*self.d2(self.r,self.p)))\n",
    "    \n",
    "    def angleQ (self) :\n",
    "        return math.acos(self.ndot(self.p,self.q,self.r) /  math.sqrt(self.d2(self.p,self.q)*self.d2(self.r,self.q)))\n",
    " \n",
    "    def angleR (self) :\n",
    "        return math.acos(self.ndot(self.p,self.r,self.q) /  math.sqrt(self.d2(self.p,self.r)*self.d2(self.q,self.r)))\n",
    " "
   ]
  },
  {
   "cell_type": "markdown",
   "metadata": {
    "slideshow": {
     "slide_type": "slide"
    }
   },
   "source": [
    "## Example: Triad.\\_\\_init\\_\\_"
   ]
  },
  {
   "cell_type": "code",
   "execution_count": null,
   "metadata": {
    "collapsed": true,
    "slideshow": {
     "slide_type": "fragment"
    }
   },
   "outputs": [],
   "source": [
    "def __init__(self,p,q,r) :\n",
    "        self.p = p\n",
    "        self.q = q\n",
    "        self.r = r"
   ]
  },
  {
   "cell_type": "markdown",
   "metadata": {
    "slideshow": {
     "slide_type": "fragment"
    }
   },
   "source": [
    " - __init__ creates object attributes p, q and r\n",
    " - the object is named self\n",
    " - the parameters to \\_\\_init\\_\\_ are named: self, p, q, r\n",
    " - p, q and r: tuples(x,y,z) representing points in 3-space\n",
    " - self: provided to all methods automatically, and refers to the object being constructed\n",
    " "
   ]
  },
  {
   "cell_type": "markdown",
   "metadata": {
    "slideshow": {
     "slide_type": "slide"
    }
   },
   "source": [
    "# Example: Triad.dot()\n",
    "$$\\begin{aligned} \n",
    "P \\cdot R&=\\sum_{i=1}^{n}{P_{i}R_{i}}\\\\\n",
    "         &=P_1 R_1 + P_2 R_2 + P_3 R_3 + ... + P_n R_n\n",
    "   \\end{aligned}$$"
   ]
  },
  {
   "cell_type": "code",
   "execution_count": null,
   "metadata": {
    "collapsed": true,
    "slideshow": {
     "slide_type": "fragment"
    }
   },
   "outputs": [],
   "source": [
    "def dot (self,a,b) :# dotProd of standard vectors a,b\n",
    "    return float(sum(ia*ib for ia,ib in zip(a,b)))"
   ]
  },
  {
   "cell_type": "markdown",
   "metadata": {
    "slideshow": {
     "slide_type": "fragment"
    }
   },
   "source": [
    " - .dot() implements the standard dot product, it uses parameters a and b which name tuples of (x,y,z)\n",
    " - how does it work:"
   ]
  },
  {
   "cell_type": "code",
   "execution_count": null,
   "metadata": {
    "collapsed": true,
    "slideshow": {
     "slide_type": "fragment"
    }
   },
   "outputs": [],
   "source": [
    "myZip = zip(a,b)        # build a zip object\n",
    "myList = list(myZip)    # make a zipped list\n",
    "newList = []            # create product empty list\n",
    "for ia,ib in myList: \n",
    "    newList.append(ia*ib) # build the products\n",
    "mySum = sum(newList)    # now the sum of products"
   ]
  },
  {
   "cell_type": "markdown",
   "metadata": {
    "slideshow": {
     "slide_type": "slide"
    }
   },
   "source": [
    "# Example: Simple parsing\n",
    "Lets say we have an input string and we want that data in a numeric tuple:"
   ]
  },
  {
   "cell_type": "code",
   "execution_count": null,
   "metadata": {
    "collapsed": true,
    "slideshow": {
     "slide_type": "fragment"
    }
   },
   "outputs": [],
   "source": [
    "inStr = 'p= (37.3, 48.3, 54.3)'"
   ]
  },
  {
   "cell_type": "markdown",
   "metadata": {
    "slideshow": {
     "slide_type": "fragment"
    }
   },
   "source": [
    "## Strategy:\n",
    "setup the string to allow .split() to isolate the values"
   ]
  },
  {
   "cell_type": "code",
   "execution_count": null,
   "metadata": {
    "collapsed": true,
    "slideshow": {
     "slide_type": "fragment"
    }
   },
   "outputs": [],
   "source": [
    "t1 = inStr.replace ('(', ',') # change ( to ,\n",
    "t2 = t1.replace (')', ',')    # change ) to ,\n",
    "l  = t2.split (',')           # split on ,\n",
    "\n",
    "newTuple = (float(l[1]),float(l[2]), float(l[3]) )"
   ]
  },
  {
   "cell_type": "markdown",
   "metadata": {
    "slideshow": {
     "slide_type": "slide"
    }
   },
   "source": [
    "# Final Project\n",
    "## Deliverables\n",
    "\n",
    "##  Report\n",
    " - Introduce problem, why important and how programming will help\n",
    " - Description of programming concepts implemented and algorithms used to complete program\n",
    " - Write-up of results and discussion/interpretation\n",
    "     - how well does the code perform\n",
    "     - how could it be extended to other problems\n",
    "\n",
    "## Poster\n",
    " - Provide quick overview of problem\n",
    " - Describe one or two main challenges to solving this problem and how you overcame them\n",
    " - Show the results of your program\n",
    " - Next steps"
   ]
  },
  {
   "cell_type": "markdown",
   "metadata": {
    "slideshow": {
     "slide_type": "slide"
    }
   },
   "source": [
    "# Final Project Examples\n",
    " - Identifying sequence motifs associated with human disease in alternative genes\n",
    " - Performing statistical tests on a large dataset (microarray, facs populations, deep-seq, etc)\n",
    " - Performing sequence manipulations and statistical gathering for individual and multiple sequences\n",
    " - Simulating metabolic pathways or cellular processes\n",
    " - FASTQ conversion - Phred+33, Phred+64, Solexa+64, Sanger "
   ]
  }
 ],
 "metadata": {
  "celltoolbar": "Slideshow",
  "kernelspec": {
   "display_name": "Python 3",
   "language": "python",
   "name": "python3"
  },
  "language_info": {
   "codemirror_mode": {
    "name": "ipython",
    "version": 3
   },
   "file_extension": ".py",
   "mimetype": "text/x-python",
   "name": "python",
   "nbconvert_exporter": "python",
   "pygments_lexer": "ipython3",
   "version": "3.7.6"
  },
  "pycharm": {
   "stem_cell": {
    "cell_type": "raw",
    "source": [],
    "metadata": {
     "collapsed": false
    }
   }
  }
 },
 "nbformat": 4,
 "nbformat_minor": 2
}