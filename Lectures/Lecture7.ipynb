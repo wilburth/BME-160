{
 "cells": [
  {
   "cell_type": "markdown",
   "metadata": {
    "slideshow": {
     "slide_type": "slide"
    }
   },
   "source": [
    "# Research Programming in the Life Sciences\n",
    "## functions, modules and files \n",
    "\n",
    "- David L. Bernick, PhD\n",
    "- Biomolecular Engineering\n",
    "- Baskin School of Engineering\n",
    "- UCSC"
   ]
  },
  {
   "cell_type": "markdown",
   "metadata": {
    "slideshow": {
     "slide_type": "slide"
    }
   },
   "source": [
    "# Homework\n",
    " \n",
    "## Reading\n",
    " - Functions (and methods) - Model Ch 2. pp 24-29\n",
    " - Modules - Model Ch 2.  pp 34-41, 44\n",
    " - Namespaces - Model Ch 2. pp 21-22, 27, 34-37\n",
    " \n",
    "## Lab\n",
    " - Lab 4 due next Monday\n",
    " - submit in “assignments” section of Canvas"
   ]
  },
  {
   "cell_type": "markdown",
   "metadata": {
    "slideshow": {
     "slide_type": "slide"
    }
   },
   "source": [
    "# Questions:\n",
    "## Feedback\n",
    " - Class pace\n",
    " - Keeping up with reading\n",
    " - Textbook\n",
    " - More..."
   ]
  },
  {
   "cell_type": "markdown",
   "metadata": {
    "slideshow": {
     "slide_type": "slide"
    }
   },
   "source": [
    "# Overview\n",
    " - Functions\n",
    " - Namespaces\n",
    " - Modules\n",
    " - Resources"
   ]
  },
  {
   "cell_type": "markdown",
   "metadata": {
    "slideshow": {
     "slide_type": "slide"
    }
   },
   "source": [
    "# Functions: General Concept\n",
    "A function is a compound statement block \n",
    "![Functions](Lecture7Functions.png)\n",
    " - Name the function (def) using the def header line\n",
    " - Code for the function is provided as an indented suite\n",
    " - Results of the function calculation can be __*return*__ed\n",
    " - Arguments are passed to the function by the caller, enclosed in ( )\n",
    " - Arguments are seen by the function as named parameters"
   ]
  },
  {
   "cell_type": "markdown",
   "metadata": {
    "slideshow": {
     "slide_type": "slide"
    }
   },
   "source": [
    "# Functions: advantages\n",
    " - Allows you to reuse code\n",
    " - Easier to test your code\n",
    " - Organizes your code\n",
    " - More reliable/robust code\n",
    " - Speeds up development time\n",
    " - Break up into smaller problems\n",
    " - Caller is only concerned with inputs and outputs"
   ]
  },
  {
   "cell_type": "markdown",
   "metadata": {
    "slideshow": {
     "slide_type": "slide"
    }
   },
   "source": [
    "# Functions: Definition\n",
    "A function consists of:\n",
    " - def\n",
    " - name\n",
    " - input parameters (zero or more)\n",
    " - docstrings\n",
    " - set of statements in a code suite (indentation)\n",
    " - return value(s) - optionally"
   ]
  },
  {
   "cell_type": "code",
   "execution_count": null,
   "metadata": {
    "slideshow": {
     "slide_type": "fragment"
    }
   },
   "outputs": [],
   "source": [
    "def addTwo (x, y):\n",
    "    \"\"\"Return the sum of two values.\"\"\"\n",
    "    s = x + y\n",
    "    return s\n",
    "\n",
    "def undecided ():\n",
    "    pass"
   ]
  },
  {
   "cell_type": "markdown",
   "metadata": {
    "slideshow": {
     "slide_type": "slide"
    }
   },
   "source": [
    "# ProteinParam __init__"
   ]
  },
  {
   "cell_type": "code",
   "execution_count": null,
   "metadata": {
    "slideshow": {
     "slide_type": "fragment"
    }
   },
   "outputs": [],
   "source": [
    "class ProteinParam :\n",
    "    def __init__ (self, protein):\n",
    "        '''Build initial AA composition.'''\n",
    "  \n",
    "        self.aaComp = {\n",
    "            'A': 0, 'G': 0, 'M': 0, 'S': 0, 'C': 0,\n",
    "            'H': 0, 'N': 0, 'T': 0, 'D': 0, 'I': 0,\n",
    "            'P': 0, 'V': 0, 'E': 0, 'K': 0, 'Q': 0,\n",
    "            'W': 0, 'F': 0, 'L': 0, 'R': 0, 'Y': 0\n",
    "            }\n",
    "        # count symbols in protein\n",
    "        # ignoring any bad characters\n",
    "\n",
    "        for aa in protein.upper():\n",
    "            if aa in self.aaComp: # count valid AA\n",
    "                self.aaComp[aa] += 1"
   ]
  },
  {
   "cell_type": "markdown",
   "metadata": {
    "slideshow": {
     "slide_type": "slide"
    }
   },
   "source": [
    "# molecular Weight"
   ]
  },
  {
   "cell_type": "code",
   "execution_count": null,
   "metadata": {
    "slideshow": {
     "slide_type": "fragment"
    }
   },
   "outputs": [],
   "source": [
    "def molecularWeight (self):\n",
    "    ''' Determine the molecular weight of the protein, in daltons.'''\n",
    "        \n",
    "    aa2mw = {\n",
    "        'A':  89.093,'G':  75.067,'M': 149.211,'S': 105.093,'C': 121.158,\n",
    "        'H': 155.155,'N': 132.118,'T': 119.119,'D': 133.103,'I': 131.173,\n",
    "        'P': 115.131,'V': 117.146,'E': 147.129,'K': 146.188,'Q': 146.145,\n",
    "        'W': 204.225,'F': 165.189,'L': 131.173,'R': 174.201,'Y': 181.189\n",
    "        }\n",
    "    mwH2O = 18.015 # the molecular weight of water\n",
    "       \n",
    "    # for each AA in the composition, find their MW and add to the total\n",
    "    totalMW = 0.0\n",
    "    # iterate over the previously calculated aa Composition\n",
    "    \n",
    "            \n",
    "    # subtract the weight of water \n",
    "    # removed by peptide bond formation\n",
    "    # make sure to deal with cases where there are fewer then 2 valid AAs\n",
    "    \n",
    "\n",
    "    return totalMW"
   ]
  },
  {
   "cell_type": "markdown",
   "metadata": {
    "slideshow": {
     "slide_type": "slide"
    }
   },
   "source": [
    "# Functions: Input Parameters\n",
    " - A function has zero or more input parameters\n",
    " - optional parameters have \"default\" values"
   ]
  },
  {
   "cell_type": "code",
   "execution_count": null,
   "metadata": {
    "slideshow": {
     "slide_type": "fragment"
    }
   },
   "outputs": [],
   "source": [
    "def cutDNA (seq, RE='GAATTC', offset=1):\n",
    "    '''Split a DNA sequence based on a RE match.'''\n",
    "    newSeq = []\n",
    "    tmpSeq = seq\n",
    "    matchPos = tmpSeq.find(RE)\n",
    "    while matchPos > 0:\n",
    "        cutPos = matchPos + offset\n",
    "        newSeq.append(tmpSeq[:cutPos])\n",
    "        tmpSeq = tmpSeq[cutPos:]\n",
    "        matchPos = tmpSeq.find(RE)\n",
    "    newSeq.append(tmpSeq)\n",
    "    return newSeq"
   ]
  },
  {
   "cell_type": "markdown",
   "metadata": {
    "slideshow": {
     "slide_type": "slide"
    }
   },
   "source": [
    "# Nested Functions\n",
    " - functions can call functions, \n",
    " - even themselves (recursive)\n",
    " - and have distinct namespaces\n",
    "![Call Return Tree](Lecture7CallReturn.png)"
   ]
  },
  {
   "cell_type": "markdown",
   "metadata": {
    "slideshow": {
     "slide_type": "slide"
    }
   },
   "source": [
    "# Function Summary\n",
    " - Perform a specific task \n",
    " - Define their own namespace\n",
    " - Components of a function:\n",
    "\n",
    " - def, name, parameters (defaults), return\n",
    " - docstrings\n",
    " - pass (useful for initial design)\n",
    " - assert* and error handling\n",
    " - nested functions calls"
   ]
  },
  {
   "cell_type": "markdown",
   "metadata": {
    "slideshow": {
     "slide_type": "slide"
    }
   },
   "source": [
    "# Namespace\n",
    "Python names are only unique to a “Namespace”\n",
    "![Namespaces](Lecture7Namespaces.png)\n",
    " - pH in the .pI() namespace \n",
    " - pH in the .charge() namespace"
   ]
  },
  {
   "cell_type": "markdown",
   "metadata": {
    "slideshow": {
     "slide_type": "slide"
    }
   },
   "source": [
    "# Namespaces Continued\n",
    " - names in different namespaces are unrelated"
   ]
  },
  {
   "cell_type": "code",
   "execution_count": 1,
   "metadata": {
    "slideshow": {
     "slide_type": "fragment"
    }
   },
   "outputs": [
    {
     "name": "stdout",
     "output_type": "stream",
     "text": [
      "0\n",
      "1\n",
      "2\n",
      "a equals 0\n",
      "b equals 5\n"
     ]
    },
    {
     "ename": "NameError",
     "evalue": "name 'c' is not defined",
     "output_type": "error",
     "traceback": [
      "\u001B[1;31m---------------------------------------------------------------------------\u001B[0m",
      "\u001B[1;31mNameError\u001B[0m                                 Traceback (most recent call last)",
      "\u001B[1;32m<ipython-input-1-898987e25e3c>\u001B[0m in \u001B[0;36m<module>\u001B[1;34m\u001B[0m\n\u001B[0;32m     10\u001B[0m \u001B[0mprint\u001B[0m \u001B[1;33m(\u001B[0m\u001B[1;34m\"a equals {}\"\u001B[0m\u001B[1;33m.\u001B[0m\u001B[0mformat\u001B[0m\u001B[1;33m(\u001B[0m\u001B[0ma\u001B[0m\u001B[1;33m)\u001B[0m\u001B[1;33m)\u001B[0m\u001B[1;33m\u001B[0m\u001B[1;33m\u001B[0m\u001B[0m\n\u001B[0;32m     11\u001B[0m \u001B[0mprint\u001B[0m \u001B[1;33m(\u001B[0m\u001B[1;34m\"b equals {}\"\u001B[0m\u001B[1;33m.\u001B[0m\u001B[0mformat\u001B[0m\u001B[1;33m(\u001B[0m\u001B[0mb\u001B[0m\u001B[1;33m)\u001B[0m\u001B[1;33m)\u001B[0m\u001B[1;33m\u001B[0m\u001B[1;33m\u001B[0m\u001B[0m\n\u001B[1;32m---> 12\u001B[1;33m \u001B[0mprint\u001B[0m \u001B[1;33m(\u001B[0m\u001B[1;34m\"c equals {}\"\u001B[0m\u001B[1;33m.\u001B[0m\u001B[0mformat\u001B[0m\u001B[1;33m(\u001B[0m\u001B[0mc\u001B[0m\u001B[1;33m)\u001B[0m\u001B[1;33m)\u001B[0m\u001B[1;33m\u001B[0m\u001B[1;33m\u001B[0m\u001B[0m\n\u001B[0m\u001B[0;32m     13\u001B[0m \u001B[1;33m\u001B[0m\u001B[0m\n",
      "\u001B[1;31mNameError\u001B[0m: name 'c' is not defined"
     ]
    }
   ],
   "source": [
    "a = 0\n",
    "def nsExample(a):\n",
    "    c = 5\n",
    "    while a < 3:\n",
    "        print (a)\n",
    "        a += 1\n",
    "    return c\n",
    "\n",
    "b = nsExample(a)\n",
    "print (\"a equals {}\".format(a)) \n",
    "print (\"b equals {}\".format(b)) \n",
    "print (\"c equals {}\".format(c))"
   ]
  },
  {
   "cell_type": "markdown",
   "metadata": {
    "slideshow": {
     "slide_type": "slide"
    }
   },
   "source": [
    "# namespaces of functions\n",
    " - methods and functions have their own namespaces\n",
    " - for example:"
   ]
  },
  {
   "cell_type": "code",
   "execution_count": 2,
   "metadata": {
    "slideshow": {
     "slide_type": "fragment"
    }
   },
   "outputs": [
    {
     "name": "stdout",
     "output_type": "stream",
     "text": [
      "4 5\n"
     ]
    }
   ],
   "source": [
    "def plusplus (y):\n",
    "    y += 1\n",
    "    return y\n",
    "\n",
    "someOtherX = 4\n",
    "z = plusplus (someOtherX)\n",
    "print (someOtherX,z)\n",
    "\n"
   ]
  },
  {
   "cell_type": "markdown",
   "metadata": {
    "slideshow": {
     "slide_type": "slide"
    }
   },
   "source": [
    "# namespace in Functions\n",
    " - Namespace defines the scope(use) of a name\n",
    " - A name’s namespace is established by its defining block\n",
    " - All blocks contained in the defining block have access to that name\n",
    " - A function defines its own block, \n",
    " - recursive functions have recursively defined namespaces"
   ]
  },
  {
   "cell_type": "markdown",
   "metadata": {
    "slideshow": {
     "slide_type": "slide"
    }
   },
   "source": [
    "# Modularity\n",
    "decomposing a system into smaller “modules”"
   ]
  },
  {
   "cell_type": "markdown",
   "metadata": {
    "slideshow": {
     "slide_type": "slide"
    }
   },
   "source": [
    "# Code modularity\n",
    "Suppose that your work includes physical and chemical characterization of biological sequences\n",
    " - Count bases\n",
    " - Count amino acids\n",
    " - Calculate hydrophobic amino acids\n",
    " - Calculate hydrophilic amino acids\n",
    " - Calculate GC-richness of a sequence\n",
    " - Calculate molecular weight\n",
    " - Calculate codon usage"
   ]
  },
  {
   "cell_type": "markdown",
   "metadata": {
    "slideshow": {
     "slide_type": "slide"
    }
   },
   "source": [
    "# Python Modules\n",
    "contain classes, methods, functions, andconstant data that allow you to:\n",
    "- reuse functions that you often need\n",
    "- organize your code so it's easier to read and write\n",
    "- reduce the time to develop new function\n",
    "- hold data (usually constants)"
   ]
  },
  {
   "cell_type": "markdown",
   "metadata": {
    "slideshow": {
     "slide_type": "slide"
    }
   },
   "source": [
    "# Module: Import\n",
    " - To get access to a module's contents, use the import statement\n",
    " ![Importing](Lecture7Importing.png)\n",
    " "
   ]
  },
  {
   "cell_type": "markdown",
   "metadata": {
    "slideshow": {
     "slide_type": "slide"
    }
   },
   "source": [
    "# Some Useful Modules\n",
    " - os: \n",
    "     - collection of > 150 functions and > 50 different data definitions specific to the operating system you're running on\n",
    "     - http://docs.python.org/library/os\n",
    " - math: \n",
    "     - collection of 40 mathematical functions and 2 data definitions (e, pi)\n",
    "     - http://docs.python.org/library/math\n",
    " - sys: \n",
    "     - collection of > 20 functions and > 40 different data definitions for interacting with the interpreter\n",
    "     - http://docs.python.org/library/sys"
   ]
  },
  {
   "cell_type": "markdown",
   "metadata": {
    "slideshow": {
     "slide_type": "slide"
    }
   },
   "source": [
    "# Importing and Using Modules"
   ]
  },
  {
   "cell_type": "code",
   "execution_count": null,
   "metadata": {
    "slideshow": {
     "slide_type": "fragment"
    }
   },
   "outputs": [],
   "source": [
    "import math\n",
    "# calculate sqrt\n",
    "math.sqrt(9)\n",
    "\n",
    "# determine natural log – ln(x)\n",
    "math.log(1)\n",
    "\n",
    "# determine log base 2\n",
    "math.log(8, 2)\n",
    "\n",
    "# calculate sine of π/2\n",
    "math.sin(math.pi/2)"
   ]
  },
  {
   "cell_type": "markdown",
   "metadata": {
    "slideshow": {
     "slide_type": "slide"
    }
   },
   "source": [
    "# Module: Selective Import\n",
    " - 3 variations of selective import\n",
    " - __from modulname import * should be avoided__\n",
    " ![Selective Import](Lecture7SelectiveImport.png)"
   ]
  },
  {
   "cell_type": "markdown",
   "metadata": {
    "slideshow": {
     "slide_type": "slide"
    }
   },
   "source": [
    "# Selective Import of a Module"
   ]
  },
  {
   "cell_type": "code",
   "execution_count": 3,
   "metadata": {
    "slideshow": {
     "slide_type": "fragment"
    }
   },
   "outputs": [
    {
     "ename": "NameError",
     "evalue": "name 'math' is not defined",
     "output_type": "error",
     "traceback": [
      "\u001B[0;31m---------------------------------------------------------------------------\u001B[0m",
      "\u001B[0;31mNameError\u001B[0m                                 Traceback (most recent call last)",
      "\u001B[0;32m<ipython-input-3-66d5729220bd>\u001B[0m in \u001B[0;36m<module>\u001B[0;34m\u001B[0m\n\u001B[1;32m     10\u001B[0m \u001B[0;34m\u001B[0m\u001B[0m\n\u001B[1;32m     11\u001B[0m \u001B[0;31m# calculate sin of π/2\u001B[0m\u001B[0;34m\u001B[0m\u001B[0;34m\u001B[0m\u001B[0;34m\u001B[0m\u001B[0m\n\u001B[0;32m---> 12\u001B[0;31m \u001B[0mmath\u001B[0m\u001B[0;34m.\u001B[0m\u001B[0msin\u001B[0m\u001B[0;34m(\u001B[0m\u001B[0mmath\u001B[0m\u001B[0;34m.\u001B[0m\u001B[0mpi\u001B[0m\u001B[0;34m/\u001B[0m\u001B[0;36m2\u001B[0m\u001B[0;34m)\u001B[0m   \u001B[0;31m# produces an error (wasn't imported and math not defined)\u001B[0m\u001B[0;34m\u001B[0m\u001B[0;34m\u001B[0m\u001B[0m\n\u001B[0m",
      "\u001B[0;31mNameError\u001B[0m: name 'math' is not defined"
     ]
    }
   ],
   "source": [
    "from math import sqrt, log\n",
    "# calculate sqrt\n",
    "sqrt(9)        # don't need math.\n",
    "\n",
    "# determine natural log – ln(x)\n",
    "log(1)         # don't need math.\n",
    "\n",
    "# determine log base 2\n",
    "log(8, 2)      # don't need math.\n",
    "\n",
    "# calculate sin of π/2\n",
    "math.sin(math.pi/2)   # produces an error (wasn't imported and math not defined)"
   ]
  },
  {
   "cell_type": "markdown",
   "metadata": {
    "slideshow": {
     "slide_type": "slide"
    }
   },
   "source": [
    "# Create Your Own Module\n",
    "Different programs that need access to the same functions or constant data tables\n",
    " - Examples:\n",
    "     - codon to AA tables (lab 2, 3 and 4)\n",
    "     - DNAstring class\n",
    " - Future ideas:\n",
    "     - aaComposition (lab 3 and 4) if we could figure out how to use the codon table\n",
    "     - reading fastA files (lab4 and nice for lab 3 ?)\n",
    "     - calculateMW.py and calculateEC.py from lab 3, if only they read an aaComposition"
   ]
  },
  {
   "cell_type": "markdown",
   "metadata": {
    "slideshow": {
     "slide_type": "slide"
    }
   },
   "source": [
    "# Including Our New Module\n",
    "Write modules to reuse common data and functions whenever possible"
   ]
  },
  {
   "cell_type": "code",
   "execution_count": null,
   "metadata": {
    "slideshow": {
     "slide_type": "fragment"
    }
   },
   "outputs": [],
   "source": [
    "import sequenceAnalysis\n",
    "sequenceAnalysis.NucParams.rnaCodonTable\n",
    "\n",
    "# or\n",
    "\n",
    "from sequenceAnalysis import NucParams\n",
    "myNucParams = NucParams('ATGAAACCCGGGTAG')\n",
    "\n",
    "# or\n",
    "\n",
    "from sequenceAnalysis import NucParams as NucStuf\n",
    "myNucParams = NucStuf('ATGAAACCCGGGTAG')"
   ]
  },
  {
   "cell_type": "markdown",
   "metadata": {
    "slideshow": {
     "slide_type": "slide"
    }
   },
   "source": [
    "# Modules Summary\n",
    "Allows us to collect related classes, functions and constants into a single file. These can then be shared using import"
   ]
  },
  {
   "cell_type": "code",
   "execution_count": null,
   "metadata": {
    "slideshow": {
     "slide_type": "fragment"
    }
   },
   "outputs": [],
   "source": [
    "import mod1 # makes all of mod1 available as mod1.func1\n",
    "from mod1 import func1 # makes func1 available as func1\n",
    "\n",
    "from mod1 import func1 as newname # makes func1 available as newname"
   ]
  },
  {
   "cell_type": "markdown",
   "metadata": {
    "slideshow": {
     "slide_type": "fragment"
    }
   },
   "source": [
    " - Allows you to reuse and share components \n",
    " - Avoid:"
   ]
  },
  {
   "cell_type": "code",
   "execution_count": null,
   "metadata": {
    "slideshow": {
     "slide_type": "fragment"
    }
   },
   "outputs": [],
   "source": [
    "from mod1 import *"
   ]
  },
  {
   "cell_type": "markdown",
   "metadata": {
    "slideshow": {
     "slide_type": "slide"
    }
   },
   "source": [
    "# Codon resources\n",
    " - Codon usage database\n",
    "     - http://www.kazusa.or.jp/codon/readme_codon.html\n",
    " - cusp\n",
    "     - search for “cusp” at http://mobyle.pasteur.fr/cgi-bin/portal.py"
   ]
  },
  {
   "cell_type": "markdown",
   "metadata": {
    "slideshow": {
     "slide_type": "slide"
    }
   },
   "source": [
    "##### Final Project: Proposal\n",
    "February 5, abstracts due"
   ]
  }
 ],
 "metadata": {
  "celltoolbar": "Slideshow",
  "kernelspec": {
   "display_name": "Python 3",
   "language": "python",
   "name": "python3"
  },
  "language_info": {
   "codemirror_mode": {
    "name": "ipython",
    "version": 3
   },
   "file_extension": ".py",
   "mimetype": "text/x-python",
   "name": "python",
   "nbconvert_exporter": "python",
   "pygments_lexer": "ipython3",
   "version": "3.7.6"
  }
 },
 "nbformat": 4,
 "nbformat_minor": 2
}