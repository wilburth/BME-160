{
 "cells": [
  {
   "cell_type": "markdown",
   "metadata": {
    "slideshow": {
     "slide_type": "slide"
    }
   },
   "source": [
    "# Research Programming in the Life Sciences\n",
    "## Data containers, naming and conditionals \n",
    "\n",
    "- David L. Bernick, PhD\n",
    "- Biomolecular Engineering\n",
    "- Baskin School of Engineering\n",
    "- UCSC"
   ]
  },
  {
   "cell_type": "markdown",
   "metadata": {
    "slideshow": {
     "slide_type": "slide"
    }
   },
   "source": [
    "# Homework\n",
    "## Reading\n",
    " - Model, Chs 1, 2 and 3 pgs. 47-78\n",
    " - Model, Appendix A and B"
   ]
  },
  {
   "cell_type": "markdown",
   "metadata": {
    "slideshow": {
     "slide_type": "slide"
    }
   },
   "source": [
    "# Overview\n",
    " - Lab 1 details\n",
    " - Debugging\n",
    " - Expressions, Naming and Methods\n",
    " - Collections I: sets, strings, ranges, & tuples"
   ]
  },
  {
   "cell_type": "markdown",
   "metadata": {
    "slideshow": {
     "slide_type": "slide"
    }
   },
   "source": [
    "# Lab 1 Details\n",
    " - __init__ and __new__  .. constructors\n",
    " - Python syntax…. ask google !!\n",
    " - Classes, objects, instantiation\n",
    " - string constants ? or string input ??\n",
    " - my name is {David} and I like {dog}s\n",
    "\n"
   ]
  },
  {
   "cell_type": "code",
   "execution_count": 1,
   "metadata": {
    "collapsed": true,
    "slideshow": {
     "slide_type": "fragment"
    },
    "pycharm": {
     "is_executing": false
    }
   },
   "outputs": [
    {
     "data": {
      "text/plain": "'\\nPlace docstrings at program, class, methods and functions. \\n\\nMake sure to verify program !\\n'"
     },
     "metadata": {},
     "output_type": "execute_result",
     "execution_count": 1
    }
   ],
   "source": [
    "'''\n",
    "Place docstrings at program, class, methods and functions. \n",
    "\n",
    "Make sure to verify program !\n",
    "'''"
   ]
  },
  {
   "cell_type": "markdown",
   "metadata": {
    "slideshow": {
     "slide_type": "slide"
    }
   },
   "source": [
    "# Lab 1 more details\n",
    "On pets…\n",
    "\n",
    "I really don’t want to know your Pet’s name .. \n",
    "just your Pet’s type\n",
    "\n",
    "I am David and I like Dogs"
   ]
  },
  {
   "cell_type": "markdown",
   "metadata": {
    "slideshow": {
     "slide_type": "slide"
    }
   },
   "source": [
    "# Pythonic naming conventions\n",
    "# camelCase\n",
    " - __\\_\\_xyzzy\\_\\___ these are language specific names\n",
    " - __\\_plough\\___ these are internal and private\n",
    " - classes are named upper __CamelCase__\n",
    " - methods are named lower __camelCase__"
   ]
  },
  {
   "cell_type": "markdown",
   "metadata": {
    "slideshow": {
     "slide_type": "slide"
    }
   },
   "source": [
    "# Expressions: Calls\n",
    "The simplest call is to invoke a function, which does something and returns a value"
   ]
  },
  {
   "cell_type": "code",
   "execution_count": 2,
   "metadata": {
    "collapsed": true,
    "slideshow": {
     "slide_type": "fragment"
    },
    "pycharm": {
     "is_executing": false
    }
   },
   "outputs": [
    {
     "traceback": [
      "\u001B[1;31m---------------------------------------------------------------------------\u001B[0m",
      "\u001B[1;31mNameError\u001B[0m                                 Traceback (most recent call last)",
      "\u001B[1;32m<ipython-input-2-fd84864e2c83>\u001B[0m in \u001B[0;36m<module>\u001B[1;34m\u001B[0m\n\u001B[1;32m----> 1\u001B[1;33m \u001B[0mlen\u001B[0m\u001B[1;33m(\u001B[0m\u001B[0marg\u001B[0m\u001B[1;33m)\u001B[0m    \u001B[1;31m# number of characters in arg\u001B[0m\u001B[1;33m\u001B[0m\u001B[1;33m\u001B[0m\u001B[0m\n\u001B[0m\u001B[0;32m      2\u001B[0m \u001B[0mlen\u001B[0m\u001B[1;33m(\u001B[0m\u001B[1;34m'TATA'\u001B[0m\u001B[1;33m)\u001B[0m\u001B[1;33m\u001B[0m\u001B[1;33m\u001B[0m\u001B[0m\n\u001B[0;32m      3\u001B[0m \u001B[0minput\u001B[0m\u001B[1;33m(\u001B[0m\u001B[1;33m)\u001B[0m     \u001B[1;31m# read in string\u001B[0m\u001B[1;33m\u001B[0m\u001B[1;33m\u001B[0m\u001B[0m\n\u001B[0;32m      4\u001B[0m \u001B[0mk\u001B[0m \u001B[1;33m=\u001B[0m \u001B[0minput\u001B[0m\u001B[1;33m(\u001B[0m\u001B[1;33m)\u001B[0m\u001B[1;33m\u001B[0m\u001B[1;33m\u001B[0m\u001B[0m\n\u001B[0;32m      5\u001B[0m \u001B[1;33m\u001B[0m\u001B[0m\n",
      "\u001B[1;31mNameError\u001B[0m: name 'arg' is not defined"
     ],
     "ename": "NameError",
     "evalue": "name 'arg' is not defined",
     "output_type": "error"
    }
   ],
   "source": [
    "len(arg)    # number of characters in arg\n",
    "len('TATA')\n",
    "input()     # read in string \n",
    "k = input()\n",
    "\n",
    "input('Prompt') # read in string with prompt\n",
    "k = input('what is your name ? ')"
   ]
  },
  {
   "cell_type": "markdown",
   "metadata": {
    "slideshow": {
     "slide_type": "slide"
    }
   },
   "source": [
    "# Type casting\n",
    " - Python automatically infers the type of a value.\n",
    "\n",
    " - If we need otherwise, types can be \"cast\" by a function call.\n",
    "\n",
    " - Properely stated: objects of a specific class can be instantiated using parameters of specific types"
   ]
  },
  {
   "cell_type": "code",
   "execution_count": null,
   "metadata": {
    "collapsed": true,
    "slideshow": {
     "slide_type": "fragment"
    }
   },
   "outputs": [],
   "source": [
    "str(arg)   # cast arg as string\n",
    "str(8)\n",
    "int(arg)   # cast arg as int\n",
    "int(3.14)\n",
    "float(arg) # cast arg as float\n",
    "float(7)"
   ]
  },
  {
   "cell_type": "markdown",
   "metadata": {
    "slideshow": {
     "slide_type": "slide"
    }
   },
   "source": [
    "# Printing Values\n",
    "\n",
    " -  Printing: a way to display or write values"
   ]
  },
  {
   "cell_type": "code",
   "execution_count": 1,
   "metadata": {},
   "outputs": [
    {
     "name": "stdout",
     "output_type": "stream",
     "text": [
      "ACTG\n",
      "1.200\n",
      "this is a test of the system\n",
      "this is a test of the system\n",
      "this is a test of the system\n"
     ]
    }
   ],
   "source": [
    "print(\"ACTG\")        # print string\n",
    "print(\"%0.3f\" % 1.2) # print formatted string\n",
    "\n",
    "print('this is a %s of the %s' % ('test', 'system') )\n",
    "print ('this is a {0} of the {1}'.format('test', 'system') )\n",
    "print ('this is a {this} of the {that}'.format(this='test', that='system') )"
   ]
  },
  {
   "cell_type": "markdown",
   "metadata": {
    "slideshow": {
     "slide_type": "slide"
    }
   },
   "source": [
    "# Expressions: Methods\n",
    " - methods are functions of a specific class\n",
    " - objects are instantiated (built) from methods and data described by a class "
   ]
  },
  {
   "cell_type": "code",
   "execution_count": null,
   "metadata": {
    "collapsed": true,
    "slideshow": {
     "slide_type": "fragment"
    }
   },
   "outputs": [],
   "source": [
    "string1.count('')  # count characters(+1)\n",
    "'TATAT'.count('A') # count 'A's\n",
    "student.printMe()"
   ]
  },
  {
   "cell_type": "markdown",
   "metadata": {
    "slideshow": {
     "slide_type": "fragment"
    }
   },
   "source": [
    " - if student is an instance of class Person,\n",
    "     - the student object can have a myName attribute and a .printMe() method\n",
    "     - and the student.printMe() method can display myName"
   ]
  },
  {
   "cell_type": "code",
   "execution_count": 1,
   "metadata": {
    "collapsed": true,
    "slideshow": {
     "slide_type": "fragment"
    }
   },
   "outputs": [],
   "source": [
    "class Person:\n",
    "    def __init__(self, pName):\n",
    "        self.myName = pName\n",
    "    def printMe(self):\n",
    "        print (self.myName)"
   ]
  },
  {
   "cell_type": "code",
   "execution_count": 2,
   "metadata": {
    "slideshow": {
     "slide_type": "fragment"
    }
   },
   "outputs": [
    {
     "name": "stdout",
     "output_type": "stream",
     "text": [
      "Fred\n"
     ]
    }
   ],
   "source": [
    "student = Person('Fred')\n",
    "student.printMe()"
   ]
  },
  {
   "cell_type": "markdown",
   "metadata": {
    "slideshow": {
     "slide_type": "slide"
    }
   },
   "source": [
    "# Naming Data\n",
    "In Python, a __name__ is assigned to an _object_ (a _value_ )\n",
    " - a __value__ has a _type_ \n",
    " - an __object__ is instantiated from a _class_.\n",
    "\n",
    "## Examples:"
   ]
  },
  {
   "cell_type": "code",
   "execution_count": 1,
   "metadata": {
    "slideshow": {
     "slide_type": "fragment"
    }
   },
   "outputs": [
    {
     "name": "stdout",
     "output_type": "stream",
     "text": [
      "3\n"
     ]
    }
   ],
   "source": [
    "x = 1 # the integer object is named x, and it has a value of 1 \n",
    "y = 2\n",
    "print(x + y)"
   ]
  },
  {
   "cell_type": "code",
   "execution_count": 2,
   "metadata": {
    "slideshow": {
     "slide_type": "fragment"
    }
   },
   "outputs": [
    {
     "name": "stdout",
     "output_type": "stream",
     "text": [
      "Good Morning\n"
     ]
    }
   ],
   "source": [
    "x = \"Good \" # the string object is named x, and it has a value of Good  \n",
    "y = \"Morning\"\n",
    "print(x + y) # operations ( + in this case) can have very different behavior based on the object they work on"
   ]
  },
  {
   "cell_type": "markdown",
   "metadata": {
    "slideshow": {
     "slide_type": "fragment"
    }
   },
   "source": [
    " - types seem a lot like Classes\n",
    " - values seem a lot like instances of those Classes"
   ]
  },
  {
   "cell_type": "markdown",
   "metadata": {
    "slideshow": {
     "slide_type": "slide"
    }
   },
   "source": [
    "# Names\n",
    "A Python name consists of an arbitrary number of letters, underscores, and digits\n",
    "\n",
    "## Examples:"
   ]
  },
  {
   "cell_type": "code",
   "execution_count": null,
   "metadata": {
    "collapsed": true,
    "slideshow": {
     "slide_type": "fragment"
    }
   },
   "outputs": [],
   "source": [
    "myName      # this is camelCase\n",
    "myOtherName # so is this\n",
    "my_VaRiAblE # this is... ugly :("
   ]
  },
  {
   "cell_type": "markdown",
   "metadata": {
    "slideshow": {
     "slide_type": "fragment"
    }
   },
   "source": [
    "## Avoid these"
   ]
  },
  {
   "cell_type": "code",
   "execution_count": null,
   "metadata": {
    "collapsed": true,
    "slideshow": {
     "slide_type": "fragment"
    }
   },
   "outputs": [],
   "source": [
    "1          # digits alone not allowed\n",
    "1myValue   # digits in pos 1 not allowed\n",
    "__myValue  # special meaning (later)"
   ]
  },
  {
   "cell_type": "markdown",
   "metadata": {
    "slideshow": {
     "slide_type": "slide"
    }
   },
   "source": [
    "# Assigning Names\n",
    "An assignment statement binds a name to an object\n",
    "\n",
    "In general:    __*name*__ is assigned to   __*object*__ with a value\n",
    "\n",
    "## Examples:"
   ]
  },
  {
   "cell_type": "code",
   "execution_count": null,
   "metadata": {
    "collapsed": true,
    "slideshow": {
     "slide_type": "fragment"
    }
   },
   "outputs": [],
   "source": [
    "studentAge = 20\n",
    "densityOfEthanol = 0.789\n",
    "greeting_to_User = \"Hello kind person\"\n",
    "shortPeptide = \"ATGGGCCTGTAA\""
   ]
  },
  {
   "cell_type": "markdown",
   "metadata": {
    "slideshow": {
     "slide_type": "fragment"
    }
   },
   "source": [
    "Important: pick descriptive names !!!"
   ]
  },
  {
   "cell_type": "markdown",
   "metadata": {
    "slideshow": {
     "slide_type": "slide"
    }
   },
   "source": [
    "# Conditional assignment\n",
    " - Consider the case where we have two values to choose from, __a__ and __b__ \n",
    " - we would like to choose based on some other value, __cond__"
   ]
  },
  {
   "cell_type": "code",
   "execution_count": null,
   "metadata": {
    "collapsed": true,
    "slideshow": {
     "slide_type": "fragment"
    }
   },
   "outputs": [],
   "source": [
    "outVal = a if cond==True else b\n",
    "outVal = (cond and a) or (not cond and b)   # short-circuit\n",
    "outVal = f(x) or g(x) or h(x) or j(x) or 'dontknow'"
   ]
  },
  {
   "cell_type": "markdown",
   "metadata": {
    "slideshow": {
     "slide_type": "fragment"
    }
   },
   "source": [
    "This is frequently useful !!  (lab2 for example)"
   ]
  },
  {
   "cell_type": "markdown",
   "metadata": {
    "slideshow": {
     "slide_type": "slide"
    }
   },
   "source": [
    "# Functions and Methods\n",
    "A function performs an operation on arguments in parentheses and returns the result of that operation\n",
    " - Function name\n",
    " - Number and type of arguments expected\n",
    " - FXN( arg1, arg2, etc )\n",
    " - name ( arguments )\n",
    " \n",
    "## Examples"
   ]
  },
  {
   "cell_type": "code",
   "execution_count": null,
   "metadata": {
    "collapsed": true,
    "slideshow": {
     "slide_type": "fragment"
    }
   },
   "outputs": [],
   "source": [
    "# Get the length of an object:\n",
    "polyA = \"AAAA\"\n",
    "lenPolyA = len(polyA)   # assigns the value 4\n",
    "\n",
    "# Get unicode number of a character:\n",
    "testChar = \"A\"\n",
    "unicodeNumber = ord(testChar) # gets 65"
   ]
  },
  {
   "cell_type": "markdown",
   "metadata": {
    "slideshow": {
     "slide_type": "slide"
    }
   },
   "source": [
    "# Functions and Methods\n",
    "A method is a function of a specific class.\n",
    " \n",
    " - <span style=\"color:violet\">object name</span>\n",
    " - <span style=\"color:blue\">method name</span>\n",
    " - <span style=\"color:green\">arguments</span>\n",
    "\n",
    "\n",
    "<span style=\"color:violet\">myobj</span>.\n",
    "<span style=\"color:blue\">method</span>\n",
    "<span style=\"color:green\">(arg1,arg2)</span>"
   ]
  },
  {
   "cell_type": "markdown",
   "metadata": {
    "slideshow": {
     "slide_type": "slide"
    }
   },
   "source": [
    "# Example Methods"
   ]
  },
  {
   "cell_type": "code",
   "execution_count": null,
   "metadata": {
    "collapsed": true,
    "slideshow": {
     "slide_type": "fragment"
    }
   },
   "outputs": [],
   "source": [
    "# Get the count of something in a string:\n",
    "DNAseq = \"AAAATGAATGGCTAACTTTTGAA\"\n",
    "numA = DNAseq.count(\"A\")  # returns the value 10\n",
    "\n",
    "str1.count(str2[, startpos[, endpos]])\n",
    "\n",
    "# Convert to lowercase letters:\n",
    "DNAseq = \"AAAATGAATGGCTAACTTTTGAA\"\n",
    "DNAseq.lower() # returns \"aaaatgaatggctaacttttgaa\"\n",
    "\n",
    "str1.lower()"
   ]
  },
  {
   "cell_type": "markdown",
   "metadata": {
    "slideshow": {
     "slide_type": "slide"
    }
   },
   "source": [
    "# Other Functions and Methods\n",
    " - Creating: str(), ord(), bytes()\n",
    " - Testing: .isalpha(), .isdigit(), .islower()\n",
    " - Searching: .find(), .index(), .count(), .rfind()\n",
    " - Replacing: .replace(), .translate()\n",
    " - Changing Case: .lower(), .upper(), .title()\n",
    " - Reformatting: .strip(), .ljust(), .center()\n",
    " \n",
    " Chapter 3, pages 54-58."
   ]
  },
  {
   "cell_type": "markdown",
   "metadata": {
    "slideshow": {
     "slide_type": "slide"
    }
   },
   "source": [
    "# Simple Bioinformatics Problem\n",
    "## Problem:\n",
    "Suppose you have received a sequence with an error that all \"a\"s need to be \"T\"s.<br>\n",
    "What do you do?\n",
    " \n",
    "## Solution:"
   ]
  },
  {
   "cell_type": "code",
   "execution_count": 1,
   "metadata": {
    "slideshow": {
     "slide_type": "fragment"
    }
   },
   "outputs": [
    {
     "name": "stdout",
     "output_type": "stream",
     "text": [
      "AaaTTTGGGCCC\n",
      "ATTTTTGGGCCC\n"
     ]
    }
   ],
   "source": [
    "origSeq = \"AaaTTTGGGCCC\"\n",
    "newSeq = origSeq.replace(\"a\", \"T\")\n",
    "print (origSeq)\n",
    "print (newSeq)"
   ]
  },
  {
   "cell_type": "markdown",
   "metadata": {
    "slideshow": {
     "slide_type": "slide"
    }
   },
   "source": [
    "# Data comes in different types\n",
    " - Simple types like numbers and strings\n",
    "     - Python infers data type\n",
    "         - __*Boolean, Integer, Float, String*__\n",
    " - More complex containers provide more efficient access to data\n",
    "     - We specify these containers\n",
    "         - __* Lists, Tuples, Sets, Dictionaries*__"
   ]
  },
  {
   "cell_type": "markdown",
   "metadata": {
    "slideshow": {
     "slide_type": "slide"
    }
   },
   "source": [
    "## Simple types"
   ]
  },
  {
   "cell_type": "code",
   "execution_count": 6,
   "metadata": {
    "slideshow": {
     "slide_type": "fragment"
    }
   },
   "outputs": [
    {
     "name": "stdout",
     "output_type": "stream",
     "text": [
      "True False\n",
      "1.02\n",
      "Alfred E. Newman\n"
     ]
    }
   ],
   "source": [
    "k = True\n",
    "l = (k == False)\n",
    "libra = 1.02\n",
    "student = \"Alfred E. Newman\"\n",
    "\n",
    "print (k,l)\n",
    "print (libra)\n",
    "print (student)"
   ]
  },
  {
   "cell_type": "markdown",
   "metadata": {
    "slideshow": {
     "slide_type": "slide"
    }
   },
   "source": [
    "## Collections\n",
    "\n",
    " - Order dependent collections are called lists or tuples\n",
    "     - Encapsulated in __*[ ] or ( )*__\n",
    "\n",
    " - Associations between data are called dictionaries\n",
    "     - Encapsulated in { }\n",
    "\n",
    " - Objects in a collection, or container, are called items or elements\n",
    " - Collections can:\n",
    "     - Hold any number of items, including mixed types\n",
    "     - Be ordered or unordered\n",
    "     - Be mutable or immutable"
   ]
  },
  {
   "cell_type": "markdown",
   "metadata": {
    "slideshow": {
     "slide_type": "slide"
    }
   },
   "source": [
    "# Categories of Collections\n",
    "## Sets\n",
    " - Accessed as a whole group\n",
    " - unordered, unique elements\n",
    "     "
   ]
  },
  {
   "cell_type": "code",
   "execution_count": 3,
   "metadata": {
    "slideshow": {
     "slide_type": "fragment"
    }
   },
   "outputs": [
    {
     "name": "stdout",
     "output_type": "stream",
     "text": [
      "{'K', 'M', 'G', 'S', 'A', 'H', 'Q', 'D', 'L', 'V', 'W', 'Y', 'C', 'P', 'N', 'I', 'T', 'F', 'E', 'R'}\n",
      "True\n"
     ]
    }
   ],
   "source": [
    "aSet = { 'EcoRI', 'EcoRII', 'PstI', 'BamHI'}\n",
    "oneLetterAAcode = set( 'ACDEFGHIKLMNPQRSTVWY')\n",
    "\n",
    "print (oneLetterAAcode)\n",
    "\n",
    "print('A' in oneLetterAAcode)"
   ]
  },
  {
   "cell_type": "markdown",
   "metadata": {
    "slideshow": {
     "slide_type": "slide"
    }
   },
   "source": [
    "# Categories of Collections\n",
    "## Sequences\n",
    " - Accessed by numerical indexes or by beginning and end\n",
    " - Ordered\n",
    "     "
   ]
  },
  {
   "cell_type": "code",
   "execution_count": 4,
   "metadata": {
    "slideshow": {
     "slide_type": "fragment"
    }
   },
   "outputs": [
    {
     "name": "stdout",
     "output_type": "stream",
     "text": [
      "['EcoRI', 'BamHI', 'XbaI']\n"
     ]
    }
   ],
   "source": [
    "aString = \"VLSPADKTN\"   # Strings \n",
    "aList = [\"EcoRI\",\"BamHI\",\"XbaI\"] # lists\n",
    "aRange = range(0,10)   # ranges\n",
    "aTuple = (1.0, 2.0, 3.0) # tuples\n",
    "\n",
    "print (aList)"
   ]
  },
  {
   "cell_type": "markdown",
   "metadata": {
    "slideshow": {
     "slide_type": "slide"
    }
   },
   "source": [
    "# Categories of Collections\n",
    "## Mappings\n",
    " - Accessed by keys\n",
    "     - Unordered collection of Key:value pairs\n",
    "         - codon tables, 3to1 letter tables, restriction enzyme maps"
   ]
  },
  {
   "cell_type": "code",
   "execution_count": 2,
   "metadata": {
    "slideshow": {
     "slide_type": "fragment"
    }
   },
   "outputs": [
    {
     "name": "stdout",
     "output_type": "stream",
     "text": [
      "{'TAG': 'amber', 'TAA': 'ochre', 'TGA': 'opal'}\n"
     ]
    }
   ],
   "source": [
    "stopCodons = {'TAG': 'amber' , \n",
    "              'TAA': 'ochre', \n",
    "              'TGA': 'opal'}\n",
    "print (stopCodons)"
   ]
  },
  {
   "cell_type": "markdown",
   "metadata": {
    "slideshow": {
     "slide_type": "slide"
    }
   },
   "source": [
    "# General Collection Operations"
   ]
  },
  {
   "cell_type": "code",
   "execution_count": 6,
   "metadata": {
    "slideshow": {
     "slide_type": "fragment"
    }
   },
   "outputs": [
    {
     "name": "stdout",
     "output_type": "stream",
     "text": [
      "True\n",
      "True\n",
      "TGA TAA\n",
      "['TGA', 'TAG', 'TAA']\n",
      "['amber', 'ochre', 'opal']\n"
     ]
    }
   ],
   "source": [
    "# The following methods are defined for all collections\n",
    "'TAG' in stopCodons     # True if stopCodons contains TAG\n",
    "'TAG' not in stopCodons # True if stopCodons does not contain TAG\n",
    "\n",
    "checkCodonLengths = all({len(k) == 3 for k in stopCodons.keys()}) \n",
    "print (checkCodonLengths)\n",
    "\n",
    "hasAmber = any({stopCodons[k] =='amber' for k in stopCodons.keys()}) \n",
    "print (hasAmber)\n",
    "\n",
    "bigCodon = max(stopCodons)\n",
    "smallCodon = min(stopCodons)\n",
    "print (bigCodon, smallCodon)\n",
    "\n",
    "sortCodons = sorted(stopCodons.keys(), reverse=True) \n",
    "print (sortCodons)\n",
    "\n",
    "sortValues = sorted(stopCodons.values())\n",
    "print (sortValues)"
   ]
  },
  {
   "cell_type": "markdown",
   "metadata": {
    "slideshow": {
     "slide_type": "slide"
    }
   },
   "source": [
    "# Sets { }\n",
    "Unordered collection of items that contain no duplicates"
   ]
  },
  {
   "cell_type": "code",
   "execution_count": 21,
   "metadata": {
    "collapsed": true,
    "slideshow": {
     "slide_type": "fragment"
    }
   },
   "outputs": [],
   "source": [
    "dnaBases = {'A', 'C', 'G', 'T'}\n",
    "rnaBases = {'A', 'C', 'G', 'U'}\n",
    "IDs = {'CP0140.1', 'EF3613.1', 'EF3616.1'}\n",
    "\n",
    "emptySet = set()\n",
    "nucleotides = set('TCAGTTAT')"
   ]
  },
  {
   "cell_type": "markdown",
   "metadata": {
    "slideshow": {
     "slide_type": "slide"
    }
   },
   "source": [
    "# Algebraic Set Operations\n",
    "*See Table 3-3 for operator and methods."
   ]
  },
  {
   "cell_type": "code",
   "execution_count": 1,
   "metadata": {
    "slideshow": {
     "slide_type": "fragment"
    }
   },
   "outputs": [
    {
     "name": "stdout",
     "output_type": "stream",
     "text": [
      "{1, 2, 3, 4} & {3, 4, 5, 6} intersection is: {3, 4}\n",
      "{1, 2, 3, 4} | {3, 4, 5, 6} union is: {1, 2, 3, 4, 5, 6}\n",
      "{1, 2, 3, 4} - {3, 4, 5, 6} difference is: {1, 2}\n",
      "{1, 2, 3, 4} ^ {3, 4, 5, 6} symmetric difference is: {1, 2, 5, 6}\n"
     ]
    }
   ],
   "source": [
    "a = { 1,2,3,4}\n",
    "b = { 3,4,5,6}\n",
    "\n",
    "# intersection\n",
    "print ( '{0} {2} {1} {4} is: {3}'.format(a,b,'&', a & b , 'intersection') )\n",
    "\n",
    "# Union\n",
    "print ( '{0} {2} {1} {4} is: {3}'.format( a,b,'|', a | b , 'union') )\n",
    "\n",
    "# Symmetric Difference\n",
    "print ( '{0} {2} {1} {4} is: {3}'.format( a,b,'-', a - b , 'difference'))\n",
    "\n",
    "# Difference \n",
    "print ( '{0} {2} {1} {4} is: {3}'.format( a,b,'^', a ^ b , 'symmetric difference'))"
   ]
  },
  {
   "cell_type": "markdown",
   "metadata": {
    "slideshow": {
     "slide_type": "slide"
    }
   },
   "source": [
    "## Other Set Operations\n",
    "See Tables 3-2 & 3-4 for set comparisons and updates (methods and operations)."
   ]
  },
  {
   "cell_type": "code",
   "execution_count": 6,
   "metadata": {
    "slideshow": {
     "slide_type": "fragment"
    }
   },
   "outputs": [
    {
     "name": "stdout",
     "output_type": "stream",
     "text": [
      "True\n",
      "True\n",
      "True\n"
     ]
    }
   ],
   "source": [
    "# Comparisons\n",
    "print ({1,2,3}.isdisjoint(set((4,5,6)))) # isdisjoint\n",
    "print ({1,2,3} <= {1,2,3,4} ) # set1.issubset(con1)\n",
    "print ({1,2,3,4} >= {1,2,3} )  # set1.issuperset(con1)"
   ]
  },
  {
   "cell_type": "code",
   "execution_count": 3,
   "metadata": {
    "slideshow": {
     "slide_type": "slide"
    }
   },
   "outputs": [
    {
     "name": "stdout",
     "output_type": "stream",
     "text": [
      "{1, 2, 3, 4}\n",
      "{1, 2, 3}\n",
      "{1, 2, 3}\n"
     ]
    },
    {
     "ename": "KeyError",
     "evalue": "4",
     "output_type": "error",
     "traceback": [
      "\u001B[0;31m---------------------------------------------------------------------------\u001B[0m",
      "\u001B[0;31mKeyError\u001B[0m                                  Traceback (most recent call last)",
      "\u001B[0;32m<ipython-input-3-b91aa584bb2d>\u001B[0m in \u001B[0;36m<module>\u001B[0;34m()\u001B[0m\n\u001B[1;32m      7\u001B[0m \u001B[0mk\u001B[0m\u001B[0;34m.\u001B[0m\u001B[0mdiscard\u001B[0m\u001B[0;34m(\u001B[0m\u001B[0;36m4\u001B[0m\u001B[0;34m)\u001B[0m \u001B[0;31m# discard again, no keyError\u001B[0m\u001B[0;34m\u001B[0m\u001B[0m\n\u001B[1;32m      8\u001B[0m \u001B[0mprint\u001B[0m\u001B[0;34m(\u001B[0m\u001B[0mk\u001B[0m\u001B[0;34m)\u001B[0m\u001B[0;34m\u001B[0m\u001B[0m\n\u001B[0;32m----> 9\u001B[0;31m \u001B[0mk\u001B[0m\u001B[0;34m.\u001B[0m\u001B[0mremove\u001B[0m\u001B[0;34m(\u001B[0m\u001B[0;36m4\u001B[0m\u001B[0;34m)\u001B[0m \u001B[0;31m# remove and generate KeyError\u001B[0m\u001B[0;34m\u001B[0m\u001B[0m\n\u001B[0m\u001B[1;32m     10\u001B[0m \u001B[0mprint\u001B[0m\u001B[0;34m(\u001B[0m\u001B[0mk\u001B[0m\u001B[0;34m)\u001B[0m\u001B[0;34m\u001B[0m\u001B[0m\n",
      "\u001B[0;31mKeyError\u001B[0m: 4"
     ]
    }
   ],
   "source": [
    "# Updates\n",
    "k = {1,2,3}\n",
    "k.add(4) # add\n",
    "print(k)\n",
    "k.discard(4) # discard\n",
    "print(k)\n",
    "k.discard(4) # discard again, no keyError\n",
    "print(k)\n",
    "k.remove(4) # remove and generate KeyError\n",
    "print(k)"
   ]
  },
  {
   "cell_type": "markdown",
   "metadata": {
    "slideshow": {
     "slide_type": "slide"
    }
   },
   "source": [
    "# Mutability\n",
    " - After a mutable object is instantiated\n",
    "     - mutable objects can be changed\n",
    "     - Lists [] and dictionaries {} are mutable\n",
    " - After an immutable objects is instantiated\n",
    "     - immutable objects can not be changed\n",
    "     - int, float, str, tuple () are immutable\n",
    "\n",
    "## implications:"
   ]
  },
  {
   "cell_type": "code",
   "execution_count": 42,
   "metadata": {
    "collapsed": true,
    "slideshow": {
     "slide_type": "fragment"
    }
   },
   "outputs": [],
   "source": [
    "a=1; b=1    # a and b might both share memory\n",
    "a=[]; b=[]    # a and b do NOT share memory"
   ]
  },
  {
   "cell_type": "markdown",
   "metadata": {
    "slideshow": {
     "slide_type": "slide"
    }
   },
   "source": [
    "# Sequences \" \"  [ ], ( )\n",
    "Ordered collection of items that may contain duplicates\n",
    "\n",
    " - Strings\n",
    "     - Immutable collection of ordered characters* in quotes ' or \"\n",
    " - Ranges\n",
    "     - Series of integers specified by (start,stop,step)\n",
    " - Tuples\n",
    "     - Immutable collection of any object enclosed in parentheses ()\n",
    " - Lists\n",
    "     - Mutable collection of any object enclosed in brackets []\n",
    "     \n",
    " \n",
    " ## Examples:"
   ]
  },
  {
   "cell_type": "code",
   "execution_count": null,
   "metadata": {
    "collapsed": true,
    "slideshow": {
     "slide_type": "fragment"
    }
   },
   "outputs": [],
   "source": [
    "dnaSeq = 'ACGT'\n",
    "floorsInBuilding = range (1,13)  # floors from 1st floor to 12th floor\n",
    "rnaBases = ['A', 'C', 'G', 'U']\n",
    "atomCoords = (1.2, 3.2, 5.8)\n",
    "\n",
    "emptyString = \"\"\n",
    "emptyTuple = ()\n",
    "emptyList = []"
   ]
  },
  {
   "cell_type": "markdown",
   "metadata": {
    "slideshow": {
     "slide_type": "slide"
    }
   },
   "source": [
    "# Sequence Slicing \n",
    "Sequences support indexing and slicing"
   ]
  },
  {
   "cell_type": "code",
   "execution_count": null,
   "metadata": {
    "collapsed": true,
    "slideshow": {
     "slide_type": "fragment"
    }
   },
   "outputs": [],
   "source": [
    "seq[i:j]  # elements of seq starting at position i, up to ( not including) j\n",
    "seq[i:]   # elements of seq starting at position i, up to the end\n",
    "seq[:j]   # elements of seq starting at the beginning, up to ( not including) j\n",
    "seq[:-1]  # elements of seq starting at the beginning, up to ( not including) the last element\n",
    "seq[:]    # all elements of seq\n",
    "seq[i:j:k]# elements of seq starting at position i, up to ( not including) j, every Kth element"
   ]
  },
  {
   "cell_type": "markdown",
   "metadata": {
    "slideshow": {
     "slide_type": "slide"
    }
   },
   "source": [
    "# Sequence Operations\n",
    "Operations that can be performed on sequences"
   ]
  },
  {
   "cell_type": "code",
   "execution_count": null,
   "metadata": {
    "collapsed": true,
    "slideshow": {
     "slide_type": "fragment"
    }
   },
   "outputs": [],
   "source": [
    "<, <=, >=, >    # operands must be of the samme type\n",
    "==, !=          # any type operands, though result is False for type mismatch\n",
    "in, not in      # test for element presence\n",
    "*               # repetition\n",
    "+               # concatenation\n",
    "[i]             # indexing\n",
    "[i:j:k]         # slicing"
   ]
  },
  {
   "cell_type": "markdown",
   "metadata": {
    "slideshow": {
     "slide_type": "slide"
    }
   },
   "source": [
    "# Manipulating Strings\n",
    " - Python has many operators, assignments, methods and functions for strings\n",
    " - see Model pp 53-60\n",
    "\n",
    "## Examples:"
   ]
  },
  {
   "cell_type": "code",
   "execution_count": 7,
   "metadata": {
    "collapsed": true,
    "slideshow": {
     "slide_type": "fragment"
    }
   },
   "outputs": [],
   "source": [
    "# Concatenate\n",
    "polyA = \"AAAA\"\n",
    "polyT = \"TTTT\"\n",
    "pAT = polyA + polyT   # stores string \"AAAATTTT\"\n",
    "# Repeat Strings\n",
    "scaleFactor = 3\n",
    "polyGC6 = 'GC' * 6    # stores \"GCGCGCGCGCGC\"\n",
    "polyGC  = 'GC' * scaleFactor   # stores \"GCGCGC\""
   ]
  },
  {
   "cell_type": "markdown",
   "metadata": {
    "slideshow": {
     "slide_type": "slide"
    }
   },
   "source": [
    "# Augmented Assignments*\n",
    "## Examples:\n",
    "\n",
    "*Chapter 2, page 23."
   ]
  },
  {
   "cell_type": "code",
   "execution_count": 8,
   "metadata": {
    "collapsed": true,
    "slideshow": {
     "slide_type": "fragment"
    }
   },
   "outputs": [],
   "source": [
    "# Concatenate assignment\n",
    "polyA = \"AAAA\"\n",
    "polyT = \"TTTT\"\n",
    "polyA += polyT  # stores string \"AAAATTTT\"\n",
    "                # polyA = polyA + polyT\n",
    "# Repeat Assignment\n",
    "scaleFactor = 3\n",
    "sGC = 'GC'\n",
    "sGC *= 6             # stores \"GCGCGCGCGCGC\"\n",
    "sGC = 'GC'\n",
    "sGC *= scaleFactor   # stores \"GCGCGC\""
   ]
  },
  {
   "cell_type": "markdown",
   "metadata": {
    "slideshow": {
     "slide_type": "slide"
    }
   },
   "source": [
    "# Ranges and Tuples\n",
    " - Ranges - flow control through iteration\n",
    "     - Series of integers specified by (start,stop,step)\n",
    " - Tuples - points and print attributes\n",
    "     - Immutable collection of any object enclosed in parentheses ()\n",
    " \n",
    "## Examples:"
   ]
  },
  {
   "cell_type": "code",
   "execution_count": 3,
   "metadata": {
    "slideshow": {
     "slide_type": "fragment"
    }
   },
   "outputs": [
    {
     "name": "stdout",
     "output_type": "stream",
     "text": [
      "(1.2, 3.0, 2.2) [0, 1, 2]\n"
     ]
    }
   ],
   "source": [
    "range(5)        # 0,1,2,3,4\n",
    "range(1, 5)     # 1,2,3,4\n",
    "range(2, 12, 2) # 2,4,6,8,10\n",
    "\n",
    "q = list ( range(0,3))\n",
    "\n",
    "p = tuple( (1.2, 3.0, 2.2) ) # e.g. coordinates\n",
    "print (\"%s %s\" % (p, q) )"
   ]
  },
  {
   "cell_type": "markdown",
   "metadata": {
    "slideshow": {
     "slide_type": "slide"
    }
   },
   "source": [
    "# Lab 2 Preview\n",
    "Practice manipulating data types\n",
    " - Remove ambiguous bases from a sequence\n",
    " - Parse information from a FASTQ seqname\n",
    " - Compute geometry between atomic coordinates\n",
    " - Create mappings for codons tables and amino acid letter conversion"
   ]
  }
 ],
 "metadata": {
  "celltoolbar": "Slideshow",
  "kernelspec": {
   "name": "python3",
   "language": "python",
   "display_name": "Python 3"
  },
  "language_info": {
   "codemirror_mode": {
    "name": "ipython",
    "version": 3
   },
   "file_extension": ".py",
   "mimetype": "text/x-python",
   "name": "python",
   "nbconvert_exporter": "python",
   "pygments_lexer": "ipython3",
   "version": "3.7.6"
  },
  "pycharm": {
   "stem_cell": {
    "cell_type": "raw",
    "source": [],
    "metadata": {
     "collapsed": false
    }
   }
  }
 },
 "nbformat": 4,
 "nbformat_minor": 2
}