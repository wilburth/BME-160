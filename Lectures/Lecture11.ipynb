{
 "cells": [
  {
   "cell_type": "markdown",
   "metadata": {
    "slideshow": {
     "slide_type": "slide"
    }
   },
   "source": [
    "# Research Programming in the Life Sciences\n",
    "## Scientific Computing and Command Line Programming\n",
    "\n",
    "- David L. Bernick, PhD\n",
    "- Biomolecular Engineering\n",
    "- Baskin School of Engineering\n",
    "- UCSC"
   ]
  },
  {
   "cell_type": "markdown",
   "metadata": {
    "slideshow": {
     "slide_type": "slide"
    }
   },
   "source": [
    "# Homework\n",
    " \n",
    "## Reading\n",
    " - Functions (and methods) - Model Ch 2. pp 24-29\n",
    " - Modules - Model Ch 2.  pp 34-41, 44\n",
    " - Namespaces - Model Ch 2. pp 21-22, 27, 34-37\n",
    " - Scipy documentation http://docs.scipy.org/doc/scipy/reference/stats.html\n",
    " \n",
    "## Lab\n",
    " - Lab 5 due Monday Feb 15\n",
    " "
   ]
  },
  {
   "cell_type": "markdown",
   "metadata": {
    "slideshow": {
     "slide_type": "slide"
    }
   },
   "source": [
    "# Overview\n",
    " - Statistics and Scientific computing\n",
    " - Command Line programming"
   ]
  },
  {
   "cell_type": "markdown",
   "metadata": {
    "slideshow": {
     "slide_type": "slide"
    }
   },
   "source": [
    "# Statistics Outline\n",
    " - Loose Definition:\n",
    "     - Set of mathematical operations/calculations used to describe and interpret data\n",
    " - Where/How Used:\n",
    "     - Design of experiments and surveys\n",
    "     - Modeling or predicting trends/outcomes using data\n",
    " - Types:\n",
    "     - Descriptive – summarize data\n",
    "     - Inferential – model or predict based on data"
   ]
  },
  {
   "cell_type": "markdown",
   "metadata": {
    "slideshow": {
     "slide_type": "slide"
    }
   },
   "source": [
    "# Describing Central Tendency\n",
    " - Arithmetic Mean $$\\mu = \\frac{1}{n}\\sum_{i=0}^{n-1}x_{i}$$\n",
    " - assume we have a set of __*n*__ data items in __*X*__\n",
    "     - each item of data in __*X*__ will be called $x_{i}$\n",
    "     - we will use __*i*__ as an index into __*X*__\n",
    "     - __*i=0*__ means that we will start at 0\n",
    "     - and we will consider all __*i*__ up to and including __*n-1*__\n",
    " - and we will use $\\sum$ as a symbol that means summation\n",
    " \n",
    " So, this means add up all of the data items (__x__) in __X__ and divide by __n__\n",
    " "
   ]
  },
  {
   "cell_type": "code",
   "execution_count": null,
   "metadata": {
    "collapsed": true,
    "slideshow": {
     "slide_type": "fragment"
    }
   },
   "outputs": [],
   "source": [
    "mean = sum(x) / len(x)"
   ]
  },
  {
   "cell_type": "markdown",
   "metadata": {
    "slideshow": {
     "slide_type": "slide"
    }
   },
   "source": [
    "# Describing Central Tendency \n",
    " - Geometric Mean\n",
    " - $$\\mu = \\left(\\prod_{i=0}^{n-1}x_{i}\\right)^\\frac{1}{n}$$\n",
    " - and we will use $\\prod$ as a symbol for the product function\n",
    " \n",
    " So, this means that we take the nth root of the product of the data items (__*x*__) in __*X*__.\n",
    " "
   ]
  },
  {
   "cell_type": "code",
   "execution_count": 4,
   "metadata": {
    "slideshow": {
     "slide_type": "fragment"
    }
   },
   "outputs": [
    {
     "name": "stdout",
     "output_type": "stream",
     "text": [
      "3.071707661974535\n"
     ]
    }
   ],
   "source": [
    "x = [ 1,2,3,4,5,7]\n",
    "def prod(L): \n",
    "    p=1 \n",
    "    for i in L: \n",
    "        p *= i \n",
    "    return p\n",
    "mean = prod(x) ** (1/len(x))\n",
    "print (mean)"
   ]
  },
  {
   "cell_type": "markdown",
   "metadata": {
    "slideshow": {
     "slide_type": "slide"
    }
   },
   "source": [
    "# Median\n",
    " - The value of the middle, or \"Central\" value in the dataset\n",
    " - To identify the median, you need to have a sorted list of numbers\n",
    "\n",
    "Does the following code work in general?"
   ]
  },
  {
   "cell_type": "code",
   "execution_count": 2,
   "metadata": {
    "slideshow": {
     "slide_type": "fragment"
    }
   },
   "outputs": [
    {
     "name": "stdout",
     "output_type": "stream",
     "text": [
      "3\n"
     ]
    }
   ],
   "source": [
    "x = [5, 4, 3, 2, 1]\n",
    "x.sort()\n",
    "mid = len(x)//2\n",
    "median = x[mid]\n",
    "print (median)"
   ]
  },
  {
   "cell_type": "code",
   "execution_count": 5,
   "metadata": {
    "slideshow": {
     "slide_type": "fragment"
    }
   },
   "outputs": [
    {
     "name": "stdout",
     "output_type": "stream",
     "text": [
      "3.5\n"
     ]
    }
   ],
   "source": [
    "x = [6, 5, 4, 3, 2, 1]\n",
    "x.sort()\n",
    "mid = len(x)//2\n",
    "if len(x) % 2 == 0:\n",
    "    median = (x[mid] + x[mid-1]) / 2.\n",
    "else:\n",
    "    median = x[mid]\n",
    "\n",
    "print (median)"
   ]
  },
  {
   "cell_type": "markdown",
   "metadata": {
    "slideshow": {
     "slide_type": "slide"
    }
   },
   "source": [
    "# Describing Spread of Data\n",
    " - Variance\n",
    "$$ \\sigma^{2} = \\frac{1}{n-1}\\sum_{i=0}^{n-1}(x_{i}-\\mu)^{2} $$\n",
    " - Standard Deviation\n",
    "$$ \\sigma = \\sqrt{\\sigma^{2}} $$\n",
    " - t Statistic\n",
    "$$ t = \\frac{\\mu-\\mu_{0}}{\\sigma/\\sqrt{n}}, df=(n-1) $$"
   ]
  },
  {
   "cell_type": "markdown",
   "metadata": {
    "slideshow": {
     "slide_type": "slide"
    }
   },
   "source": [
    "# Test for Mean Difference (One sample)\n",
    "![t Test](Lecture11tTest.png)"
   ]
  },
  {
   "cell_type": "markdown",
   "metadata": {
    "slideshow": {
     "slide_type": "slide"
    }
   },
   "source": [
    "# T-statistic\n",
    "$$ t = \\frac{\\mu-\\mu_{0}}{\\sigma/\\sqrt{n}} $$\n",
    " - Test whether our measured mean (μ) differs from the expected mean (μ0).\n",
    " - Calculate t\n",
    " - Check if +t > threshold\n",
    " - null hypothesis: no cancer\n",
    " - reject the null if +t > threshold"
   ]
  },
  {
   "cell_type": "markdown",
   "metadata": {
    "slideshow": {
     "slide_type": "slide"
    }
   },
   "source": [
    "# Test for Mean Difference \n",
    "![t-Test Cancer](Lecture11tTest-Cancer.png)"
   ]
  },
  {
   "cell_type": "markdown",
   "metadata": {
    "slideshow": {
     "slide_type": "slide"
    }
   },
   "source": [
    "# Test for Mean Difference\n",
    " - $ t = \\frac{\\mu-\\mu_{0}}{\\sigma/\\sqrt{n}} $\n",
    " - Example <span style=\"color:blue\">Gene 1</span> :\n",
    "     - μ = 0.5, σ = 1, μ0 = 0, n = 4; t = (0.5 - 0)/ (1 / 2) so, t = 1, df = 3 .. p = 0.196\n",
    " - Example <span style=\"color:green\">Gene 2</span> :\n",
    "     - μ = 2, σ = 1, μ0 = 0, n = 4; t = (2 - 0) / (1 / 2) so, t = 4, df = 3 .. p = .014 ** reject null\n",
    "     "
   ]
  },
  {
   "cell_type": "markdown",
   "metadata": {
    "slideshow": {
     "slide_type": "slide"
    }
   },
   "source": [
    "# T-statistic (one tail )\n",
    "$$ t = \\frac{\\mu-\\mu_{0}}{\\sigma/\\sqrt{n}} $$\n",
    "Assumptions:\n",
    " - we have an apple coring machine that leaves, on average, 1.2 seeds in each apple and we observe SD= 0.1\n",
    " - today, we collect 16 sample apples and observe an average of 1.6 seeds, with sample SD=1.0. Is this a problem?\n",
    " - because we collected 16 samples(n), there are n-1 degrees of freedom (d.f.) so d.f = 15\n",
    " - we really only care about seed counts that are greater than 1.2, so we will examine just the right hand tail. This is a one-tailed evaluation\n",
    "    \n",
    "Test whether our measured mean (μ) differs significantly from the expected mean (μ0). \n",
    "\n",
    " - calculate *t* = (1.6 - 1.2) / (1.0 / 4), so __*t = 1.6*__\n",
    "    \n",
    " - check if | *t* | is greater then the t-threshold corresponding to alpha <= .05\n",
    "     - t threshold 1.64 has a right tail probability of 6.52% ( bigger than our 5% acceptable threshold) \n",
    "     - we are within 95% of the range of normal data from this process\n",
    "     - if we had 1.8 or more seeds on average, t = 4.6% and we would stop the apple coring machine !\n",
    " "
   ]
  },
  {
   "cell_type": "markdown",
   "metadata": {
    "slideshow": {
     "slide_type": "slide"
    }
   },
   "source": [
    "# Hypothesis Testing in Statistics\n",
    "Hypothesis testing asks whether you can reject a null hypothesis.\n",
    " - Example null hypotheses:\n",
    "     - The expression level for TP53 is not different between patients with colon cancer and patients without cancer.\n",
    "     - The observed composition of nucleotides in a sequence is not different from a composition based on equal-likelihood of each letter.\n",
    "     - Major and minor allele distribution of SNP ch22:15407,252 does not have an association with Alzheimer's disease."
   ]
  },
  {
   "cell_type": "markdown",
   "metadata": {
    "slideshow": {
     "slide_type": "slide"
    }
   },
   "source": [
    "# Rejecting Null Hypotheses\n",
    "In statistics, we reject a null hypothesis when the probability (p-value) of a test of the null falls below some critical value ( like p < .05 ), which gives us confidence in an alternative hypothesis.\n",
    "## Example hypothesis tests\n",
    " - T-test (t) - group differences\n",
    " - Chi square (χ2) - observed versus expected differences\n",
    " - Contingency table - categorical differences"
   ]
  },
  {
   "cell_type": "markdown",
   "metadata": {
    "slideshow": {
     "slide_type": "slide"
    }
   },
   "source": [
    "# Test for mean differences - colon cancer\n",
    "## Hypothesis:\n",
    "The expression level for TP53 is not different between patients <br>\n",
    "without cancer and patients with colon cancer. \n",
    "![t-Test colon Cancer](Lecture11tTestcolonCancer.png)"
   ]
  },
  {
   "cell_type": "markdown",
   "metadata": {
    "slideshow": {
     "slide_type": "slide"
    }
   },
   "source": [
    "# Test for mean differences - colon cancer\n",
    "$$ t = \\frac{\\mu-\\mu_0}{s_{\\mu\\mu_0}\\sqrt{\\frac{2}{n}}} $$\n",
    "$$ s_{\\mu\\mu_0} = \\sqrt{\\frac{s_{\\mu}^{2}+s_{\\mu_0}^{2}}{2}} $$\n",
    " - n1 = n2 = 5\n",
    " - μ1 = 1.0, σ = 1.6\n",
    " - μ2 = 3.3, σ = 1.2\n",
    " \n",
    "$$ s_{\\mu\\mu_0} = \\sqrt{\\frac{1.6^{2}+1.2^{2}}{2}} = \\sqrt{2} $$\n",
    "$$ t = \\frac{-2.3\\sqrt{5}}{2} \\approx -2.57 (p <= .01)$$\n",
    " - Reject null hypothesis?\n",
    "     - Reject if p < pThreshold (typically pThreshold = 0.05)\n",
    " "
   ]
  },
  {
   "cell_type": "markdown",
   "metadata": {
    "collapsed": true,
    "slideshow": {
     "slide_type": "slide"
    }
   },
   "source": [
    "# Test for Obs v. Exp Diffs\n",
    "The observed composition of nucleotides in a sequence is not different from a composition based on equal-likelihood of each letter.\n",
    "$$ \\chi^2 = \\sum_{i=1}^{n}\\frac{(Obs_{i}-Exp_{i})^2}{Exp_i}$$ \n",
    " - The expected values are (25, 25, 25, 25).\n",
    " - Measure observed.\n",
    " - Calculate $\\chi^2$ statistic.\n",
    " - Determine p.\n",
    " \n",
    " - Reject null hypothesis?\n",
    "     - Reject if p < pThreshold (typically pThreshold = 0.05)"
   ]
  },
  {
   "cell_type": "markdown",
   "metadata": {
    "slideshow": {
     "slide_type": "slide"
    }
   },
   "source": [
    "# Test for association\n",
    "Major and minor allele distribution of SNP ch22:15407,252 does not have an association with Alzheimer's disease.\n",
    "\n",
    "$$\n",
    "\\begin {array}{l|c|c|c}\\\\\n",
    "      &AA &Aa &aa \\\\\n",
    "\\hline \\\\\n",
    "-Alzheimer's &192 &59 &19 \\\\\n",
    "\\hline \\\\\n",
    "+Alzheimer's &167 &100 &3 \\\\\n",
    "\\end{array}\n",
    "$$\n",
    "\n",
    " - Count numbers in each category.\n",
    " - Construct contingency table.\n",
    " - Calculate $\\chi^2$ statistic.\n",
    " - Determine p.\n",
    " - Reject null hypothesis?\n",
    "     - Reject if p < pThreshold (typically pThreshold = 0.05)"
   ]
  },
  {
   "cell_type": "markdown",
   "metadata": {
    "slideshow": {
     "slide_type": "slide"
    }
   },
   "source": [
    "# Marginal Values\n",
    "$$\n",
    "\\begin {array}{l|c|c|c|c}\\\\\n",
    "      &AA &Aa &aa \\\\\n",
    "\\hline \\\\\n",
    "-Alzheimer's &192 &59 &19 & 270\\\\\n",
    "\\hline \\\\\n",
    "+Alzheimer's &167 &100 &3 & 270\\\\\n",
    "\\hline \\\\\n",
    "             &359 &159 &22& 540\\\\\n",
    "\\end{array}\n",
    "$$"
   ]
  },
  {
   "cell_type": "markdown",
   "metadata": {
    "slideshow": {
     "slide_type": "slide"
    }
   },
   "source": [
    "# Expected frequencies\n",
    "$$\n",
    "\\begin {array}{l|c|c|c|c}\\\\\n",
    "      &AA &Aa &aa \\\\\n",
    "\\hline \\\\\n",
    "-Alzheimer's &0.33 &0.15 &0.02 & 0.5\\\\\n",
    "\\hline \\\\\n",
    "+Alzheimer's &0.33 &0.15 &0.02 & 0.5\\\\\n",
    "\\hline \\\\\n",
    "             &0.66 &0.29 &0.04 & 1.0\\\\\n",
    "\\end{array}\n",
    "$$"
   ]
  },
  {
   "cell_type": "markdown",
   "metadata": {
    "slideshow": {
     "slide_type": "slide"
    }
   },
   "source": [
    "# Expected Values\n",
    "$$\n",
    "\\begin {array}{l|c|c|c|c}\\\\\n",
    "      &AA &Aa &aa \\\\\n",
    "\\hline \\\\\n",
    "-Alzheimer's &178 &81 &11 & 270\\\\\n",
    "\\hline \\\\\n",
    "+Alzheimer's &178 &81 &11 & 270\\\\\n",
    "\\hline \\\\\n",
    "             &356 &162 &22& 540\\\\\n",
    "\\end{array}\n",
    "$$\n",
    "\n",
    "$$\\chi^2=23.949, 2 DF$$\n",
    "$$p=6.3*10^{-6}$$"
   ]
  },
  {
   "cell_type": "markdown",
   "metadata": {
    "slideshow": {
     "slide_type": "slide"
    }
   },
   "source": [
    "# SciComp Modules in Python\n",
    " - Scipy - scientific python\n",
    " - Numpy - numeric python"
   ]
  },
  {
   "cell_type": "code",
   "execution_count": null,
   "metadata": {
    "collapsed": true,
    "slideshow": {
     "slide_type": "fragment"
    }
   },
   "outputs": [],
   "source": [
    "import scipy\n",
    "import numpy\n",
    "from scipy import stats\n",
    "scipy.mean()\n",
    "scipy.median()\n",
    "scipy.std()\n",
    "stats.ttest_ind()\n",
    "stats.chisquare()\n",
    "numpy.array()\n",
    "..."
   ]
  },
  {
   "cell_type": "markdown",
   "metadata": {
    "slideshow": {
     "slide_type": "slide"
    }
   },
   "source": [
    "# program options in Lab 5\n",
    " - options\n",
    "     - minGeneLength=100\n",
    "     - longestGene=True\n",
    "     - starts=ATG\n",
    "     - stops=TAA\n",
    " - input file\n",
    " - output file\n",
    " \n",
    "It would be nice to specify these without modifying the program"
   ]
  },
  {
   "cell_type": "code",
   "execution_count": null,
   "metadata": {
    "collapsed": true,
    "slideshow": {
     "slide_type": "fragment"
    }
   },
   "outputs": [],
   "source": [
    "findOrfs.py <tass2.fa >tass2ORFdata-ATG-100.txt --minG=100 --longestG -starts=ATG "
   ]
  },
  {
   "cell_type": "markdown",
   "metadata": {
    "slideshow": {
     "slide_type": "slide"
    }
   },
   "source": [
    "# program scaffold\n",
    "includes:\n",
    " - CommandLine class\n",
    " - main()"
   ]
  },
  {
   "cell_type": "markdown",
   "metadata": {
    "slideshow": {
     "slide_type": "slide"
    }
   },
   "source": [
    "# program scaffold"
   ]
  },
  {
   "cell_type": "code",
   "execution_count": 1,
   "metadata": {
    "slideshow": {
     "slide_type": "slide"
    }
   },
   "outputs": [],
   "source": [
    "class CommandLine() :\n",
    "    def __init__(self, inOpts=None) :\n",
    "        '''\n",
    "        Implement a parser to interpret the command line string using argparse.\n",
    "        '''\n",
    "        import argparse\n",
    "        self.parser = argparse.ArgumentParser(description = ' ',  \n",
    "                        epilog = ' ', add_help = True, prefix_chars = '-', \n",
    "                        usage = '%(prog)s input output -option1[default]' )\n",
    "        self.parser.add_argument('inFile', action = 'store', \n",
    "                                  help='input file name')\n",
    "        self.parser.add_argument('outFile', action = 'store', \n",
    "                                  help='output file name') \n",
    "        self.parser.add_argument('-lG', '--longestGene', action = 'store', \n",
    "                                 nargs='?', const=True, default=False, \n",
    "                                 help='longest Gene in an ORF')\n",
    "        self.parser.add_argument('-mG', '--minGene', type=int, \n",
    "                                 choices= (100,200,300,500,1000), \n",
    "                                 default=100, action = 'store', \n",
    "                                 help='minimum Gene length')\n",
    "        self.parser.add_argument('-s', '--start', action = 'append', \n",
    "                                 default = ['ATG'],nargs='?', \n",
    "                                 help='start Codon') #allows multiple options\n",
    "        self.parser.add_argument('-t', '--stop', action = 'append', \n",
    "                                 default = ['TAG','TGA','TAA'],\n",
    "                                 nargs='?', help='stop Codon') \n",
    "        self.parser.add_argument('-v', '--version', action='version', \n",
    "                                 version='%(prog)s 0.1')  \n",
    "        if inOpts is None :\n",
    "            self.args = self.parser.parse_args()\n",
    "        else :\n",
    "            self.args = self.parser.parse_args(inOpts)\n",
    "\n"
   ]
  },
  {
   "cell_type": "code",
   "execution_count": null,
   "metadata": {},
   "outputs": [],
   "source": [
    "findOrfs < somefile.fa >results.txt -s=ATG -s=TTG -s=GTG -mG=47"
   ]
  },
  {
   "cell_type": "markdown",
   "metadata": {
    "slideshow": {
     "slide_type": "slide"
    }
   },
   "source": [
    "# the default\n",
    "programLab5 includes the following:"
   ]
  },
  {
   "cell_type": "code",
   "execution_count": 2,
   "metadata": {
    "slideshow": {
     "slide_type": "slide"
    }
   },
   "outputs": [
    {
     "name": "stdout",
     "output_type": "stream",
     "text": [
      "Namespace(inFile='tass2.fa', longestGene=True, minGene=100, outFile='tass2ORFdata-ATG-100.txt', start=['ATG'], stop=['TAG', 'TGA', 'TAA'])\n"
     ]
    }
   ],
   "source": [
    "def main(inCL=None):\n",
    "    '''\n",
    "    Find some genes.  \n",
    "    '''\n",
    "    if inCL is None:\n",
    "        myCommandLine = CommandLine()\n",
    "    else :\n",
    "        myCommandLine = CommandLine(inCL)\n",
    "    print (myCommandLine.args)\n",
    "###### replace the code between comments.\n",
    "        # myCommandLine.args.inFile has the input file name\n",
    "        # myCommandLine.args.outFile has the output file name\n",
    "        # myCommandLine.args.longestGene is True if only the longest Gene is desired\n",
    "        # myCommandLine.args.start is a list of start codons\n",
    "        # myCommandLine.args.minGene is the minimum Gene length to include\n",
    "        #\n",
    "#######\n",
    "    \n",
    "if __name__ == \"__main__\":\n",
    "    main([  'tass2.fa',\n",
    "            'tass2ORFdata-ATG-100.txt',\n",
    "            '--longestGene'])  # delete the parameter list when you want to run normally\n",
    "\n"
   ]
  },
  {
   "cell_type": "code",
   "execution_count": null,
   "metadata": {
    "collapsed": true,
    "slideshow": {
     "slide_type": "fragment"
    }
   },
   "outputs": [],
   "source": [
    "['tass2.fa',                # available as infile\n",
    "'tass2ORFdata-ATG-100.txt', # available as outfile\n",
    "'--longestGene']            # sets the default to print only the longest gene"
   ]
  },
  {
   "cell_type": "markdown",
   "metadata": {
    "slideshow": {
     "slide_type": "slide"
    }
   },
   "source": [
    "# Command Line Program\n",
    " - progName input output -option —longoption \n",
    " - customization:\n",
    "     - allow command line args\n",
    "     - input and output to be filenames on command line\n",
    "     - help .. (minGene)\n",
    "     - descriptions  "
   ]
  },
  {
   "cell_type": "markdown",
   "metadata": {
    "slideshow": {
     "slide_type": "slide"
    }
   },
   "source": [
    "# Lab5 Design Items\n",
    " - both strands\n",
    " - iteration\n",
    " - frame and codon\n",
    " - dangling stop\n",
    " - dangling start\n",
    " - sorting orfs\n",
    " - top strand coordinates\n",
    " - extra credit\n",
    "     - a real Command Line program"
   ]
  }
 ],
 "metadata": {
  "celltoolbar": "Slideshow",
  "kernelspec": {
   "display_name": "Python 3",
   "language": "python",
   "name": "python3"
  },
  "language_info": {
   "codemirror_mode": {
    "name": "ipython",
    "version": 3
   },
   "file_extension": ".py",
   "mimetype": "text/x-python",
   "name": "python",
   "nbconvert_exporter": "python",
   "pygments_lexer": "ipython3",
   "version": "3.7.6"
  }
 },
 "nbformat": 4,
 "nbformat_minor": 2
}
