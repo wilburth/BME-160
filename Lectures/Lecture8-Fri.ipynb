{
 "cells": [
  {
   "cell_type": "markdown",
   "metadata": {
    "slideshow": {
     "slide_type": "slide"
    }
   },
   "source": [
    "# Homework\n",
    " \n",
    "## Reading\n",
    " - Functions (and methods) - Model Ch 2. pp 24-29\n",
    " - Modules - Model Ch 2.  pp 34-41, 44\n",
    " - Namespaces - Model Ch 2. pp 21-22, 27, 34-37\n",
    " \n",
    "## Lab\n",
    " - Lab 4 due next Monday\n",
    " - submit in “assignments” section of Canvas"
   ]
  },
  {
   "cell_type": "markdown",
   "metadata": {
    "slideshow": {
     "slide_type": "slide"
    }
   },
   "source": [
    "# Research Programming in the Life Sciences\n",
    "## re, regular expressions \n",
    "\n",
    "- David L. Bernick, PhD\n",
    "- Biomolecular Engineering\n",
    "- Baskin School of Engineering\n",
    "- UCSC"
   ]
  },
  {
   "cell_type": "markdown",
   "metadata": {
    "slideshow": {
     "slide_type": "slide"
    }
   },
   "source": [
    "# Overview\n",
    " \n",
    " - Codon resources\n",
    " - Pattern matching\n",
    " - Lab 4"
   ]
  },
  {
   "cell_type": "markdown",
   "metadata": {
    "slideshow": {
     "slide_type": "skip"
    }
   },
   "source": [
    "# Quiz 3\n",
    "\n",
    " - Q2: what is b? a = [ 1, 2, 3, 4 ]; b = a; a[:] = ‘A’  \n",
    " - Q8: the purpose of __init__: initilization of the object\n",
    " - Q9: self refers to: the object."
   ]
  },
  {
   "cell_type": "code",
   "execution_count": 2,
   "metadata": {
    "slideshow": {
     "slide_type": "slide"
    }
   },
   "outputs": [
    {
     "data": {
      "image/png": "[encoded data removed]",
      "text/plain": [
       "<Figure size 432x288 with 1 Axes>"
      ]
     },
     "metadata": {
      "needs_background": "light"
     },
     "output_type": "display_data"
    }
   ],
   "source": [
    "import matplotlib.pyplot as plt\n",
    "x = [i for i in range(3,11)]\n",
    "y = [1,0,5,8,8,15,23,21]\n",
    "plt.bar(x,y,0.2)\n",
    "plt.xlabel('Scores', fontsize=18)\n",
    "plt.title('Quiz 3 results',fontsize=18)\n",
    "plt.figtext(.3,0.7,'mean=83%', fontsize=18, ha='center')\n",
    "plt.show()"
   ]
  },
  {
   "cell_type": "markdown",
   "metadata": {
    "slideshow": {
     "slide_type": "slide"
    }
   },
   "source": [
    "# Codon resources\n",
    " - Codon usage database\n",
    "     - http://www.kazusa.or.jp/codon/readme_codon.html\n",
    " - cusp\n",
    "     - search for “cusp” at http://mobyle.pasteur.fr/cgi-bin/portal.py"
   ]
  },
  {
   "cell_type": "markdown",
   "metadata": {
    "slideshow": {
     "slide_type": "slide"
    }
   },
   "source": [
    "# Basics of Pattern Matching\n",
    " - The point of pattern matching is to look for a series of characters “the pattern” in some text “the target to match against”\n",
    " - We've already seen some simple pattern matching with find() and index()"
   ]
  },
  {
   "cell_type": "code",
   "execution_count": 5,
   "metadata": {
    "slideshow": {
     "slide_type": "fragment"
    }
   },
   "outputs": [
    {
     "ename": "ValueError",
     "evalue": "substring not found",
     "output_type": "error",
     "traceback": [
      "\u001B[0;31m---------------------------------------------------------------------------\u001B[0m",
      "\u001B[0;31mValueError\u001B[0m                                Traceback (most recent call last)",
      "\u001B[0;32m<ipython-input-5-9cfc79464f68>\u001B[0m in \u001B[0;36m<module>\u001B[0;34m\u001B[0m\n\u001B[1;32m      1\u001B[0m \u001B[0mseq\u001B[0m \u001B[0;34m=\u001B[0m \u001B[0;34m'AAAATGAATGGCTAACTTTTGATG'\u001B[0m\u001B[0;34m\u001B[0m\u001B[0;34m\u001B[0m\u001B[0m\n\u001B[1;32m      2\u001B[0m \u001B[0mseq\u001B[0m\u001B[0;34m.\u001B[0m\u001B[0mfind\u001B[0m\u001B[0;34m(\u001B[0m\u001B[0;34m'GTG'\u001B[0m\u001B[0;34m)\u001B[0m\u001B[0;34m\u001B[0m\u001B[0;34m\u001B[0m\u001B[0m\n\u001B[0;32m----> 3\u001B[0;31m \u001B[0mseq\u001B[0m\u001B[0;34m.\u001B[0m\u001B[0mindex\u001B[0m\u001B[0;34m(\u001B[0m\u001B[0;34m'GTG'\u001B[0m\u001B[0;34m)\u001B[0m   \u001B[0;31m# (raises exception if not found)\u001B[0m\u001B[0;34m\u001B[0m\u001B[0;34m\u001B[0m\u001B[0m\n\u001B[0m",
      "\u001B[0;31mValueError\u001B[0m: substring not found"
     ]
    }
   ],
   "source": [
    "seq = 'AAAATGAATGGCTAACTTTTGATG'\n",
    "seq.find('ATG')\n",
    "seq.index('GTG')   # (raises exception if not found)"
   ]
  },
  {
   "cell_type": "markdown",
   "metadata": {
    "slideshow": {
     "slide_type": "slide"
    }
   },
   "source": [
    "# wordFinder\n",
    "search online documents for keywords:\n",
    " - cancer, PDB, proteinX, etc.\n",
    " - seq.find('cancer')\n",
    " - seq.index('cancer')\n",
    "\n",
    "This strategy works great for single words without variation in case, length, or alternative spellings."
   ]
  },
  {
   "cell_type": "markdown",
   "metadata": {
    "slideshow": {
     "slide_type": "slide"
    }
   },
   "source": [
    "# simpleDigest\n",
    "match restriction enzyme EcoRI: GAATTC"
   ]
  },
  {
   "cell_type": "code",
   "execution_count": 1,
   "metadata": {
    "slideshow": {
     "slide_type": "fragment"
    }
   },
   "outputs": [
    {
     "data": {
      "text/plain": "5"
     },
     "execution_count": 1,
     "metadata": {},
     "output_type": "execute_result"
    }
   ],
   "source": [
    "seq = 'AAGGTGAATTCGTTAAC'\n",
    "seq.find('GAATTC')\n",
    "seq.index('GAATTC')"
   ]
  },
  {
   "cell_type": "markdown",
   "metadata": {
    "slideshow": {
     "slide_type": "fragment"
    }
   },
   "source": [
    "This strategy works great for EcoRI.\n",
    " - What happens for EcoRII? (CCXGG), where X = A,T\n",
    "     - 2 possibilities\n",
    " - How about CjuI? (CAYNNNNNWTG)\n",
    "     - where Y = CT, N = A,C,G,T, W = G,A\n",
    "     - 4,096 possibilities"
   ]
  },
  {
   "cell_type": "markdown",
   "metadata": {
    "slideshow": {
     "slide_type": "slide"
    }
   },
   "source": [
    "# Regular Expressions\n",
    "Powerful pattern matching syntax\n",
    " - RE Syntax is a bit cryptic but extremely useful\n",
    " - We'll cover some of the basics\n",
    "     - http://re-try.appspot.com\n",
    " - See chapter 7 in Model for more details.\n",
    "     - http://www.regular-expressions.info"
   ]
  },
  {
   "cell_type": "markdown",
   "metadata": {
    "slideshow": {
     "slide_type": "slide"
    }
   },
   "source": [
    "# RE Symbols\n",
    "Regular expressions are made of two kinds of symbols (characters):\n",
    " - Those that match themselves: \n",
    "     - ‘a’ ‘A’ 1 ‘g’       # normal characters\n",
    " - Those that don’t match themselves, but have special meaning\n",
    "     - \\ | () [] ^ $ * ? .    # metacharacters"
   ]
  },
  {
   "cell_type": "markdown",
   "metadata": {
    "slideshow": {
     "slide_type": "slide"
    }
   },
   "source": [
    "# Escaping\n",
    "Sometimes we need to treat a meta-character as a normal symbol\n",
    " "
   ]
  },
  {
   "cell_type": "code",
   "execution_count": null,
   "metadata": {
    "slideshow": {
     "slide_type": "fragment"
    }
   },
   "outputs": [],
   "source": [
    "'true\\?'     # matches true?\n",
    "'\\(help\\)'   # matches (help)\n",
    "'\\[block\\]'   # matches [block]"
   ]
  },
  {
   "cell_type": "markdown",
   "metadata": {
    "slideshow": {
     "slide_type": "slide"
    }
   },
   "source": [
    "# Character Sets\n",
    "Set of characters rather than a single possibility\n",
    " - Set is denoted by [ ]\n",
    " - How can we handle EcoRII? (CCXGG), where X = A,T\n",
    "     - 'CC[AT]GG'\n",
    " - How about CjuI? (CAYNNNNNRTG)\n",
    "     - 'CA[CT][ACGT][ACGT][ACGT][ACGT][ACGT][GA]TG'"
   ]
  },
  {
   "cell_type": "code",
   "execution_count": 2,
   "metadata": {},
   "outputs": [
    {
     "ename": "SyntaxError",
     "evalue": "invalid syntax (<ipython-input-2-6bc42ce9e246>, line 1)",
     "output_type": "error",
     "traceback": [
      "\u001B[1;36m  File \u001B[1;32m\"<ipython-input-2-6bc42ce9e246>\"\u001B[1;36m, line \u001B[1;32m1\u001B[0m\n\u001B[1;33m    CA[CT][ACGT]{5}[GA]TG\u001B[0m\n\u001B[1;37m                ^\u001B[0m\n\u001B[1;31mSyntaxError\u001B[0m\u001B[1;31m:\u001B[0m invalid syntax\n"
     ]
    }
   ],
   "source": [
    "CA[CT][ACGT]{5}[GA]TG\n",
    "\n",
    "matchString = 'CA[CT][ACGT]{' + str(magicCount(xyzzy)) + '}[GA]TG'"
   ]
  },
  {
   "cell_type": "markdown",
   "metadata": {
    "slideshow": {
     "slide_type": "slide"
    }
   },
   "source": [
    "# Character Sets\n",
    "![Character Sets](Lecture8CharacterSets.png)"
   ]
  },
  {
   "cell_type": "code",
   "execution_count": 7,
   "metadata": {},
   "outputs": [
    {
     "name": "stdout",
     "output_type": "stream",
     "text": [
      "[('cat', 1), ('cat', 2), ('dog', 1), ('dog', 17)]\n"
     ]
    }
   ],
   "source": [
    "def keyFunction (thisTuple):\n",
    "    return tuple((thisTuple[0], -thisTuple[1]))\n",
    "\n",
    "myList = [ ('dog', 1), ('cat', 2), ('cat', 1), ('dog', 17) ]\n",
    "#myList.sort (key=keyFunction)\n",
    "\n",
    "myList.sort ( key = lambda thisTuple: tuple((thisTuple[0], thisTuple[1])) )\n",
    "\n",
    "print ( myList)"
   ]
  },
  {
   "cell_type": "markdown",
   "metadata": {
    "slideshow": {
     "slide_type": "slide"
    }
   },
   "source": [
    "# Character Classes\n",
    "Groups of characters represented by an escape letter \"\\\"\n",
    "![CharacterClasses](Lecture8CharacterClasses.png)"
   ]
  },
  {
   "cell_type": "markdown",
   "metadata": {
    "slideshow": {
     "slide_type": "slide"
    }
   },
   "source": [
    "# Boundaries\n",
    " - Indicate beginning or end of a target\n",
    " - These do not match characters, just indicate positions\n",
    "![Boundaries](Lecture8Boundaries.png)"
   ]
  },
  {
   "cell_type": "markdown",
   "metadata": {
    "slideshow": {
     "slide_type": "slide"
    }
   },
   "source": [
    "# Boundary Examples\n",
    " - Indicate beginning or end of a target\n",
    " - Don't match characters, just indicate positions\n",
    " ![Boundary Examples](Lecture8BoundaryExamples.png)"
   ]
  },
  {
   "cell_type": "markdown",
   "metadata": {
    "slideshow": {
     "slide_type": "slide"
    }
   },
   "source": [
    "# Variable-Length Matching\n",
    "Matching repeating patterns\n",
    "Alters characters in re that directly precedes it\n",
    "![Var Length](Lecture8VarLength.png)"
   ]
  },
  {
   "cell_type": "markdown",
   "metadata": {
    "slideshow": {
     "slide_type": "slide"
    }
   },
   "source": [
    "# Repetition Examples\n",
    " ![Repetition](Lecture8Repetition.png)"
   ]
  },
  {
   "cell_type": "markdown",
   "metadata": {
    "slideshow": {
     "slide_type": "slide"
    }
   },
   "source": [
    "# Greedy/Nongreedy Matching\n",
    "Do you want to match the maximum or the minimum possible patterns?\n",
    "![Greedy](Lecture8Greedy.png)\n",
    " - greedy versus non-greedy"
   ]
  },
  {
   "cell_type": "code",
   "execution_count": null,
   "metadata": {
    "slideshow": {
     "slide_type": "fragment"
    }
   },
   "outputs": [],
   "source": [
    "s = <html><head><title>Title</title>\n",
    "'<.*>' versus '<.*?>'"
   ]
  },
  {
   "cell_type": "markdown",
   "metadata": {
    "slideshow": {
     "slide_type": "slide"
    }
   },
   "source": [
    "# Groupings I\n",
    " - Allows patterns to be grouped analogous to math\n",
    " - Allows sub-pattern to be retrieved, or ignored\n",
    " - (...) matches whatever regular expression is inside the parentheses\n",
    " - (?:...)  non-grouping version of regular parentheses, substring matched by the group cannot be retrieved after match"
   ]
  },
  {
   "cell_type": "markdown",
   "metadata": {
    "slideshow": {
     "slide_type": "slide"
    }
   },
   "source": [
    "# Groupings II\n",
    " - what if we wanted to match a phone number?\n",
    "     - xxx-xxx-xxxx\n",
    "     - 831-xxx-xxxx\n",
    "     - 831.xxx.xxxx"
   ]
  },
  {
   "cell_type": "code",
   "execution_count": null,
   "metadata": {
    "slideshow": {
     "slide_type": "fragment"
    }
   },
   "outputs": [],
   "source": [
    "'\\d\\d\\d-\\d\\d\\d-\\d\\d\\d\\d'     # brute force\n",
    "'\\d{3}-\\d{3}-\\d{4}'          # clearer"
   ]
  },
  {
   "cell_type": "code",
   "execution_count": null,
   "metadata": {
    "slideshow": {
     "slide_type": "fragment"
    }
   },
   "outputs": [],
   "source": [
    "'\\d{3}[- .]\\d{3}[- .]\\d{4}'  # various punctuation"
   ]
  },
  {
   "cell_type": "code",
   "execution_count": null,
   "metadata": {
    "slideshow": {
     "slide_type": "fragment"
    }
   },
   "outputs": [],
   "source": [
    "'\\d{3}([- .])\\d{3}\\1\\d{4}'   # same punctuation"
   ]
  },
  {
   "cell_type": "code",
   "execution_count": null,
   "metadata": {
    "slideshow": {
     "slide_type": "fragment"
    }
   },
   "outputs": [],
   "source": [
    "'(\\d{3})-(\\d{3})-(\\d{4})'    # groups"
   ]
  },
  {
   "cell_type": "markdown",
   "metadata": {
    "slideshow": {
     "slide_type": "slide"
    }
   },
   "source": [
    "# Alternation\n",
    "The meta character | will let you match more than one possible string\n",
    "\n",
    " - For example:\n",
    "     - 'A|T'       # match if either \"A\" or \"T\"\n",
    "     - 'CGCG|TATA' # match \"CGCG\" or \"TATA\"\n",
    "     - '(UAA)|(UAG)|(UGA)'  # match any stop codon"
   ]
  },
  {
   "cell_type": "markdown",
   "metadata": {
    "slideshow": {
     "slide_type": "slide"
    }
   },
   "source": [
    "# re Module\n",
    "regular expressions are handled with a module\n",
    " - __import re__"
   ]
  },
  {
   "cell_type": "markdown",
   "metadata": {
    "slideshow": {
     "slide_type": "slide"
    }
   },
   "source": [
    "# re Finding\n",
    "Two types of finding: search (anywhere) and match (beginning of target)\n",
    " - For example:"
   ]
  },
  {
   "cell_type": "code",
   "execution_count": null,
   "metadata": {
    "slideshow": {
     "slide_type": "fragment"
    }
   },
   "outputs": [],
   "source": [
    "import re\n",
    "pat = 'hello'; tar = 'Hello hello';\n",
    "# search(pattern, target)\n",
    "mobj = re.search(pat, tar)\n",
    "start = mobj.start(); end = mobj.end()\n",
    "print (start, end)\n",
    "\n",
    "# match(pattern, target)\n",
    "pat = 'hello'; tar = 'Hello hello';\n",
    "mobj = re.match(pat, tar)\n",
    "print (mobj)"
   ]
  },
  {
   "cell_type": "markdown",
   "metadata": {
    "slideshow": {
     "slide_type": "slide"
    }
   },
   "source": [
    "# re Finding II\n",
    "Two types of multiple finds: findall (tuple) and  ",
    "finditer (iterable)\n",
    " - For example:"
   ]
  },
  {
   "cell_type": "code",
   "execution_count": 9,
   "metadata": {
    "slideshow": {
     "slide_type": "fragment"
    }
   },
   "outputs": [
    {
     "name": "stdout",
     "output_type": "stream",
     "text": [
      "['Hello', 'hello']\n",
      "6\n"
     ]
    }
   ],
   "source": [
    "import re\n",
    "# findall(pattern, target)\n",
    "pat = '[Hh]ello'; tar = 'Hello hello';\n",
    "mobj = re.findall(pat, tar)\n",
    "print (mobj)\n",
    "\n",
    "# finditer(pattern, target)\n",
    "pat = 'hello'; tar = 'Hello hello';\n",
    "for mobj in re.finditer(pat, tar):\n",
    "    print (mobj.start())"
   ]
  },
  {
   "cell_type": "markdown",
   "metadata": {
    "slideshow": {
     "slide_type": "slide"
    }
   },
   "source": [
    "# re Optimize and Reuse\n",
    "Pattern can be compiled to speed up search and reuse\n",
    "- For example:"
   ]
  },
  {
   "cell_type": "code",
   "execution_count": 8,
   "metadata": {
    "slideshow": {
     "slide_type": "fragment"
    }
   },
   "outputs": [
    {
     "name": "stdout",
     "output_type": "stream",
     "text": [
      "['Hello', 'hello']\n"
     ]
    }
   ],
   "source": [
    "import re\n",
    "# compile(pattern)\n",
    "pat = '[Hh]ello'; tar = 'Hello hello';\n",
    "regex = re.compile(pat)\n",
    "\n",
    "mo = regex.findall(tar)\n",
    "print ( mo)"
   ]
  },
  {
   "cell_type": "markdown",
   "metadata": {
    "slideshow": {
     "slide_type": "slide"
    }
   },
   "source": [
    "# re Replacement\n",
    "Two types of pattern replacement: sub (string) and subn (tuple)\n",
    " - For example:"
   ]
  },
  {
   "cell_type": "code",
   "execution_count": null,
   "metadata": {
    "slideshow": {
     "slide_type": "fragment"
    }
   },
   "outputs": [],
   "source": [
    "import re\n",
    "# sub(pattern, replacement, target)\n",
    "pat = '(?:GC){3,}'\n",
    "seq = 'GCTACTGCGCGCTTCATGTGATGCGCGCGCGCA'\n",
    "mobj = re.sub(pat, \"\", seq)\n",
    "print ( mobj)\n",
    "\n",
    "# subn(pattern, replacement, target)\n",
    "pat = '(?:GC){3,}'\n",
    "seq = 'GCTACTGCGCGCTTCATGTGATGCGCGCGCGCA'\n",
    "mobj = re.subn(pat, \"\", seq)\n",
    "print (mobj)"
   ]
  },
  {
   "cell_type": "markdown",
   "metadata": {
    "slideshow": {
     "slide_type": "slide"
    }
   },
   "source": [
    "# Getting Results from re\n",
    "In Python, there are a number of methods for getting information from the match"
   ]
  },
  {
   "cell_type": "markdown",
   "metadata": {
    "slideshow": {
     "slide_type": "slide"
    }
   },
   "source": [
    "# re Groups\n",
    "Two types of group information:<br>\n",
    "__group__ (string or tuple) and __groups__ (tuple)\n",
    " - For example:"
   ]
  },
  {
   "cell_type": "code",
   "execution_count": null,
   "metadata": {
    "slideshow": {
     "slide_type": "fragment"
    }
   },
   "outputs": [],
   "source": [
    "import re\n",
    "# group(num1, num2, ...)\n",
    "pat = '(\\w+)\\s+(\\w+)'; tar = 'Hello Fred!';\n",
    "mobj = re.match(pat, tar)\n",
    "\n",
    "print (mobj.group())\n",
    "\n",
    "\n",
    "# groups()\n",
    "print (mobj.groups() )"
   ]
  },
  {
   "cell_type": "markdown",
   "metadata": {
    "slideshow": {
     "slide_type": "slide"
    }
   },
   "source": [
    "# re Groups II\n",
    "Groups can also be labeled to refer to them later (?P<name>)\n",
    " - For example:"
   ]
  },
  {
   "cell_type": "code",
   "execution_count": null,
   "metadata": {},
   "outputs": [],
   "source": [
    "python3 genomeAnalyzer.py < testgenome.fa > test.out"
   ]
  },
  {
   "cell_type": "code",
   "execution_count": null,
   "metadata": {
    "slideshow": {
     "slide_type": "fragment"
    }
   },
   "outputs": [],
   "source": [
    "import re\n",
    "# group(num1, num2, ...) - now use name to get grp\n",
    "\n",
    "pat = '(?P<TBX>TATA..).*(?P<CGislands>(?:GC){3,})' \n",
    "seq = 'ATATAAGATGCGCGCGCTTATGCGCGCA'\n",
    "mobj = re.search(pat, seq)\n",
    "print (mobj.group('CGislands'))\n",
    "print (mobj.group('TBX'))"
   ]
  },
  {
   "cell_type": "markdown",
   "metadata": {
    "slideshow": {
     "slide_type": "slide"
    }
   },
   "source": [
    "# re Ranges\n",
    "Three types of range information on match:  ",
    "start, stop, span\n",
    " - For example:"
   ]
  },
  {
   "cell_type": "code",
   "execution_count": null,
   "metadata": {
    "slideshow": {
     "slide_type": "fragment"
    }
   },
   "outputs": [],
   "source": [
    "import re\n",
    "# start(groupnum)\n",
    "pat = 'hello'; tar = 'Hello hello';\n",
    "mobj = re.search(pat, tar)\n",
    "print (mobj.start())\n",
    "# end(groupnum)\n",
    "print (mobj.end())\n",
    "# span(groupnum)\n",
    "print (mobj.span())"
   ]
  },
  {
   "cell_type": "markdown",
   "metadata": {
    "slideshow": {
     "slide_type": "slide"
    }
   },
   "source": [
    "# Lab 4\n",
    "Practice with methods, modules, functions\n",
    " - NucParams\n",
    "     - init\n",
    "     - nucComposition() -- save in Native valid form\n",
    "     - aaComposition()\n",
    "     - codonComposition() -- save in RNA form\n",
    "     - nucCount() -- Native valid form\n",
    " - Genome Analysis\n",
    "     - relative codon usage"
   ]
  }
 ],
 "metadata": {
  "celltoolbar": "Slideshow",
  "kernelspec": {
   "display_name": "Python 3",
   "language": "python",
   "name": "python3"
  },
  "language_info": {
   "codemirror_mode": {
    "name": "ipython",
    "version": 3
   },
   "file_extension": ".py",
   "mimetype": "text/x-python",
   "name": "python",
   "nbconvert_exporter": "python",
   "pygments_lexer": "ipython3",
   "version": "3.7.6"
  }
 },
 "nbformat": 4,
 "nbformat_minor": 2
}