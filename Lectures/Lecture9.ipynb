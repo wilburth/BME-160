{
 "cells": [
  {
   "cell_type": "markdown",
   "metadata": {
    "slideshow": {
     "slide_type": "slide"
    }
   },
   "source": [
    "# Research Programming in the Life Sciences\n",
    "## Docstrings and Streams\n",
    "\n",
    "- David L. Bernick, PhD\n",
    "- Biomolecular Engineering\n",
    "- Baskin School of Engineering\n",
    "- UCSC"
   ]
  },
  {
   "cell_type": "markdown",
   "metadata": {
    "slideshow": {
     "slide_type": "slide"
    }
   },
   "source": [
    "# Homework\n",
    " \n",
    "## Reading\n",
    " - Functions (and methods) - Model Ch 2. pp 24-29\n",
    " - Modules - Model Ch 2.  pp 34-41, 44\n",
    " - Namespaces - Model Ch 2. pp 21-22, 27, 34-37\n",
    " \n",
    "## Final Project Abstract\n",
    " - Due Friday, Feb 5\n",
    " \n",
    "## Lab\n",
    " - Lab 5 due in 2 weeks\n",
    " - submit in “assignments” section of Canvas"
   ]
  },
  {
   "cell_type": "markdown",
   "metadata": {
    "slideshow": {
     "slide_type": "slide"
    }
   },
   "source": [
    "# Overview\n",
    " - DocStrings\n",
    " - Streams\n",
    " - Lab 5"
   ]
  },
  {
   "cell_type": "markdown",
   "metadata": {
    "slideshow": {
     "slide_type": "slide"
    }
   },
   "source": [
    "# PEP 257 -  ",
    "DocString conventions\n",
    "A docstring is a string literal that occurs as the first statement in a module, function, class, or method definition. Such a docstring becomes the __doc__ special attribute of that object.\n",
    "- https://www.python.org/dev/peps/pep-0257/"
   ]
  },
  {
   "cell_type": "markdown",
   "metadata": {
    "slideshow": {
     "slide_type": "slide"
    }
   },
   "source": [
    "# One line docstrings\n",
    "The docstring is a phrase ending in a period. It prescribes the function or method's effect as a command (\"Do this\", \"Return that\"), not as a description; e.g. don't write \"Returns the pathname ...\".\n",
    "## Example:"
   ]
  },
  {
   "cell_type": "code",
   "execution_count": null,
   "metadata": {
    "slideshow": {
     "slide_type": "fragment"
    }
   },
   "outputs": [],
   "source": [
    "def kos_root():\n",
    "    \"\"\"Return the pathname of the KOS root directory.\"\"\"\n",
    "    global _kos_root\n",
    "    if _kos_root: return _kos_root\n",
    "    …"
   ]
  },
  {
   "cell_type": "markdown",
   "metadata": {
    "slideshow": {
     "slide_type": "slide"
    }
   },
   "source": [
    "# Multi-line DocStrings\n",
    "Multi-line docstrings consist of a summary line just like a one-line docstring, followed by a blank line, followed by a more elaborate description.\n",
    "\n",
    " - The docstring of a stand-alone program should be usable as its \"usage\" message\n",
    "\n",
    " - The docstring for a module should generally list the classes, exceptions and functions (and any other objects) that are exported by the module, with a one-line summary of each.\n",
    "\n",
    " - The docstring for a function or method should summarize its behavior and document its arguments, return value(s), side effects, exceptions raised, and restrictions on when it can be called (all if applicable). Optional arguments should be indicated. It should be documented whether keyword arguments are part of the interface.\n",
    "\n",
    " - The docstring for a class should summarize its behavior and list the public methods and instance attributes."
   ]
  },
  {
   "cell_type": "markdown",
   "metadata": {
    "slideshow": {
     "slide_type": "slide"
    }
   },
   "source": [
    "# Multi-line DocString Example:"
   ]
  },
  {
   "cell_type": "code",
   "execution_count": null,
   "metadata": {
    "slideshow": {
     "slide_type": "fragment"
    }
   },
   "outputs": [],
   "source": [
    "def complex(real=0.0, imag=0.0):\n",
    "    \"\"\"Form a complex number.\n",
    "\n",
    "    Keyword arguments:\n",
    "    real -- the real part (default 0.0)\n",
    "    imag -- the imaginary part (default 0.0)\n",
    "    \"\"\"\n",
    "    if imag == 0.0 and real == 0.0:\n",
    "        return complex_zero\n",
    "    …"
   ]
  },
  {
   "cell_type": "markdown",
   "metadata": {
    "slideshow": {
     "slide_type": "slide"
    }
   },
   "source": [
    "# DocString Example\n",
    "http://sphinxcontrib-napoleon.readthedocs.org/en/latest/example_google.html"
   ]
  },
  {
   "cell_type": "code",
   "execution_count": null,
   "metadata": {
    "slideshow": {
     "slide_type": "fragment"
    }
   },
   "outputs": [],
   "source": [
    "import goodDocs\n",
    "help (goodDocs)\n",
    "help (goodDocs.ExampleClass)\n",
    "help (goodDocs.ExampleClass.example_method)"
   ]
  },
  {
   "cell_type": "markdown",
   "metadata": {
    "slideshow": {
     "slide_type": "slide"
    }
   },
   "source": [
    "# Streams\n",
    "A stream is a temporally ordered sequence of indefinite length that travels from source ➙ sink.\n",
    " ![Streams](Lecture9Streams.png)"
   ]
  },
  {
   "cell_type": "markdown",
   "metadata": {
    "slideshow": {
     "slide_type": "slide"
    }
   },
   "source": [
    "# Files as Streams of Data\n",
    " - Read data from a file into python\n",
    " - Write data from python to a file\n",
    " ![ReadWrite](Lecture9ReadWrite.png)"
   ]
  },
  {
   "cell_type": "markdown",
   "metadata": {
    "slideshow": {
     "slide_type": "slide"
    }
   },
   "source": [
    "# Creating File Objects\n",
    "In Python, files are processed using the built-in function __*open*__\n",
    "## Example:\n",
    " - __*open (path, mode)*__\n",
    "     - __*path*__ is the location of the file\n",
    "     - __*mode*__ is the content andcoperation performed  ",
    "on the file\n",
    "     "
   ]
  },
  {
   "cell_type": "markdown",
   "metadata": {
    "slideshow": {
     "slide_type": "slide"
    }
   },
   "source": [
    "# Creating File Objects\n",
    "# modes\n",
    "![modes](Lecture9modes.png)"
   ]
  },
  {
   "cell_type": "markdown",
   "metadata": {
    "slideshow": {
     "slide_type": "slide"
    }
   },
   "source": [
    "# Open Files Using __*with*__\n",
    " - Compound statement for opening and closing a file in Python\n",
    " ![with](Lecture9with.png)"
   ]
  },
  {
   "cell_type": "markdown",
   "metadata": {
    "slideshow": {
     "slide_type": "slide"
    }
   },
   "source": [
    "# File Handles\n",
    " - Open creates an object that is a \"handle\" to a file (fileobj).\n",
    " - Built-in methods for manipulating file objects.\n",
    " - Reading:\n",
    "     - fileobj.read([count]) - reads in bytes of a file\n",
    "     - fileobj.readline([count]) - read single line of file\n",
    "     - fileobj.readlines() - read all lines into list\n",
    " - Writing:\n",
    "     - fileobj.write(string) - write string to fileobj\n",
    "     - fileobj.writelines(sequence) - write each element of sequence to fileobj"
   ]
  },
  {
   "cell_type": "markdown",
   "metadata": {
    "slideshow": {
     "slide_type": "slide"
    }
   },
   "source": [
    "# File Methods\n",
    "![PythonIO](Lecture9IOmethods.png)"
   ]
  },
  {
   "cell_type": "markdown",
   "metadata": {
    "slideshow": {
     "slide_type": "slide"
    }
   },
   "source": [
    "# File Methods -- Examples\n",
    " - Read in FASTQ file\n",
    " - Write out sequences to file in FASTA format \n",
    " - Reminders:\n",
    "     - remove last character of readline '\\n' with .rstrip()\n",
    "     - write will overwrite data"
   ]
  },
  {
   "cell_type": "markdown",
   "metadata": {
    "slideshow": {
     "slide_type": "slide"
    }
   },
   "source": [
    "# Files Summary\n",
    " - Streams of data (read and write)\n",
    " - Mode values dictate:\n",
    "    - the content of data (text versus binary)\n",
    "    - how to access the data (read, write, append)\n",
    " - A file handle is an object that represents a file\n",
    " - Open file handles using the with function\n",
    " - Read through files:\n",
    "    - line by line – readline\n",
    "    - batch of lines – readlines\n",
    " - Write out data to files:\n",
    "    - line by line – write\n",
    "    - using a sequence of strings – writelines"
   ]
  }
 ],
 "metadata": {
  "celltoolbar": "Slideshow",
  "kernelspec": {
   "display_name": "Python 3",
   "language": "python",
   "name": "python3"
  },
  "language_info": {
   "codemirror_mode": {
    "name": "ipython",
    "version": 3
   },
   "file_extension": ".py",
   "mimetype": "text/x-python",
   "name": "python",
   "nbconvert_exporter": "python",
   "pygments_lexer": "ipython3",
   "version": "3.7.6"
  }
 },
 "nbformat": 4,
 "nbformat_minor": 2
}
