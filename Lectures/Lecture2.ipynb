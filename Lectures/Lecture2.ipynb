{
 "cells": [
  {
   "cell_type": "markdown",
   "metadata": {
    "pycharm": {},
    "slideshow": {
     "slide_type": "slide"
    }
   },
   "source": [
    "# Research Programming in the Life Sciences\n",
    "- David L. Bernick, PhD\n",
    "- Biomolecular Engineering\n",
    "- Baskin School of Engineering\n",
    "- UCSC"
   ]
  },
  {
   "cell_type": "markdown",
   "metadata": {
    "pycharm": {},
    "slideshow": {
     "slide_type": "slide"
    }
   },
   "source": [
    "# Housekeeping\n",
    " - Overview\n",
    " - Python background\n",
    " - Development environments\n",
    " - Python primitives\n",
    " - Debugging "
   ]
  },
  {
   "cell_type": "markdown",
   "metadata": {
    "pycharm": {},
    "slideshow": {
     "slide_type": "slide"
    }
   },
   "source": [
    "# Brief Background on Python\n",
    " - Developed by Guido van Rossum\n",
    " - Initially released in 1991\n",
    " - v1 release 1994\n",
    " - 2.x released 2000\n",
    " - 3.x released 2008\n",
    " - 3.2 released 2011\n",
    " "
   ]
  },
  {
   "cell_type": "markdown",
   "metadata": {
    "pycharm": {},
    "slideshow": {
     "slide_type": "slide"
    }
   },
   "source": [
    "# Python is a computer language that is:\n",
    " - Interpreted – fast development\n",
    " - Dynamic – data handling\n",
    " - Collects its own garbage – memory management\n",
    " - Readable – string / text oriented\n",
    " - Multi-paradigm – functional, imperative, object-oriented\n",
    " - Community Supported\n",
    " "
   ]
  },
  {
   "cell_type": "markdown",
   "metadata": {
    "pycharm": {},
    "slideshow": {
     "slide_type": "slide"
    }
   },
   "source": [
    "# What Does Interpreted Mean?\n",
    " - __*Source code*__ .... this is the language we write\n",
    " - __*byte code*__   .... produced by python as an intermediate form\n",
    " - __*interpreter*__ .... reads and executes byte code\n",
    " \n",
    "Interpreter simulates a computer that understands a high-level language, rather than translating the code, the interpreter executes instructions line-by-line."
   ]
  },
  {
   "cell_type": "markdown",
   "metadata": {
    "pycharm": {},
    "slideshow": {
     "slide_type": "slide"
    }
   },
   "source": [
    "# Development Environments (IDEs)\n",
    "Designed to help programmers develop code, all steps in one package\n",
    " - Edit (Writing)\n",
    " - Compile (building the runnable program)\n",
    " - Run (Executing)\n",
    " - Debug (Fixing)\n",
    " \n",
    "__Jupyter__: Provides some of these. ** We will focus on Jupyter to start **\n",
    "\n",
    "__IDLE__: Built into the Python distribution\n",
    "\n",
    "__PyCharm__: Implements most of these ** You will want to switch to IDEs **\n",
    "\n",
    "__Aquamacs, emacs, vi __: Focus on the Edit step\n",
    "\n",
    "__Notepad, TextEdit__: Just text editing"
   ]
  },
  {
   "cell_type": "markdown",
   "metadata": {
    "pycharm": {},
    "slideshow": {
     "slide_type": "slide"
    }
   },
   "source": [
    "# Prolog\n",
    "\n",
    "We will need to automatically test your programs.\n",
    "\n",
    "All submitted files must be:\n",
    " - properly named, \n",
    " - include the __Prolog__ identifying you, your partner, and Python !\n",
    " - include Standard Docstrings\n",
    " \n",
    "We will be teaching with Jupyter, and we will be building command line programs. Both are quite useful.\n"
   ]
  },
  {
   "cell_type": "code",
   "execution_count": 5,
   "metadata": {
    "collapsed": true,
    "pycharm": {
     "is_executing": false
    },
    "slideshow": {
     "slide_type": "fragment"
    }
   },
   "outputs": [
    {
     "data": {
      "text/plain": [
       "'\\nCreate trancendental trivia.\\n\\ninputs:\\noutputs:\\n'"
      ]
     },
     "execution_count": 5,
     "metadata": {},
     "output_type": "execute_result"
    }
   ],
   "source": [
    "#!/usr/bin/env python3\n",
    "# Name: David Bernick (dbernick)\n",
    "# Group Members: None\n",
    "\n",
    "\"\"\"\n",
    "Create trancendental trivia.\n",
    "\n",
    "inputs:\n",
    "outputs:\n",
    "\"\"\"\n"
   ]
  },
  {
   "cell_type": "markdown",
   "metadata": {
    "pycharm": {},
    "slideshow": {
     "slide_type": "slide"
    }
   },
   "source": [
    "# Programs Manipulate Data\n",
    "Computer programming is the art and science of manipulating data\n",
    "\n",
    " - An individual item of data is called a value\n",
    " - Every value in Python has a type that identifies what kind of value it is\n",
    " - All items of data in Python are held as an __object__\n",
    " - Every object in Python is a member of a __class__ \n",
    "     - that specifies what it can do and what can be done with it.\n",
    " - __*type : value*__\n",
    " - __*class : object*__"
   ]
  },
  {
   "cell_type": "markdown",
   "metadata": {
    "pycharm": {},
    "slideshow": {
     "slide_type": "slide"
    }
   },
   "source": [
    "# Python - Types of Data\n",
    "## Data comes in different types / classes\n",
    " - Simple types like numbers and strings\n",
    "     - Python infers data type\n",
    "       __Boolean, Integer, Float, String__\n",
    " - Collections of simple types\n",
    "     - Python calls these __lists or tuples__\n",
    "     - Encapsulated in [ ] or ( )\n",
    " - Associations between data\n",
    "     - Python calls these __dictionaries__\n",
    "     - Encapsulated in { }"
   ]
  },
  {
   "cell_type": "markdown",
   "metadata": {
    "pycharm": {},
    "slideshow": {
     "slide_type": "slide"
    }
   },
   "source": [
    "# Primitives\n",
    "\n",
    " - Simple Values\n",
    " \n",
    "     - \"Hello World\" # this is a string\n",
    "     - 7             # this is an integer\n",
    "     - 6.02e+23      # this is a floating point number\n",
    "\n",
    " - Expressions\n",
    "     - an <span style=\"color:red\">operator</span>, (symbol) and its <span style=\"color:blue\">operand(s)</span>\n",
    "     - for example: \n",
    "<span style=\"color:blue\">7</span>\n",
    "<span style=\"color:red\">*</span>\n",
    "<span style=\"color:blue\">8</span>\n",
    "<span style=\"color:red\">+</span>\n",
    "<span style=\"color:blue\">2</span>"
   ]
  },
  {
   "cell_type": "markdown",
   "metadata": {
    "pycharm": {},
    "slideshow": {
     "slide_type": "slide"
    }
   },
   "source": [
    "# Simple Values"
   ]
  },
  {
   "cell_type": "code",
   "execution_count": 7,
   "metadata": {
    "collapsed": true,
    "pycharm": {
     "is_executing": false
    },
    "slideshow": {
     "slide_type": "fragment"
    }
   },
   "outputs": [],
   "source": [
    "7          # integer value\n",
    "1.5        # float value\n",
    "2e4        # float (scientific notation)\n",
    "True       # logical (Boolean)\n",
    "\"gene\"     # a string value can be\n",
    "'Hello'    # single 'Hello' or\n",
    "\"Hello\"    # double quotes \"Hello\"\n",
    "None      # special ‘no-value’ value"
   ]
  },
  {
   "cell_type": "markdown",
   "metadata": {
    "pycharm": {},
    "slideshow": {
     "slide_type": "fragment"
    }
   },
   "source": [
    " - *Make sure that the quote pairs match for strings\n",
    " - **See Model, Table A-7, pg. 452 for summary of primitive types."
   ]
  },
  {
   "cell_type": "markdown",
   "metadata": {
    "pycharm": {},
    "slideshow": {
     "slide_type": "slide"
    }
   },
   "source": [
    "# Expressions: Numeric"
   ]
  },
  {
   "cell_type": "code",
   "execution_count": 8,
   "metadata": {
    "collapsed": true,
    "pycharm": {
     "is_executing": false
    },
    "slideshow": {
     "slide_type": "fragment"
    }
   },
   "outputs": [
    {
     "data": {
      "text/plain": [
       "3"
      ]
     },
     "execution_count": 8,
     "metadata": {},
     "output_type": "execute_result"
    }
   ],
   "source": [
    "2 + 2    # addition\n",
    "4 * 3    # multiplication\n",
    "4 ** 2   # power\n",
    "4 / 2    # division (always float)\n",
    "11 // 4  # floor division (always int)\n",
    "11 % 4   # remainder (always int)"
   ]
  },
  {
   "cell_type": "markdown",
   "metadata": {
    "pycharm": {},
    "slideshow": {
     "slide_type": "fragment"
    }
   },
   "source": [
    " - *See Model, pgs. 5-6 for a discussion on division.\n",
    " - **See Model, Table A-8, pg. 453 for a list of Python expressions."
   ]
  },
  {
   "cell_type": "markdown",
   "metadata": {
    "pycharm": {},
    "slideshow": {
     "slide_type": "slide"
    }
   },
   "source": [
    "# Expressions: Logical\n",
    "## Logical operators (Boolean Logic)\n",
    "| A | B | and |\n",
    "|---|---|:---:|\n",
    "| F | F |F    |\n",
    "| F | T |F    |\n",
    "| T | F |F    |\n",
    "| T | T |T    |\n",
    "\n",
    "| A | B | or |\n",
    "|---|---|:---:|\n",
    "| F | F |F    |\n",
    "| F | T |T    |\n",
    "| T | F |T    |\n",
    "| T | T |T    |"
   ]
  },
  {
   "cell_type": "code",
   "execution_count": 9,
   "metadata": {
    "pycharm": {
     "is_executing": false
    },
    "slideshow": {
     "slide_type": "fragment"
    }
   },
   "outputs": [
    {
     "data": {
      "text/plain": [
       "'banana'"
      ]
     },
     "execution_count": 9,
     "metadata": {},
     "output_type": "execute_result"
    }
   ],
   "source": [
    "not True         # negation\n",
    "True and False   # and operator\n",
    "True or False    # or operator\n",
    "\n",
    "'banana' or 'apple'"
   ]
  },
  {
   "cell_type": "markdown",
   "metadata": {
    "pycharm": {},
    "slideshow": {
     "slide_type": "slide"
    }
   },
   "source": [
    "# Boolean\n",
    " - the boolean constants: <span style=\"color:green\">True</span> and <span style=\"color:red\">False</span>\n",
    "     - <span style=\"color:red\">None, 0, 0.0, '', False</span> evaluate as <span style=\"color:red\">False</span>\n",
    "     - all other values are <span style=\"color:green\">True</span>\n",
    "\n",
    " - boolean operators: \n",
    "     - not\n",
    "     - __and__ # short circuit\n",
    "         - if A is False, return A; otherwise return B\n",
    "     - __or__  # short circuit\n",
    "         - if A is True, return A; otherwise return B\n"
   ]
  },
  {
   "cell_type": "markdown",
   "metadata": {
    "pycharm": {},
    "slideshow": {
     "slide_type": "slide"
    }
   },
   "source": [
    "# Comparison Operators\n",
    "There are six comparison operators that return Boolean values:\n",
    "\n",
    "Operands must evaluate to a simple value"
   ]
  },
  {
   "cell_type": "code",
   "execution_count": null,
   "metadata": {
    "collapsed": true,
    "pycharm": {},
    "slideshow": {
     "slide_type": "fragment"
    }
   },
   "outputs": [],
   "source": [
    "==  # equal?\n",
    "!=  # not equal?\n",
    "<   # less than?\n",
    ">   # greater than?\n",
    "<=  # less than or equal?\n",
    ">=  # greater than or equal?"
   ]
  },
  {
   "cell_type": "markdown",
   "metadata": {
    "pycharm": {},
    "slideshow": {
     "slide_type": "slide"
    }
   },
   "source": [
    "# Expressions: Strings\n",
    "## String Operators"
   ]
  },
  {
   "cell_type": "code",
   "execution_count": null,
   "metadata": {
    "pycharm": {},
    "slideshow": {
     "slide_type": "fragment"
    }
   },
   "outputs": [],
   "source": [
    "'TA' in 'TATATA'  # 1st substring of 2nd?\n",
    "'A' not in 'GCGC' # 1st !substring of 2nd?\n",
    "'AC' + 'GT'       # concatenate (smush)\n",
    "6 * 'GC'          # repeat"
   ]
  },
  {
   "cell_type": "markdown",
   "metadata": {
    "pycharm": {},
    "slideshow": {
     "slide_type": "fragment"
    }
   },
   "source": [
    " - in, not in, +  operations expect operand pairs<br>\n",
    " - repeat operator(*) expects integer and a string (order doesn't matter)<br>\n",
    " - in, not in     result in Boolean<br>\n",
    " - +, *           result in new string<br>"
   ]
  },
  {
   "cell_type": "markdown",
   "metadata": {
    "pycharm": {},
    "slideshow": {
     "slide_type": "slide"
    }
   },
   "source": [
    "# Expressions: Strings \n",
    "Subscription extracts one character from a string at a particular index position."
   ]
  },
  {
   "cell_type": "code",
   "execution_count": null,
   "metadata": {
    "pycharm": {},
    "slideshow": {
     "slide_type": "fragment"
    }
   },
   "outputs": [],
   "source": [
    " index positions \n",
    "[0]  [1]  [2]  [3]\n",
    " T    C    A    G\n",
    "[-4] [-3] [-2] [-1]"
   ]
  },
  {
   "cell_type": "code",
   "execution_count": null,
   "metadata": {
    "collapsed": true,
    "pycharm": {},
    "slideshow": {
     "slide_type": "fragment"
    }
   },
   "outputs": [],
   "source": [
    " 0123456789  # Python position starts at 0\n",
    "'VLSPADKTNV'[0]   # extract pos 0\n",
    "'VLSPADKTNV'[-1]  # extract pos -1\n",
    "'VLSPADKTNV'[1]   # extract pos 1"
   ]
  },
  {
   "cell_type": "markdown",
   "metadata": {
    "pycharm": {},
    "slideshow": {
     "slide_type": "slide"
    }
   },
   "source": [
    "# Expressions: [B:E:S]\n",
    "Slicing extracts a series of characters from a string – format is [ Begin:End:Step ]"
   ]
  },
  {
   "cell_type": "code",
   "execution_count": null,
   "metadata": {
    "collapsed": true,
    "pycharm": {},
    "slideshow": {
     "slide_type": "fragment"
    }
   },
   "outputs": [],
   "source": [
    "index positions \n",
    "[:  [0:  [1:  [2:  [3:\n",
    "      T    C    A    G\n",
    "  :0]   :1]  :2]  :3]  :] "
   ]
  },
  {
   "cell_type": "code",
   "execution_count": null,
   "metadata": {
    "collapsed": true,
    "pycharm": {},
    "slideshow": {
     "slide_type": "fragment"
    }
   },
   "outputs": [],
   "source": [
    " 0123456789  # Python position starts @ 0\n",
    "'VLSPADKTNV'[1:4]   # slice pos 1,2,3\n",
    "'VLSPADKTNV'[4:-1]  # slice pos 4,5,..,8\n",
    "'VLSPADKTNV'[4:]    # slice pos 4,5,..,9"
   ]
  },
  {
   "cell_type": "markdown",
   "metadata": {
    "pycharm": {},
    "slideshow": {
     "slide_type": "slide"
    }
   },
   "source": [
    "# Expressions: Calls\n",
    "The simplest call is to invoke a function, which does something and returns a value"
   ]
  },
  {
   "cell_type": "code",
   "execution_count": 14,
   "metadata": {
    "pycharm": {},
    "slideshow": {
     "slide_type": "fragment"
    }
   },
   "outputs": [
    {
     "name": "stdout",
     "output_type": "stream",
     "text": [
      "what is your name ? David\n",
      "David\n"
     ]
    }
   ],
   "source": [
    "# len(arg)    # number of characters in arg\n",
    "len('TATA')\n",
    "# input()     # read in string \n",
    "# k = input()\n",
    "\n",
    "# input('Prompt') # read in string with prompt\n",
    "k = input('what is your name ? ')\n",
    "print (k)"
   ]
  },
  {
   "cell_type": "markdown",
   "metadata": {
    "pycharm": {},
    "slideshow": {
     "slide_type": "slide"
    }
   },
   "source": [
    "# Type casting\n",
    " - Python automatically infers the type of a value.\n",
    "\n",
    " - If we need otherwise, types can be \"cast\" by a function call.\n",
    "\n",
    " - Properly stated: objects of a specific class can be instantiated using parameters of specific types"
   ]
  },
  {
   "cell_type": "code",
   "execution_count": null,
   "metadata": {
    "collapsed": true,
    "pycharm": {},
    "slideshow": {
     "slide_type": "fragment"
    }
   },
   "outputs": [],
   "source": [
    "# str(arg)   # cast arg as string\n",
    "str(8)\n",
    "# int(arg)   # cast arg as int\n",
    "int(3.14)\n",
    "# float(arg) # cast arg as float\n",
    "float(7)"
   ]
  },
  {
   "cell_type": "markdown",
   "metadata": {
    "pycharm": {},
    "slideshow": {
     "slide_type": "slide"
    }
   },
   "source": [
    "# Printing Values\n",
    "\n",
    " -  Printing: a way to display or write values"
   ]
  },
  {
   "cell_type": "code",
   "execution_count": null,
   "metadata": {
    "pycharm": {},
    "slideshow": {
     "slide_type": "fragment"
    }
   },
   "outputs": [],
   "source": [
    "print (\"ACTG\")        # print string\n",
    "print (\"%0.3f\" % 1.2) # print formatted string\n",
    "\n",
    "print ('this is a %s of the %s' % ('test', 'system') )\n",
    "print ('this is a {0} of the {1}'.format('test', 'system') )\n",
    "print ('this is a {this} of the {that}'.format(this='test', that='system') )"
   ]
  },
  {
   "cell_type": "markdown",
   "metadata": {
    "pycharm": {},
    "slideshow": {
     "slide_type": "slide"
    }
   },
   "source": [
    "# Expressions: Methods\n",
    " - methods are functions of a specific class\n",
    " - We can construct instances of a class with its own attributes (data) \n",
    " "
   ]
  },
  {
   "cell_type": "code",
   "execution_count": 22,
   "metadata": {
    "pycharm": {},
    "slideshow": {
     "slide_type": "fragment"
    }
   },
   "outputs": [
    {
     "name": "stdout",
     "output_type": "stream",
     "text": [
      "5\n",
      "2\n"
     ]
    }
   ],
   "source": [
    "string1 = \"fred\"\n",
    "k = string1.count('')  # count characters(+1)\n",
    "print (k)\n",
    "k = 'TATAT'.count('A') # count 'A's\n",
    "print (k)\n",
    "\n",
    "# we also can invent our own methods\n",
    "# student.printMe()"
   ]
  },
  {
   "cell_type": "markdown",
   "metadata": {
    "pycharm": {},
    "slideshow": {
     "slide_type": "slide"
    }
   },
   "source": [
    "# Expressions: Methods\n",
    "- if student is an instance of class Person,\n",
    "     - the student object can have a myName attribute,\n",
    "     - and the student.printMe() method can display myName"
   ]
  },
  {
   "cell_type": "code",
   "execution_count": 16,
   "metadata": {
    "collapsed": true,
    "pycharm": {},
    "slideshow": {
     "slide_type": "fragment"
    }
   },
   "outputs": [],
   "source": [
    "class Person:\n",
    "    def __init__(self, pName):\n",
    "        self.myName = pName\n",
    "    def printMe(self):\n",
    "        print (self.myName)"
   ]
  },
  {
   "cell_type": "code",
   "execution_count": 17,
   "metadata": {
    "pycharm": {},
    "slideshow": {
     "slide_type": "fragment"
    }
   },
   "outputs": [
    {
     "name": "stdout",
     "output_type": "stream",
     "text": [
      "Fred\n"
     ]
    }
   ],
   "source": [
    "student = Person('Fred')\n",
    "student.printMe()"
   ]
  },
  {
   "cell_type": "markdown",
   "metadata": {
    "pycharm": {},
    "slideshow": {
     "slide_type": "slide"
    }
   },
   "source": [
    "# Naming Data\n",
    "In Python, a __name__ is assigned to a _value_ \n",
    "\n",
    "and a __value__ has a _type_\n",
    "\n",
    "Examples:"
   ]
  },
  {
   "cell_type": "code",
   "execution_count": null,
   "metadata": {
    "pycharm": {},
    "slideshow": {
     "slide_type": "fragment"
    }
   },
   "outputs": [],
   "source": [
    "x = 1 # the object is named x, and it has an integer value of 1 \n",
    "y = 2\n",
    "print(x + y)"
   ]
  },
  {
   "cell_type": "code",
   "execution_count": null,
   "metadata": {
    "pycharm": {},
    "slideshow": {
     "slide_type": "fragment"
    }
   },
   "outputs": [],
   "source": [
    "x = \"Good \" # the object is named x, and it has an string value of Good  \n",
    "y = \"Morning\"\n",
    "print(x + y) # operations ( + in this case) can have very different behavior based on the object they work on"
   ]
  },
  {
   "cell_type": "markdown",
   "metadata": {
    "pycharm": {},
    "slideshow": {
     "slide_type": "fragment"
    }
   },
   "source": [
    " - types seem a lot like Classes\n",
    " - values seem a lot like instances of those Classes"
   ]
  },
  {
   "cell_type": "markdown",
   "metadata": {
    "pycharm": {},
    "slideshow": {
     "slide_type": "slide"
    }
   },
   "source": [
    "## Debugging\n",
    " - Debugging is a methodical process of finding and reducing the number of bugs, or errors, in a program\n",
    "     - Remove syntax errors - usually typos, or simple language errors\n",
    "     - Test every method for proper function with valid parameters\n",
    "     - Test every method for user-safe function with invalid parameters"
   ]
  },
  {
   "cell_type": "markdown",
   "metadata": {
    "pycharm": {},
    "slideshow": {
     "slide_type": "slide"
    }
   },
   "source": [
    "## Two Categories of Errors\n",
    " - __Syntactic__ errors:\n",
    "     - Easy: Remove syntax errors from the code\n",
    "         - Interpreter will complain\n",
    "\n",
    " - __Semantic__ errors:\n",
    "     - Harder: Ensure program executes correctly\n",
    "         - logic errors\n",
    "         - design errors"
   ]
  },
  {
   "cell_type": "markdown",
   "metadata": {
    "pycharm": {},
    "slideshow": {
     "slide_type": "slide"
    }
   },
   "source": [
    "## Debugging in Python\n",
    " - Debuggers are programs for:\n",
    "     - Finding errors\n",
    "     - Checking the status of your code\n",
    "     - Verifying what a piece of code does\n",
    " - Debugging tools available in Python\n",
    "     - Jupyter Cells\n",
    "     - Interpreter\n",
    "     - print() statements\n",
    "     - IDLE debugger\n",
    "     - Other integrated development environments\n"
   ]
  },
  {
   "cell_type": "markdown",
   "metadata": {
    "pycharm": {},
    "slideshow": {
     "slide_type": "slide"
    }
   },
   "source": [
    "## Debugging in Jupyter\n",
    " - By writing code as classes, we can test using Jupyter Cells\n",
    " - Place all Classes and functions in individual cells, like this:"
   ]
  },
  {
   "cell_type": "code",
   "execution_count": 18,
   "metadata": {
    "collapsed": true,
    "pycharm": {},
    "slideshow": {
     "slide_type": "fragment"
    }
   },
   "outputs": [],
   "source": [
    "class SimpleClass:\n",
    "    def __init__(self, someValue):\n",
    "        self. myValue = someValue\n",
    "    def addThis (self, otherValue):\n",
    "        self.myValue = self.myValue + otherValue\n",
    "    def printMe(self):\n",
    "        print (self.myValue)"
   ]
  },
  {
   "cell_type": "code",
   "execution_count": 19,
   "metadata": {
    "collapsed": true,
    "pycharm": {},
    "slideshow": {
     "slide_type": "fragment"
    }
   },
   "outputs": [],
   "source": [
    "def main():\n",
    "    someObject = SimpleClass(1)\n",
    "    someObject.addThis (2)\n",
    "    someObject.printMe()"
   ]
  },
  {
   "cell_type": "code",
   "execution_count": 20,
   "metadata": {
    "pycharm": {},
    "slideshow": {
     "slide_type": "fragment"
    }
   },
   "outputs": [
    {
     "name": "stdout",
     "output_type": "stream",
     "text": [
      "3\n"
     ]
    }
   ],
   "source": [
    "main()"
   ]
  },
  {
   "cell_type": "markdown",
   "metadata": {
    "pycharm": {},
    "slideshow": {
     "slide_type": "slide"
    }
   },
   "source": [
    "## Testing\n",
    " - Jupyter now knows about SimpleClass and main()\n",
    " - We can just add a cell here, make a new object with some other value, and add something else to it"
   ]
  },
  {
   "cell_type": "code",
   "execution_count": 21,
   "metadata": {
    "pycharm": {},
    "slideshow": {
     "slide_type": "fragment"
    }
   },
   "outputs": [
    {
     "name": "stdout",
     "output_type": "stream",
     "text": [
      "1276.56\n"
     ]
    }
   ],
   "source": [
    "k = SimpleClass (1234.56)\n",
    "k.addThis(42)\n",
    "k.printMe()"
   ]
  },
  {
   "cell_type": "markdown",
   "metadata": {
    "pycharm": {},
    "slideshow": {
     "slide_type": "slide"
    }
   },
   "source": [
    "## Lab 1 Preview\n",
    " - Get familiar with environment\n",
    " - First Python program\n",
    " - Collect student information\n",
    " - Practice debugging a program"
   ]
  },
  {
   "cell_type": "markdown",
   "metadata": {
    "pycharm": {},
    "slideshow": {
     "slide_type": "slide"
    }
   },
   "source": [
    "## Homework\n",
    " - Reading\n",
    "     - Model, Ch 1\n",
    "     - Model, Ch 2 pp. 21-30\n",
    "     - Model, Appendix A\n",
    " - Lab\n",
    "     - Submit within Assignments portion of Canvas"
   ]
  }
 ],
 "metadata": {
  "celltoolbar": "Slideshow",
  "kernelspec": {
   "display_name": "Python 3",
   "language": "python",
   "name": "python3"
  },
  "language_info": {
   "codemirror_mode": {
    "name": "ipython",
    "version": 3
   },
   "file_extension": ".py",
   "mimetype": "text/x-python",
   "name": "python",
   "nbconvert_exporter": "python",
   "pygments_lexer": "ipython3",
   "version": "3.7.6"
  }
 },
 "nbformat": 4,
 "nbformat_minor": 2
}
