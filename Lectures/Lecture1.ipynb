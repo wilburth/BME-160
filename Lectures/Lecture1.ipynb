{
 "cells": [
  {
   "cell_type": "markdown",
   "metadata": {
    "slideshow": {
     "slide_type": "slide"
    }
   },
   "source": [
    "# Research Programming in the Life Sciences\n",
    "- David L. Bernick, PhD\n",
    "- Biomolecular Engineering\n",
    "- Baskin School of Engineering\n",
    "- UCSC"
   ]
  },
  {
   "cell_type": "markdown",
   "metadata": {
    "slideshow": {
     "slide_type": "slide"
    }
   },
   "source": [
    "# Overview\n",
    " - Video and Audio Recording\n",
    " - Jupyter\n",
    " - TA Resources\n",
    " - Programming basics\n",
    " - First program in Python\n",
    " - Course Overview"
   ]
  },
  {
   "cell_type": "markdown",
   "metadata": {},
   "source": [
    "# Video and Audio Recording\n",
    "In order to enhance your learning, the class will be recorded and made available for your use. Access to those recordings will be through Canvas.\n",
    "\n",
    "There may be occasional capture of your voice or video image from time to time in this course. Those recordings are intended for the use of the class as a supplemental learning aid.\n",
    "\n",
    "You are free to disable Video or Audio at any time. If you elect to enable Audio or Video, you are specifically opting-in and agree that any identifying information provided by audio, video or text may become part of the course recording. \n",
    "\n",
    "You further agree that the course recording contains my copyrighted materials and is not to be released or used without my permission, except for your personal use as a part of the Spring 2020 lecture series. I retain full ownership of the course recording and any information contained as part of that recording."
   ]
  },
  {
   "cell_type": "markdown",
   "metadata": {
    "slideshow": {
     "slide_type": "slide"
    }
   },
   "source": [
    "# Homework\n",
    "## Reading\n",
    " - Model, Ch 1,  Appendix A\n",
    " - Lutz, \"Learning Python\" pgs. 3-28\n",
    " - Bassi, \"Primer on Python\"(www.ploscompbiol.org/article/info%3Adoi%2F10.1371%2Fjournal.pcbi.0030199)\n",
    " \n",
    "## Canvas\n",
    " - Setup CruzID Gold for accessing Canvas\n",
    " - Subscribe to course(make sure you can access the course webpage)\n",
    "## Do Lab 1"
   ]
  },
  {
   "cell_type": "markdown",
   "metadata": {
    "slideshow": {
     "slide_type": "slide"
    }
   },
   "source": [
    "# Academic Integrity\n",
    "## Collaboration and independent work products\n",
    "I see exceptional value in student collaboration during problem analysis and design. I also see exceptional value in independently constructed work products. The boundary between these phases is intentionally blurry. I expect you to discuss assignments and consider various design choices - this process enhances your educational experience. __I also expect that the work that you provide to me for grading is your own.__ Doing otherwise undermines your educational experience and the overall value of the course; and it is a violation of the UCSC policy on Academic Integrity.\n",
    "\n",
    "Beneficial collaboration and academic dishonesty are quite distinct. The former enhances your knowledge, while the latter dilutes it. I expect work you turn in to me is, in fact, your own. "
   ]
  },
  {
   "cell_type": "markdown",
   "metadata": {
    "slideshow": {
     "slide_type": "slide"
    }
   },
   "source": [
    "# Academic Integrity\n",
    "## Best practices:\n",
    " - work in pairs. In your code submission, let us know who was your teammate.  We will expect that both members of the team co-identify each other.\n",
    " - collaborate with your TA and Instructor. Anything you learn from your TA or Instructor is freely usable without citation.\n",
    " - Material found on the Web or in texts is usable __with citation__. This does __not__ include material that is a substantial implementation of a similar problem, Lab or project.\n",
    " - the names (variables) of your program should tell the story of your design. Your program will reveal a composition of the solution you have developed. \n",
    "\n",
    "The bottom line: cheating will not be tolerated. Cheating in any part of the course will be taken seriously and may lead to failing the course and suspension or dismissal from the university. Please read the official UCSC policy on Academic Integrity"
   ]
  },
  {
   "cell_type": "markdown",
   "metadata": {
    "slideshow": {
     "slide_type": "slide"
    }
   },
   "source": [
    "# Special situations\n",
    "UC Santa Cruz is committed to creating an academic environment that supports its diverse student body. If you are a student with a disability who requires accommodations to achieve equal access in this course, please submit your “Accommodation Authorization Letter” from the Disability Resource Center (DRC) to me privately during my office hours or by appointment, as soon as possible in the academic quarter, preferably within 1 week. \n",
    "\n",
    "I also am open to and want to encourage you to discuss with me ways I/we can ensure your full participation in this course. If you have not already done so, I encourage you to learn more about the many services offered by the DRC. \n",
    "\n",
    "You can visit the DRC website (http://drc.ucsc.edu/index.html), make an appointment, and meet with a DRC staff member. \n",
    "\n",
    "The phone number is 831-459-2089 or email drc@ucsc.edu."
   ]
  },
  {
   "cell_type": "markdown",
   "metadata": {
    "slideshow": {
     "slide_type": "slide"
    }
   },
   "source": [
    "# Title IX\n",
    "Title IX prohibits gender discrimination, including sexual harassment, domestic and dating violence, sexual assault, and stalking. If you have have experienced sexual harassment or sexual violence, you can receive confidential support and advocacy at: \n",
    "\n",
    " - Campus Advocacy Resources & Education (CARE) Office by calling  ",
    "(831) 502-2273.  \n",
    " - Counseling & Psychological Services (CAPS) can provide confidential, counseling support, (831) 459-2628. \n",
    " - You can also report gender discrimination directly to the University’s Title IX Office, (831) 459-2462. \n",
    " - Reports to law enforcement can be made to UCPD, (831) 459-2231 ext. 1. \n",
    "\n",
    "For emergencies call 911.\n",
    "\n",
    "Faculty and Teaching Assistants are required under the UC Policy on Sexual Violence and Sexual Harassment to inform the Title IX Office should they become aware that you or any other student has experienced sexual violence or sexual harassment."
   ]
  },
  {
   "cell_type": "markdown",
   "metadata": {
    "slideshow": {
     "slide_type": "slide"
    }
   },
   "source": [
    "# Lectures and Labs\n",
    " - Lectures: Zoom\n",
    "     - MWF 1:20-2:25\n",
    " - Lab Sections: Zoom\n",
    "     - TBD Jeswanath Bheemanpally (jbheeman@ucsc.edu)\n",
    "     - TBD Zafrin Dhali (zdhali@ucsc.edu)\n",
    "     - TBD Jesse Leavitt (jsleavit@ucsc.edu)"
   ]
  },
  {
   "cell_type": "markdown",
   "metadata": {
    "slideshow": {
     "slide_type": "slide"
    }
   },
   "source": [
    "# Course Resources\n",
    "## Textbook\n",
    " - Bioinformatics Programming Using Python, Mitchell Model (req*)\n",
    " - Python Pocket Reference 4th ed, Mark Lutz (opt*)"
   ]
  },
  {
   "cell_type": "markdown",
   "metadata": {
    "slideshow": {
     "slide_type": "slide"
    }
   },
   "source": [
    "# Grading\n",
    " - 70% Programming Assignments\n",
    " - 20% Weekly Quizzes\n",
    " - 10% Final Project\n",
    " - Collaboration is encouraged\n",
    "     - Pairs only - team member cited \n",
    "     - All work submitted must be your own"
   ]
  },
  {
   "cell_type": "markdown",
   "metadata": {
    "slideshow": {
     "slide_type": "slide"
    }
   },
   "source": [
    "# Course Overview\n",
    " - Writing useful software\n",
    " - Manipulating a wide range of data formats\n",
    " - Communicating with remote biological databases\n",
    " - Using BioPython"
   ]
  },
  {
   "cell_type": "markdown",
   "metadata": {
    "slideshow": {
     "slide_type": "slide"
    }
   },
   "source": [
    "# Course Topics\n",
    " - Introduction to computing & python programming\n",
    " - Manipulating Data\n",
    " - Flow Control\n",
    " - Files and Functions\n",
    " - Searching Text and Pattern Matching\n",
    " - Large Datasets\n",
    " - Biological Algorithms\n",
    " - Biopython"
   ]
  },
  {
   "cell_type": "markdown",
   "metadata": {
    "slideshow": {
     "slide_type": "slide"
    }
   },
   "source": [
    "# Concepts in Computer Science\n",
    " - Program - a detailed, step-by-step set of instructions telling a computer EXACTLY what to do\n",
    " - What can be computed? - the field of computer science is obsessed with this question.\n",
    "design / analysis / experimentation\n",
    " - Algorithm - step-by-step process for achieving a desired result\n",
    " - Natural language - great for humans, but ambiguous\n",
    "     - __*I saw the woman in the park with the telescope*__\n",
    "     - who had the telescope, who was in the park?\n"
   ]
  },
  {
   "cell_type": "markdown",
   "metadata": {
    "slideshow": {
     "slide_type": "slide"
    }
   },
   "source": [
    "# What is a Computer Program?\n",
    " - Sequence of commands written in a particular language that can be translated into operations a computer can carry out.\n",
    " - Analogous to a recipe\n",
    "     - A recipe contains instructions that, when followed, allow a person to produce an entrée, appetizer, dessert, etc."
   ]
  },
  {
   "cell_type": "markdown",
   "metadata": {
    "slideshow": {
     "slide_type": "slide"
    }
   },
   "source": [
    "# Programming is a Tool\n",
    " - We use programming to inform better hypotheses and provide insight into the nature of a problem\n",
    " - Known:\n",
    "     - A genetic mutation leads to a change in the protein structure of hemoglobin, causing the molecules to form fibers that distort the shape of a red blood cell to form a sickle\n",
    " - Question:\n",
    "     - What is(are) the mutations in the protein sequence that are associated with sickle cell anemia?\n",
    "![Sickle Cell](Lecture1-Sicle.png)"
   ]
  },
  {
   "cell_type": "markdown",
   "metadata": {
    "slideshow": {
     "slide_type": "slide"
    }
   },
   "source": [
    "# How Programs Work\n",
    " - Source code\n",
    "     - __*Human-readable*__ instructions that contain all the logic for the program to follow\n",
    " - Object Code\n",
    "     - __*Computer-readable*__ instructions that translate the source code procedures into steps the computer will carry out\n",
    " - Compiler\n",
    "     - source code ➙ object code"
   ]
  },
  {
   "cell_type": "markdown",
   "metadata": {
    "slideshow": {
     "slide_type": "slide"
    }
   },
   "source": [
    "# Syntax versus Semantics\n",
    " - Learning how to program is analogous to learning a new language\n",
    " - __*Syntax*__ – the precise structure or form (vocabulary) of a language\n",
    " - __*Semantics*__ – the precise meaning and content of the program in the context of the problem"
   ]
  },
  {
   "cell_type": "markdown",
   "metadata": {
    "slideshow": {
     "slide_type": "slide"
    }
   },
   "source": [
    "# Program Statements\n",
    " - A program is a series of __*statements*__\n",
    "     - Analogous to steps in a recipe\n",
    "\n",
    "     - In Python each statement ends at the end of the line\n",
    "\n",
    "     - Statements can be grouped into blocks based on indentation"
   ]
  },
  {
   "cell_type": "markdown",
   "metadata": {
    "slideshow": {
     "slide_type": "slide"
    }
   },
   "source": [
    "# Program Comments\n",
    " - Human readable descriptions - __*comments / docstrings*__\n",
    " - Allow you / others to follow what you’ve done\n",
    "     - Remind yourself when you revisit code at later point\n",
    "     - Points will be deducted from your lab if it doesn’t contain comments\n",
    " - In Python each comment starts with a pound sign (\\#) or a special kind of embedded documentation called a ‘docstring’"
   ]
  },
  {
   "cell_type": "markdown",
   "metadata": {
    "slideshow": {
     "slide_type": "slide"
    }
   },
   "source": [
    "# Planning your work\n",
    " - Most important step\n",
    " - Outline what the program will do:\n",
    "     - pseudocode, diagrams, storyboard, map\n",
    " - Capture essential steps, methods (functions), and order of statements"
   ]
  },
  {
   "cell_type": "markdown",
   "metadata": {
    "slideshow": {
     "slide_type": "slide"
    }
   },
   "source": [
    "# Example Pseudocode\n",
    " - Ask user to type in their name\n",
    "     - input\n",
    " - Get whatever was typed\n",
    "     - Process input\n",
    " - Say bye to user in a personal way \n",
    "     - write out a personalized Closing (print to screen)"
   ]
  },
  {
   "cell_type": "markdown",
   "metadata": {
    "slideshow": {
     "slide_type": "slide"
    }
   },
   "source": [
    "# Example pseudocode - take 2\n",
    "```\n",
    "ask User their name —> usersName            \n",
    "make a new Person (usersName) —> thisPerson \n",
    "tell thisPerson to sayBye                   \n",
    "```\n",
    "\n",
    "| Person |  \n",
    "|------|\n",
    "| name: str| \n",
    "| sayBye()|\n",
    "\n",
    " - Can we model this problem?\n",
    " - What are the nouns?\n",
    "     - __person__\n",
    " - What attributes does the noun have?\n",
    "     - __personal name, ability to say bye__\n",
    " - What actions get done on/to/by the noun?\n",
    "     - __read its name, command it to say bye__"
   ]
  },
  {
   "cell_type": "code",
   "execution_count": 1,
   "metadata": {},
   "outputs": [
    {
     "name": "stdout",
     "output_type": "stream",
     "text": [
      "fred\n"
     ]
    }
   ],
   "source": [
    "class Person:\n",
    "    def __init__(self, id):\n",
    "        self.name = id\n",
    "    def sayBye (self):\n",
    "        print (self.name)\n",
    "\n",
    "thisPerson = Person('fred')\n",
    "thisPerson.sayBye()\n",
    "\n",
    "        "
   ]
  },
  {
   "cell_type": "markdown",
   "metadata": {
    "slideshow": {
     "slide_type": "slide"
    }
   },
   "source": [
    "# Example model\n",
    "```ask User their name —> usersName\n",
    "make a new Person (usersName) —> thisPerson\n",
    "tell thisPerson to sayBye\n",
    "```\n",
    " - this Person ----------------------------->\n",
    "\n",
    "| Person |  \n",
    "|------|\n",
    "| name: str| \n",
    "| sayBye()|\n",
    "\n",
    " - thisPerson.sayBye()"
   ]
  },
  {
   "cell_type": "markdown",
   "metadata": {
    "slideshow": {
     "slide_type": "slide"
    }
   },
   "source": [
    "# Example code"
   ]
  },
  {
   "cell_type": "code",
   "execution_count": 2,
   "metadata": {
    "slideshow": {
     "slide_type": "subslide"
    }
   },
   "outputs": [
    {
     "name": "stdout",
     "output_type": "stream",
     "text": [
      "Hello, what is your name ? :Allie\n",
      "Goodbye Allie !\n"
     ]
    }
   ],
   "source": [
    "class Person:\n",
    "    def __init__(self, personName):\n",
    "        self.name = personName\n",
    "\n",
    "    def sayBye(self):\n",
    "        print (\"Goodbye {0} !\".format (self.name) )\n",
    "\n",
    "def main ():\n",
    "    userName = input (\"Hello, what is your name ? :\")\n",
    "    thisUser = Person(userName)\n",
    "    thisUser.sayBye()\n",
    "\n",
    "main()"
   ]
  },
  {
   "cell_type": "code",
   "execution_count": 4,
   "metadata": {},
   "outputs": [
    {
     "name": "stdout",
     "output_type": "stream",
     "text": [
      "False\n",
      "True\n"
     ]
    }
   ],
   "source": [
    "class BagOfStuff :\n",
    "    def __init__ (self, stuff):\n",
    "        self.contents = stuff\n",
    "    def empty(self):\n",
    "        self.contents = None\n",
    "    def isEmpty (self):\n",
    "        print ( self.contents is None)\n",
    "        \n",
    "def main():\n",
    "    thisBag = BagOfStuff('carrots')\n",
    "    thisBag.isEmpty()\n",
    "    thisBag.empty()\n",
    "    thisBag.isEmpty()\n",
    "    \n",
    "main()"
   ]
  },
  {
   "cell_type": "code",
   "execution_count": 1,
   "metadata": {
    "slideshow": {
     "slide_type": "subslide"
    }
   },
   "outputs": [
    {
     "name": "stdout",
     "output_type": "stream",
     "text": [
      "Hello, what is your name ? :Fred\n",
      "Goodbye, from Fred!\n"
     ]
    }
   ],
   "source": [
    "class Person:\n",
    "    \"\"\"\n",
    "    Establish a simple model of humans using only their name.\n",
    "\n",
    "    Keyword arguments:\n",
    "    personName -- the name that the human wants to be known by\n",
    "    \"\"\"\n",
    "    def __init__(self,personName):\n",
    "        \"\"\" Capture the name. \"\"\"\n",
    "        self.name = personName\n",
    "\n",
    "    def sayBye(self):\n",
    "        \"\"\" Print a pretty goodbye message.\"\"\"\n",
    "        print (\"Goodbye, from {0}!\".format ( self.name))\n",
    "\n",
    "def main ():\n",
    "    \"\"\"\n",
    "    Build a new person object, then tell it to say bye.\n",
    "    \"\"\"\n",
    "    userName = input (\"Hello, what is your name ? :\")\n",
    "    thisUser = Person(userName)\n",
    "    thisUser.sayBye()\n",
    "\n",
    "main()"
   ]
  },
  {
   "cell_type": "code",
   "execution_count": 2,
   "metadata": {
    "slideshow": {
     "slide_type": "subslide"
    }
   },
   "outputs": [
    {
     "name": "stdout",
     "output_type": "stream",
     "text": [
      "Hello, what is your name ? :David\n",
      "Goodbye, from David!\n",
      "Help on function main in module __main__:\n",
      "\n",
      "main()\n",
      "    Build a new person object, then tell it to say bye.\n",
      "\n"
     ]
    }
   ],
   "source": [
    "#!/usr/bin/env python3\n",
    "# Name: David Bernick (dbernick)\n",
    "# Group Members: \"None\"\n",
    "\n",
    "class Person:\n",
    "    \"\"\"\n",
    "    Establish a simple model of humans using only their name.\n",
    "\n",
    "    Keyword arguments:\n",
    "    personName -- the name that the human wants to be known by\n",
    "    \"\"\"\n",
    "    def __init__(self,personName):\n",
    "        \"\"\"Capture the name. \"\"\"\n",
    "        self.name = personName\n",
    "\n",
    "    def sayBye(self):\n",
    "        \"\"\" Print a pretty goodbye message.\"\"\"\n",
    "        print (\"Goodbye, from {0}!\".format ( self.name))\n",
    "\n",
    "def main ():\n",
    "    \"\"\"\n",
    "    Build a new person object, then tell it to say bye.\n",
    "    \"\"\"\n",
    "    fred = input (\"Hello, what is your name ? :\")\n",
    "    thisUser = Person(fred)\n",
    "    thisUser.sayBye() # tell the user bye in a friendly way\n",
    "\n",
    "main()\n",
    "help (main)"
   ]
  },
  {
   "cell_type": "markdown",
   "metadata": {
    "slideshow": {
     "slide_type": "slide"
    }
   },
   "source": [
    "# Summary\n",
    " - Understand what the problem is and what you are asked to solve\n",
    " - Plan out your program\n",
    " - Separate the problem into its individual parts. Then, design and code the parts"
   ]
  },
  {
   "cell_type": "markdown",
   "metadata": {
    "slideshow": {
     "slide_type": "slide"
    }
   },
   "source": [
    "# Brief Background on Python\n",
    "\n",
    " - started in 1989\n",
    " - first released: 1991\n",
    " - version 1.0: 1994\n",
    " - version 2.0: 2000\n",
    " - version 3.0: 2008\n",
    " ![Monty Python](Lecture1-MontyPython.png)"
   ]
  },
  {
   "cell_type": "markdown",
   "metadata": {
    "slideshow": {
     "slide_type": "slide"
    }
   },
   "source": [
    "# What is Python?\n",
    " - Python is a computer language that is: \n",
    "\n",
    "     - Interpreted – fast development\n",
    "     - Dynamic – data handling\n",
    "     - Smart – memory management\n",
    "     - Readable – string / text oriented\n",
    "     - Object Oriented\n",
    "     - Community Supported"
   ]
  },
  {
   "cell_type": "markdown",
   "metadata": {
    "slideshow": {
     "slide_type": "slide"
    }
   },
   "source": [
    "# What Does Interpreted Mean?\n",
    " - Source Code – what you write\n",
    " - Byte Code – what Python \"compiles\"\n",
    " - Interpreter – reads and executes code\n",
    "     - Interpreter simulates a computer that understands a high-level language, rather than translating the code, the interpreter executes instructions line-by-line.\n",
    "![Interpreted](Lecture1-interpreted.png)\n",
    "     \n",
    " "
   ]
  },
  {
   "cell_type": "markdown",
   "metadata": {
    "slideshow": {
     "slide_type": "slide"
    }
   },
   "source": [
    "# Strengths of Python\n",
    " - Python is\n",
    "\n",
    "     - Free: http://www.python.org\n",
    "     - Portable –  ",
    "(Unix/Linux, Mac, Windows, desktops, laptops, and mobile devices)\n",
    "     - Powerful\n",
    "     - Mixable – wrappers and glue code\n",
    "     - Easy to use/learn! – \n",
    "      - http://docs.python.org/3.7/tutorial/index.html\n",
    "      - http://wiki.python.org/moin/BeginnersGuide"
   ]
  },
  {
   "cell_type": "markdown",
   "metadata": {
    "slideshow": {
     "slide_type": "slide"
    }
   },
   "source": [
    "# Why use Python for Biology? \n",
    " - Gradual learning curve (easy to get started)\n",
    " - Many ready-to-use modules are available\n",
    " - Quick prototyping\n",
    " - Flexible language\n",
    " - Compact code\n",
    " - Portable\n",
    " - Open source – easy to extend and customize\n",
    " - No licensing fees\n",
    " - One of the best languages to express correct programs"
   ]
  },
  {
   "cell_type": "markdown",
   "metadata": {
    "slideshow": {
     "slide_type": "slide"
    }
   },
   "source": [
    "# What Tasks are Suited to Python?\n",
    " - Parsing database files (e.g. Genbank, PubMed)\n",
    " - Parsing results of sequence analysis programs – Blast, Genscan, Hmmer, etc\n",
    " - Sequence manipulation and analysis\n",
    " - Obtaining multiple database entries over the internet\n",
    " - Calling other programs and manipulating output\n",
    " - High level machine learning - Tensorflow for example"
   ]
  },
  {
   "cell_type": "markdown",
   "metadata": {
    "slideshow": {
     "slide_type": "slide"
    }
   },
   "source": [
    "# What Tasks might not be suited to Python?\n",
    " - Rendering complex objects (graphics)\n",
    " - Aligning large biological sequences ( there are ways though )\n",
    " - Simulating Protein folding using molecular dynamics\n",
    " - Clustering gene expression data (there are ways though )\n",
    " \n",
    " Cython might be a tool for some of these"
   ]
  },
  {
   "cell_type": "markdown",
   "metadata": {
    "slideshow": {
     "slide_type": "slide"
    }
   },
   "source": [
    "# Lab 1 Preview\n",
    " - Get familiar with environment\n",
    " - First Python program\n",
    " - Collect student information\n",
    " - Practice debugging a program"
   ]
  }
 ],
 "metadata": {
  "celltoolbar": "Slideshow",
  "kernelspec": {
   "display_name": "Python 3",
   "language": "python",
   "name": "python3"
  },
  "language_info": {
   "codemirror_mode": {
    "name": "ipython",
    "version": 3
   },
   "file_extension": ".py",
   "mimetype": "text/x-python",
   "name": "python",
   "nbconvert_exporter": "python",
   "pygments_lexer": "ipython3",
   "version": "3.7.6"
  }
 },
 "nbformat": 4,
 "nbformat_minor": 2
}
