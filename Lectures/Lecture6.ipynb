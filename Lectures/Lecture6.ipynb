{
 "cells": [
  {
   "cell_type": "markdown",
   "metadata": {
    "slideshow": {
     "slide_type": "slide"
    }
   },
   "source": [
    "# Research Programming in the Life Sciences\n",
    "## iterations and loops \n",
    "\n",
    "- David L. Bernick, PhD\n",
    "- Biomolecular Engineering\n",
    "- Baskin School of Engineering\n",
    "- UCSC"
   ]
  },
  {
   "cell_type": "markdown",
   "metadata": {
    "slideshow": {
     "slide_type": "slide"
    }
   },
   "source": [
    "# Homework\n",
    "## Reading\n",
    " - Model, Chs 1, 2 and 3 pgs. 47-78, Ch 4 \n",
    " - Model, Appendix A and B"
   ]
  },
  {
   "cell_type": "markdown",
   "metadata": {
    "slideshow": {
     "slide_type": "slide"
    }
   },
   "source": [
    "# Overview\n",
    " \n",
    " - iterations\n",
    " - templates\n",
    " - Lab 3"
   ]
  },
  {
   "cell_type": "markdown",
   "metadata": {
    "slideshow": {
     "slide_type": "skip"
    }
   },
   "source": [
    "# Quiz Results\n",
    " - Q3, Q4, Q5:\n",
    "     - rnaCodons = {'AUG':'Met', 'UAA': '---', 'GGG':'Gly'}\n",
    "     - Q3: rnaCodons[1] KeyError\n",
    "     - Q4: rnaCodons.get(1) None\n",
    "     - Q5: rnaCodons.keys() [ AUG, UAA, GGG ] in any order !!!\n",
    " - Q6: in the Model text, what does he mean when he uses *[, default_value]*\n",
    " - Q7, Q8\n",
    "     - a=5; b=3 \n",
    "     - Q7: what does a or b return?  ==> returns a\n",
    "     - Q8: what does not b return? ==> returns false (not statements only returns boolean values)\n",
    " - Q9: \n",
    "     - someList=['A', 'B', 'C', 'D']\n",
    "     - someList[1:1] = 'A'"
   ]
  },
  {
   "cell_type": "code",
   "execution_count": 1,
   "metadata": {
    "slideshow": {
     "slide_type": "slide"
    }
   },
   "outputs": [
    {
     "data": {
      "image/png": "[encoded data removed]",
      "text/plain": [
       "<Figure size 432x288 with 1 Axes>"
      ]
     },
     "metadata": {
      "needs_background": "light"
     },
     "output_type": "display_data"
    }
   ],
   "source": [
    "%matplotlib inline\n",
    "import matplotlib.pyplot as plt\n",
    "x = [i/2 for i in range(6,21)]\n",
    "y = [1,1,3,3,11,6,7,6,16,3,10,3,8,0,7]\n",
    "plt.bar(x,y,0.2)\n",
    "plt.xlabel('Scores', fontsize=18)\n",
    "plt.title('Quiz 2 results',fontsize=18)\n",
    "plt.figtext(.3,0.8,'mean=69%', fontsize=18, ha='center')\n",
    "plt.show()"
   ]
  },
  {
   "cell_type": "markdown",
   "metadata": {
    "slideshow": {
     "slide_type": "slide"
    }
   },
   "source": [
    "# iterating \n",
    " - __iteration__: acting on [potentially] every element of a collection\n",
    " - __for__ statements provide iteration in Python"
   ]
  },
  {
   "cell_type": "code",
   "execution_count": null,
   "metadata": {
    "slideshow": {
     "slide_type": "fragment"
    }
   },
   "outputs": [],
   "source": [
    "for item in collection:\n",
    "    statements"
   ]
  },
  {
   "cell_type": "markdown",
   "metadata": {
    "slideshow": {
     "slide_type": "fragment"
    }
   },
   "source": [
    " - all Python collections are iterable \n",
    " - see Model pp 112-128 for excellent iteration templates"
   ]
  },
  {
   "cell_type": "markdown",
   "metadata": {
    "slideshow": {
     "slide_type": "slide"
    }
   },
   "source": [
    "# Iteration\n",
    "## The general form:"
   ]
  },
  {
   "cell_type": "code",
   "execution_count": null,
   "metadata": {
    "slideshow": {
     "slide_type": "fragment"
    }
   },
   "outputs": [],
   "source": [
    "for item in collection: \n",
    "    work on item"
   ]
  },
  {
   "cell_type": "markdown",
   "metadata": {
    "slideshow": {
     "slide_type": "fragment"
    }
   },
   "source": [
    "## Usage:\n",
    " - Iterates over all items in the collection\n",
    " - provides item in the body of the loop\n",
    "\n",
    "## Examples:"
   ]
  },
  {
   "cell_type": "code",
   "execution_count": 1,
   "metadata": {
    "slideshow": {
     "slide_type": "fragment"
    }
   },
   "outputs": [
    {
     "name": "stdout",
     "output_type": "stream",
     "text": [
      "V\n",
      "S\n",
      "D\n",
      "K\n",
      "L\n",
      "E\n",
      "D\n",
      "S\n",
      "T\n",
      "atg ctg gtg \n"
     ]
    }
   ],
   "source": [
    "protein = 'VSDKLEDST'\n",
    "for aa in protein: \n",
    "    print (aa)\n",
    "\n",
    "startCodons = ['atg', 'ctg', 'gtg' ]\n",
    "for startCodon in startCodons:\n",
    "    print (startCodon, end = ' ')\n",
    "print()"
   ]
  },
  {
   "cell_type": "markdown",
   "metadata": {
    "slideshow": {
     "slide_type": "slide"
    }
   },
   "source": [
    "# Dictionary iterations"
   ]
  },
  {
   "cell_type": "code",
   "execution_count": null,
   "metadata": {
    "slideshow": {
     "slide_type": "fragment"
    }
   },
   "outputs": [],
   "source": [
    "for item in dictionary(): \n",
    "    use item in some way"
   ]
  },
  {
   "cell_type": "markdown",
   "metadata": {
    "slideshow": {
     "slide_type": "fragment"
    }
   },
   "source": [
    "## Usage:\n",
    "Iterates over all items in the dictionary, provides key in the body of the loop\n",
    "## Examples:"
   ]
  },
  {
   "cell_type": "code",
   "execution_count": 3,
   "metadata": {
    "slideshow": {
     "slide_type": "fragment"
    }
   },
   "outputs": [
    {
     "name": "stdout",
     "output_type": "stream",
     "text": [
      "VSDKLEDST EDQRS \n",
      "1 157 \n",
      "VSDKLEDST 1\n",
      "EDQRS 157\n"
     ]
    }
   ],
   "source": [
    "motifs = {'VSDKLEDST': 1, 'EDQRS': 157}\n",
    "for motif in motifs.keys(): \n",
    "    print (motif, end = ' ')\n",
    "print()\n",
    "\n",
    "for thisValue in motifs.values(): \n",
    "    print (thisValue, end = ' ')\n",
    "print()\n",
    "\n",
    "#prints key value pairs\n",
    "for motif, count in motifs.items():\n",
    "    print (motif, count)\n"
   ]
  },
  {
   "cell_type": "markdown",
   "metadata": {
    "slideshow": {
     "slide_type": "slide"
    }
   },
   "source": [
    "# Numbered iterations"
   ]
  },
  {
   "cell_type": "code",
   "execution_count": null,
   "metadata": {
    "slideshow": {
     "slide_type": "fragment"
    }
   },
   "outputs": [],
   "source": [
    "for n, value in enumerate(iterable): \n",
    "    work on number and value"
   ]
  },
  {
   "cell_type": "markdown",
   "metadata": {
    "slideshow": {
     "slide_type": "fragment"
    }
   },
   "source": [
    "## Usage:\n",
    "Iterates over items in the iterable , giving both the iteration number and the item \n",
    "\n",
    "## Examples:"
   ]
  },
  {
   "cell_type": "code",
   "execution_count": null,
   "metadata": {
    "slideshow": {
     "slide_type": "fragment"
    }
   },
   "outputs": [],
   "source": [
    "grades = {'david':50, 'paloma':94, 'henry':92, 'danilo':95}\n",
    "\n",
    "for rank, person in enumerate(sorted(grades, key=grades.get, reverse=True)):\n",
    "    print (rank+1, person,grades[person])"
   ]
  },
  {
   "cell_type": "markdown",
   "metadata": {
    "slideshow": {
     "slide_type": "slide"
    }
   },
   "source": [
    "# Templates"
   ]
  },
  {
   "cell_type": "markdown",
   "metadata": {
    "slideshow": {
     "slide_type": "slide"
    }
   },
   "source": [
    "# Do"
   ]
  },
  {
   "cell_type": "code",
   "execution_count": null,
   "metadata": {
    "slideshow": {
     "slide_type": "fragment"
    }
   },
   "outputs": [],
   "source": [
    "for item in collection : \n",
    "    do something with item"
   ]
  },
  {
   "cell_type": "markdown",
   "metadata": {
    "slideshow": {
     "slide_type": "subslide"
    }
   },
   "source": [
    "## Usage:\n",
    "perform some operation over all elements \n",
    "\n",
    "## Example:"
   ]
  },
  {
   "cell_type": "code",
   "execution_count": null,
   "metadata": {
    "slideshow": {
     "slide_type": "fragment"
    }
   },
   "outputs": [],
   "source": [
    "myAAdictionary = { aa:0 for aa in 'ACDEFGHIKLMNPQRSTVWY'}\n",
    "\n",
    "for aa in myAAdictionary.keys():\n",
    "    print ('amino acid {0} has {1} items'.format(aa, myAAdictionary[aa]))"
   ]
  },
  {
   "cell_type": "markdown",
   "metadata": {
    "slideshow": {
     "slide_type": "slide"
    }
   },
   "source": [
    "# Repeat"
   ]
  },
  {
   "cell_type": "code",
   "execution_count": null,
   "metadata": {
    "slideshow": {
     "slide_type": "fragment"
    }
   },
   "outputs": [],
   "source": [
    "for count in range(n) : \n",
    "    statements"
   ]
  },
  {
   "cell_type": "markdown",
   "metadata": {
    "slideshow": {
     "slide_type": "subslide"
    }
   },
   "source": [
    "## Usage:\n",
    "repeat a suite of statements n times \n",
    "\n",
    "## Example:"
   ]
  },
  {
   "cell_type": "code",
   "execution_count": null,
   "metadata": {
    "slideshow": {
     "slide_type": "fragment"
    }
   },
   "outputs": [],
   "source": [
    "for count in range(10):\n",
    "    print ('test', count, 'completed')\n",
    "\n",
    "for count in range(10):\n",
    "    print ('arrow','-'*count, '>', sep='')"
   ]
  },
  {
   "cell_type": "markdown",
   "metadata": {
    "slideshow": {
     "slide_type": "slide"
    }
   },
   "source": [
    "# Collect"
   ]
  },
  {
   "cell_type": "code",
   "execution_count": null,
   "metadata": {
    "slideshow": {
     "slide_type": "fragment"
    }
   },
   "outputs": [],
   "source": [
    "result = []\n",
    "for item in collection : \n",
    "    statements\n",
    "    result.append(item)"
   ]
  },
  {
   "cell_type": "markdown",
   "metadata": {
    "slideshow": {
     "slide_type": "subslide"
    }
   },
   "source": [
    "## Usage:\n",
    "collecting selected items from a collection \n",
    "## Example:"
   ]
  },
  {
   "cell_type": "code",
   "execution_count": 4,
   "metadata": {
    "slideshow": {
     "slide_type": "fragment"
    }
   },
   "outputs": [
    {
     "name": "stdout",
     "output_type": "stream",
     "text": [
      "['paloma', 'henry', 'danilo']\n"
     ]
    }
   ],
   "source": [
    "grades = {'david':50, 'paloma':94, 'henry':92, 'danilo':95}\n",
    "\n",
    "Astudents = []\n",
    "for student, score in grades.items():\n",
    "    if score and (score >= 90) : \n",
    "        Astudents.append(student)\n",
    "            \n",
    "print (Astudents)"
   ]
  },
  {
   "cell_type": "markdown",
   "metadata": {
    "slideshow": {
     "slide_type": "slide"
    }
   },
   "source": [
    "# Search"
   ]
  },
  {
   "cell_type": "code",
   "execution_count": 5,
   "metadata": {
    "slideshow": {
     "slide_type": "fragment"
    }
   },
   "outputs": [
    {
     "ename": "SyntaxError",
     "evalue": "'return' outside function (<ipython-input-5-5ca52e4f923b>, line 4)",
     "output_type": "error",
     "traceback": [
      "\u001B[1;36m  File \u001B[1;32m\"<ipython-input-5-5ca52e4f923b>\"\u001B[1;36m, line \u001B[1;32m4\u001B[0m\n\u001B[1;33m    return item # after item is found, return to caller\u001B[0m\n\u001B[1;37m    ^\u001B[0m\n\u001B[1;31mSyntaxError\u001B[0m\u001B[1;31m:\u001B[0m 'return' outside function\n"
     ]
    }
   ],
   "source": [
    "foundItem = None\n",
    "for item in collection : \n",
    "    if test(item) :\n",
    "        return item # after item is found, return to caller  \n",
    "        \n",
    "# or searching another way\n",
    "foundItem = None\n",
    "for item in collection : \n",
    "    if test(item) :\n",
    "        foundItem = item  # after item is found, leave the for loop\n",
    "        break"
   ]
  },
  {
   "cell_type": "markdown",
   "metadata": {
    "slideshow": {
     "slide_type": "subslide"
    }
   },
   "source": [
    "## Usage:\n",
    "searching for a specific item \n",
    "\n",
    "## Example:"
   ]
  },
  {
   "cell_type": "code",
   "execution_count": null,
   "metadata": {
    "slideshow": {
     "slide_type": "fragment"
    }
   },
   "outputs": [],
   "source": [
    "mySchools = {'UH':'2 year','UCI':'BS', 'UCSC':'PhD'}\n",
    "foundPhD = 'not found'\n",
    "for school, degree in mySchools.items():\n",
    "    if degree == 'PhD':\n",
    "        foundPhD = school\n",
    "        break\n",
    "print (foundPhD)"
   ]
  },
  {
   "cell_type": "markdown",
   "metadata": {
    "slideshow": {
     "slide_type": "slide"
    }
   },
   "source": [
    "# Search for best"
   ]
  },
  {
   "cell_type": "code",
   "execution_count": null,
   "metadata": {
    "slideshow": {
     "slide_type": "fragment"
    }
   },
   "outputs": [],
   "source": [
    "for item in collection : \n",
    "    if test(item) :\n",
    "        do something"
   ]
  },
  {
   "cell_type": "markdown",
   "metadata": {
    "slideshow": {
     "slide_type": "subslide"
    }
   },
   "source": [
    "## Usage:\n",
    "searching for an item or f(item) to do something  \n",
    "\n",
    "## Example:"
   ]
  },
  {
   "cell_type": "code",
   "execution_count": null,
   "metadata": {
    "slideshow": {
     "slide_type": "fragment"
    }
   },
   "outputs": [],
   "source": [
    "def charge (pH) : return 10**(-pH)\n",
    "\n",
    "bestCharge = 100000000\n",
    "for pH in range(14+1):\n",
    "    thisCharge = charge(pH)\n",
    "    if thisCharge < bestCharge :\n",
    "        bestCharge = thisCharge\n",
    "print (bestCharge)"
   ]
  },
  {
   "cell_type": "markdown",
   "metadata": {
    "slideshow": {
     "slide_type": "slide"
    }
   },
   "source": [
    "# Combine"
   ]
  },
  {
   "cell_type": "code",
   "execution_count": null,
   "metadata": {
    "slideshow": {
     "slide_type": "fragment"
    }
   },
   "outputs": [],
   "source": [
    "result = initial\n",
    "for item in collection :\n",
    "    result = result ◊ item  # ◊ represents some operator\n",
    "    result ◊= item\n",
    "    result = function (result, item) # some function combines result with item"
   ]
  },
  {
   "cell_type": "markdown",
   "metadata": {
    "slideshow": {
     "slide_type": "subslide"
    }
   },
   "source": [
    "## Usage:\n",
    "producing a summary of a collection (sum, product, mean, variance) \n",
    "\n",
    "## Example:"
   ]
  },
  {
   "cell_type": "code",
   "execution_count": null,
   "metadata": {
    "slideshow": {
     "slide_type": "fragment"
    }
   },
   "outputs": [],
   "source": [
    "# calculate population variance\n",
    "mySum = 0; mySum2 = 0\n",
    "myCells = [ 1, 17, 24, 15 ]\n",
    "N = len(myCells)\n",
    "for cells in myCells :\n",
    "    mySum += cells\n",
    "    mySum2 += cells*cells\n",
    "print ('cell variance is:', mySum2/N - (mySum/N)**2 )"
   ]
  },
  {
   "cell_type": "markdown",
   "metadata": {
    "slideshow": {
     "slide_type": "slide"
    }
   },
   "source": [
    "# Count"
   ]
  },
  {
   "cell_type": "code",
   "execution_count": null,
   "metadata": {
    "slideshow": {
     "slide_type": "fragment"
    }
   },
   "outputs": [],
   "source": [
    "result = 0\n",
    "for item in iterable :\n",
    "    result = result + 1  # this form\n",
    "\n",
    "# or this way\n",
    "result = 0\n",
    "for item in iterable :\n",
    "    result += 1          # this is shorthand "
   ]
  },
  {
   "cell_type": "markdown",
   "metadata": {
    "slideshow": {
     "slide_type": "subslide"
    }
   },
   "source": [
    "## Usage:\n",
    "producing a count of items   \n",
    "## Examples:"
   ]
  },
  {
   "cell_type": "code",
   "execution_count": null,
   "metadata": {
    "slideshow": {
     "slide_type": "fragment"
    }
   },
   "outputs": [],
   "source": [
    "n = 0\n",
    "myCells = [ 1, 17, 24, 15 ]\n",
    "for cells in myCells :\n",
    "    n += 1\n",
    "    \n",
    "print ('number of samples:', n)"
   ]
  },
  {
   "cell_type": "markdown",
   "metadata": {
    "slideshow": {
     "slide_type": "slide"
    }
   },
   "source": [
    "# Lab 3 Overview\n",
    "## Practice manipulating data types\n",
    "## Find physical-chemical properties of a protein sequence\n",
    " - __init__ saves info to allow calculation of protein properties \n",
    " - aaCount() total number of valid amino acids\n",
    " - aaComposition() dictionary of counts of valid AA\n",
    " - molecularWeight() calculates the MW of the protein sequence\n",
    " - charge(pH) calculates the net charge at a specified pH\n",
    " - pI() - calculates the pH that yields a neutral charge\n",
    " - molarExtinction() calculates molar-extinction at 280nm\n",
    " - massExtinction() calculates mass-extinction at 280nm\n",
    " \n",
    "## submit your program using Canvas"
   ]
  },
  {
   "cell_type": "markdown",
   "metadata": {
    "slideshow": {
     "slide_type": "slide"
    }
   },
   "source": [
    "# Lab 3\n",
    " - __init__() method… what should be saved\n",
    "     - consider the needs of every method\n",
    " - every summation is a loop over a collection\n",
    " - avoid “order” dependencies by your caller !!\n",
    " - the program template — allows for reading multiple sequences\n",
    " - use ctrl-D to terminate your input\n",
    " - start early !!"
   ]
  }
 ],
 "metadata": {
  "celltoolbar": "Slideshow",
  "kernelspec": {
   "display_name": "Python 3",
   "language": "python",
   "name": "python3"
  },
  "language_info": {
   "codemirror_mode": {
    "name": "ipython",
    "version": 3
   },
   "file_extension": ".py",
   "mimetype": "text/x-python",
   "name": "python",
   "nbconvert_exporter": "python",
   "pygments_lexer": "ipython3",
   "version": "3.7.6"
  }
 },
 "nbformat": 4,
 "nbformat_minor": 2
}