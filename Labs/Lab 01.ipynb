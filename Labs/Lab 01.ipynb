{
 "cells": [
  {
   "cell_type": "markdown",
   "metadata": {
    "pycharm": {}
   },
   "source": [
    "###### Deliverables:  30 total points\n",
    "  - helloMe 4 points\n",
    "  - helloAgain 5 points\n",
    "  - myBio 6 points\n",
    "  - countAT-bugsSoln 9 points\n",
    "  - countNucleotides 6 points\n",
    "     \n",
    "## Due: Monday January 11, 2021 11:55pm \n",
    "## Lab 1 – Introduction to Python (30 points)\n",
    "Work in pairs. Find youself a partner who you will hopefully work with throughout the quarter.\n",
    "Although you are required to turn in independent code and answers yourself, you are encouraged to ask questions and work with each other to solve these exercises. Programming has a lot of area-specific vocabulary and concepts so it is often extremely helpful to ask for help when you run up against hurdles. Make sure to include your partners name as a comment in the first few lines of your program, like this:"
   ]
  },
  {
   "cell_type": "code",
   "execution_count": 1,
   "metadata": {
    "pycharm": {
     "is_executing": false
    }
   },
   "outputs": [],
   "source": [
    "#!/usr/bin/env python3 \n",
    "# Name: Your full name \n",
    "# Group Members: List full names  or “None”"
   ]
  },
  {
   "cell_type": "markdown",
   "metadata": {
    "pycharm": {}
   },
   "source": [
    "## Setup your workspace\n",
    "### Install Anaconda on your machine\n",
    "From the machine that you intend to do all of your work for BME 160, go to: https://www.anaconda.com/distribution/\n",
    "From that page, select the Python 3.8 version by using the download button. This may take awhile, depending on your internet connection speed.\n",
    "### MacOS BigSur issue\n",
    "For those of you who happen to be using Big Sur, this install isnt quite right. Check out: https://towardsdatascience.com/install-anaconda-on-macos-big-sur-9fbd7c4b6c24\n",
    "This will be resolved when Anaconda gets to version 3.9. Until then, if you aren't on Big Sur, you might want to wait. I can show you some options though .. I am using Python3.9 with Pycharm on Big Sur.\n",
    "\n",
    "### Downloading your first notebook\n",
    "The document you are now reading is a jupyter notebook. It is available for download using our class website service Canvas. \n",
    "First we will need to create a folder that you’ll use for this lab. To do this create a folder called bme160 on the desktop.\n",
    "From Canvas :: files :: jupyter, download Lab01.ipynb, and place it into your bme160 folder.\n",
    "\n",
    "There are five programs you will need to write. They are all embedded in Lab01.ipynb as jupyter \"cells\". Make sure to place Lab01.ipynb into your Lab01 folder.\n",
    "### Accessing Jupyter\n",
    "####  Open jupyter\n",
    "\n",
    "There are a number of ways to startup jupyter. Here are a few:\n",
    " -  LocalHost  Open _terminal_ ( located in the utilities folder on MacOS ), then change to the Lab01 directory and startup: jupyter notebook\n",
    " - https://try.jupyter.org you will then need to upload Lab 01.ipynb to that remote server. This server enforces a 10-minute inactivity limit, so you will need to save your work often. Note that this remote server sometimes doesnt run.\n",
    " - Anaconda Navigator. Startup Anaconda, then select: jupyter notebook. From Jupyter, you can then navigate to your Desktop, then to bme160, and then open Lab01.ipynb. That should bring you to a page that looks just like the Lab01 assignment.\n",
    "\n",
    "Try out __jupyter__ by selecting the following cell, then push the \"run\" button in the toolbar above, or pull down the _Cell_ menu above and select Run Cells. Notice that cells that contain runable code start with In [ ]: "
   ]
  },
  {
   "cell_type": "code",
   "execution_count": 2,
   "metadata": {
    "pycharm": {
     "is_executing": false
    }
   },
   "outputs": [
    {
     "name": "stdout",
     "text": [
      "hello Barak\n"
     ],
     "output_type": "stream"
    }
   ],
   "source": [
    "print ('hello Barak')"
   ]
  },
  {
   "cell_type": "markdown",
   "metadata": {
    "pycharm": {}
   },
   "source": [
    "make sure that “hello” is returned.\n",
    "\n",
    "From here on, you will be writing programs. \n",
    "## First python program\n",
    "The hello.py program is one of the first python programs that people write.\n",
    "\n",
    "Documenting code is an important and often overlooked process in software engineering. Don’t fall into the trap of not adding comments to your code! Note, you will not receive full credit on your assignment if your code is not clearly documented. To add comments you use the ’#’ character for single line comments, or you can use triple-quotes (“””) to begin a block of comments and then add another set of triple-quotes to end that block comment.\n",
    "\n",
    "To get an idea of what documenting and comments look like, here is an old-school version of the ’hello.py’ program,  documented:"
   ]
  },
  {
   "cell_type": "code",
   "execution_count": 3,
   "metadata": {
    "pycharm": {
     "is_executing": false
    }
   },
   "outputs": [
    {
     "name": "stdout",
     "text": [
      "Hello William\n"
     ],
     "output_type": "stream"
    }
   ],
   "source": [
    "# !/usr/bin/env python3 \n",
    "# Name: David Bernick (dbernick)\n",
    "# Group Members: John Cleese (jcleese) and Eric Idle (eidle)\n",
    "\n",
    "\"\"\"\n",
    "Print out the string Hello World when run.\n",
    "\"\"\"\n",
    "# remember that strings in python use either single (') or double (\") quotes.\n",
    "print (\"Hello William\") #--> represented as a \"STRING OBJECT\", print function allows us to take the contents of an object and allows us to represent it in a real way on our screen"
   ]
  },
  {
   "cell_type": "markdown",
   "metadata": {
    "pycharm": {}
   },
   "source": [
    "Add your own similar-looking documentation and comments to the the following code, customizing it for yourself, and lets make it print: Hello __your name__ instead. In my case, it would print \"Hello David\""
   ]
  },
  {
   "cell_type": "markdown",
   "metadata": {
    "pycharm": {}
   },
   "source": [
    "## helloMe"
   ]
  },
  {
   "cell_type": "code",
   "execution_count": 3,
   "metadata": {
    "pycharm": {
     "is_executing": false
    }
   },
   "outputs": [
    {
     "name": "stdout",
     "text": [
      "Hello William\n"
     ],
     "output_type": "stream"
    }
   ],
   "source": [
    "# C:\\Users\\wwsch\\anaconda3\\python.exe\n",
    "# Name: William Schlough(wschloug)\n",
    "# Group Members: N/A\n",
    "\n",
    "\"\"\"\n",
    "Print out the most common statement in computer programming, Hello World.\n",
    "\n",
    "\"not all strings are announcers, but all announcers are strings !\"\n",
    "\"\"\" \n",
    "\n",
    "class Announcer (str):  # class (object constructor) \"Announcer\" created --> this one is a string (str) class\n",
    "    def printMe (self): # def is the start of a function / method, in this case the function / method is \"printMe\"\n",
    "        print (self)    # and the function's goal is to print whatever data is stored in the class using the word \"self\"\n",
    "\n",
    "\"\"\"\n",
    "now outside of class announcers\n",
    "make new announcer object\n",
    "give new announcer object a parameter\n",
    "name that new object\n",
    "\"\"\"\n",
    "student = Announcer ('Hello William') # variable \"student\" of class Announcer with parameter (data) 'Hello William!' --> \"self\" is how we refer (call) to this data\n",
    "student.printMe()\n"
   ]
  },
  {
   "cell_type": "markdown",
   "metadata": {
    "pycharm": {}
   },
   "source": [
    "There are a few things to mention about this style of coding. Classes are templates for _objects_. The _announcer_ class is a kind of _string_ class, and we tell python that by including (str) after the name of the class. We have added a method ( printme) to the announcer class, and that method allows objects of class announcer to _print_ themselves. In python, we access data that is saved in an object using the word _self_. Since objects of this class are strings, _self_ refers to the data ('Hello David' in this case). You will notice that python methods are defined using the keyword: def _name_ ( self, parameters)\n",
    "\n",
    "The line: _student = announcer ('Hello David')_ creates a new name (student), of class _announcer_ and it is given a parameter _'Hello David'_. That parameter is given to announcer as its data. Objects of class announcer refer to that data using the name _self_. \n",
    "\n",
    "The line: _student.printme()_ sends a printme() message to the student object, and the student object then prints out its data."
   ]
  },
  {
   "cell_type": "markdown",
   "metadata": {
    "pycharm": {}
   },
   "source": [
    "## Return of “Hello World”\n",
    "We will now take a look at a more sophisticated, second person version of _helloMe_. \n",
    "As currently written, it should ask you to enter a name; you type in the name and then press the _enter_ key (maybe labelled return).\n",
    "\n",
    "The output you should see is:\n",
    "\n",
    "Hi there, I am _name_\n",
    "\n",
    "Look at _helloAgain_ below. You’ll notice that it’s more complex and longer than _helloMe_. \n",
    "Now modify _helloAgain_ so that, in addition to asking for that person’s name, the program also prompts the user for their favorite pet like this:\n",
    "\n",
    "“What is your favorite pet? :”\n",
    "\n",
    "To make this clearer, here are a few lines that belong in your revised _helloAgain_."
   ]
  },
  {
   "cell_type": "code",
   "execution_count": 27,
   "metadata": {
    "pycharm": {
     "is_executing": false
    }
   },
   "outputs": [
    {
     "traceback": [
      "\u001b[1;31m---------------------------------------------------------------------------\u001b[0m",
      "\u001b[1;31mTypeError\u001b[0m                                 Traceback (most recent call last)",
      "\u001b[1;32m<ipython-input-27-2ff4bd8c5f44>\u001b[0m in \u001b[0;36m<module>\u001b[1;34m\u001b[0m\n\u001b[0;32m      1\u001b[0m \u001b[0mname\u001b[0m \u001b[1;33m=\u001b[0m \u001b[0minput\u001b[0m\u001b[1;33m(\u001b[0m \u001b[1;34m\"What is your name? : \"\u001b[0m \u001b[1;33m)\u001b[0m\u001b[1;33m\u001b[0m\u001b[1;33m\u001b[0m\u001b[0m\n\u001b[0;32m      2\u001b[0m \u001b[0mpet\u001b[0m \u001b[1;33m=\u001b[0m \u001b[0minput\u001b[0m\u001b[1;33m(\u001b[0m \u001b[1;34m\"What is your favorite kind of pet? : \"\u001b[0m\u001b[1;33m)\u001b[0m\u001b[1;33m\u001b[0m\u001b[1;33m\u001b[0m\u001b[0m\n\u001b[1;32m----> 3\u001b[1;33m \u001b[0mnewPerson\u001b[0m \u001b[1;33m=\u001b[0m \u001b[0mPerson\u001b[0m \u001b[1;33m(\u001b[0m\u001b[0mname\u001b[0m\u001b[1;33m,\u001b[0m \u001b[0mpet\u001b[0m\u001b[1;33m)\u001b[0m\u001b[1;33m\u001b[0m\u001b[1;33m\u001b[0m\u001b[0m\n\u001b[0m\u001b[0;32m      4\u001b[0m \u001b[0mnewPerson\u001b[0m\u001b[1;33m.\u001b[0m\u001b[0mintroduce\u001b[0m\u001b[1;33m(\u001b[0m\u001b[1;33m)\u001b[0m\u001b[1;33m\u001b[0m\u001b[1;33m\u001b[0m\u001b[0m\n",
      "\u001b[1;31mTypeError\u001b[0m: __init__() takes 2 positional arguments but 3 were given"
     ],
     "ename": "TypeError",
     "evalue": "__init__() takes 2 positional arguments but 3 were given",
     "output_type": "error"
    }
   ],
   "source": [
    "name = input( \"What is your name? : \" )\n",
    "pet = input( \"What is your favorite kind of pet? : \")\n",
    "newPerson = Person (name, pet)\n",
    "newPerson.introduce()"
   ]
  },
  {
   "cell_type": "markdown",
   "metadata": {
    "pycharm": {}
   },
   "source": [
    "### helloAgain"
   ]
  },
  {
   "cell_type": "code",
   "execution_count": 4,
   "metadata": {
    "pycharm": {
     "is_executing": false
    }
   },
   "outputs": [
    {
     "name": "stdout",
     "text": [
      "Hi there, I am William and I like Dogs\n"
     ],
     "output_type": "stream"
    }
   ],
   "source": [
    "# C:\\Users\\wwsch\\anaconda3\\python.exe\n",
    "# Name: William Schlough(wschloug)\n",
    "# Group Members: N/A\n",
    "\n",
    "\"\"\"\n",
    "Build a Person object and have it introduce itself.\n",
    "\n",
    "input: a string of arbitrary length, which is used to name the new person object\n",
    "output: greeting printed to screen\n",
    "\"\"\"\n",
    "\n",
    "class Person:                           # class \"Person\"\n",
    "    def __init__(self, name, pet):      # function __init__ used to initialize the object's state (https://www.geeksforgeeks.org/__init__-in-python/) \n",
    "        self.myName = name              # self.myName is set to variable \"name\"\n",
    "        self.myPet  = pet               # self.myPet is set to variable \"pet\"\n",
    "        \n",
    "    def introduce (self):                                                               # new function \"introduce\" which will call variables to print \n",
    "        print (\"Hi there, I am {0} and I like {1}s\".format(self.myName,self.myPet))\n",
    "\n",
    "\n",
    "# put your new code here.\n",
    "\n",
    "name = input( \"What is your name? : \" )                     # variable \"name\" of class Person will take string input from user              \n",
    "pet = input( \"What is your favorite kind of pet? : \")       # variable \"pet\" of class Person will take string input from user\n",
    "newPerson = Person (name, pet)                              # variable \"newPerson\" of class person --> calls class Person with filled variables (name + pet are empty until the user inputs them) so the class can initialize it\n",
    "newPerson.introduce()                                       # calls the function \"introduce\" of class Person --> data has been initialized by previous line\n",
    "\n"
   ]
  },
  {
   "cell_type": "markdown",
   "metadata": {
    "pycharm": {}
   },
   "source": [
    "Your new version of _helloAgain_ should now print something that looks like this: \n",
    "\n",
    "“Hi there, I am _name_ and I like _pets_ !”\n",
    "\n",
    "replacing the italicized text with what the user entered at the command line. Note the statement uses a plural form by appending the letter s, your program should do this too.\n",
    "\n",
    "So, if you decided that your new person is named Fred, and Fred is fond of his pet aardvark, then your program would\n",
    "output:\n",
    "\n",
    "Hi there, I am Fred and I like aardvarks!\n",
    "\n",
    "Remember to save and add documentation/comments to _helloAgain_ ."
   ]
  },
  {
   "cell_type": "markdown",
   "metadata": {
    "pycharm": {}
   },
   "source": [
    "## Brief Biography Program\n",
    "Now that you’ve gotten a little experience programming and seen a few python programs, next you’ll write a program that will do the following:\n",
    "\n",
    "  - Print your full name (first and last)\n",
    "  - Print your CATS/CruzMail username\n",
    "  - Print whether your are an undergraduate or graduate student\n",
    "  - Print your major\n",
    "  - Print why you are taking this class and what you hope to get out of it\n",
    "  - What problem in molecular biology most interests you.\n",
    "  - Print your prior computer programming experience\n",
    "\n",
    "This program should NOT ask the user for this data. This data should be constants in your program. The constants should NOT be part of the person class -- use parameters that are given to your person object when it is instantiated. \n",
    "The name of the program is “myBio” and a sample execution of the program should look something like this:\n",
    "\n",
    "My name is _**David Bernick**_. <br>\n",
    "My username is _**dbernick**_. <br>\n",
    "I am a _**professor**_. <br>\n",
    "My major is _**Bioinformatics and Biomolecular Engineering**_. <br>\n",
    "_**I’m  not taking this class, but I teach it**_. <br>\n",
    "_**I am a synthetic bioengineer and I’m interested in  extreme life, especially hypertherthermophiles and hypersalinophiles, with a focus on small RNA and novel proteins from extreme viruses.**_ <br>\n",
    "I have prior programming experience using _**Python, Perl, Java, Fortran, Pascal, PL/1, ADA, Basic,TPL, APL, Assembly, and C++ (Im not very fond of this though)**_. <br>\n",
    "\n",
    "Each piece of info should occupy only a single line.\n",
    "\n",
    "In order to get full credit, the program must use attributes of the person class for each of the _**emphasized strings**_ above and contain appropriate documentation/comments. \n",
    "\n",
    "Note that in Python, *names* that are part of a class are called *attributes*. Functions that are part of a class are called *methods*. In other languages, *names* are sometimes called *variables*."
   ]
  },
  {
   "cell_type": "markdown",
   "metadata": {
    "pycharm": {}
   },
   "source": [
    "### myBio"
   ]
  },
  {
   "cell_type": "code",
   "execution_count": 5,
   "metadata": {
    "pycharm": {
     "is_executing": false
    }
   },
   "outputs": [
    {
     "name": "stdout",
     "text": [
      "My name is William Schlough\nMy username is wschloug\nI am an undergraduate student\nMy major is Biomolecular Engineering and Bioinformatics B.S.\nI am taking this class because I want to learn how to use / apply python in a general sense (gain a foundation) along with seeing how it is used in the field / workplace within my major.\nI am interested in how neurological disorders function on a molecular level within the brain (mostly focusing on ADD / ADHD, parkinsons disease, and alzheimers disease). I also like tardigrades because of their crazy high resistances to radiation and pressure; they are always fun to learn about.\nI have prior experience in Java (a bit), C (a bit), and R (a bit), but I have always struggled with programming.\n"
     ],
     "output_type": "stream"
    }
   ],
   "source": [
    "# C:\\Users\\wwsch\\anaconda3\\python.exe\n",
    "# Name: William Schlough(wschloug)\n",
    "# Group Members: N/A\n",
    "\n",
    "\"\"\"\n",
    "Build a Person object and have it introduce itself.\n",
    "\n",
    "input: a string of arbitrary length, which is used to name the new person object\n",
    "output: greeting printed to screen\n",
    "\n",
    "\"object is an actual thing, the class is just a template\"\n",
    "\"\"\"\n",
    "\n",
    "class Person:\n",
    "    \n",
    "    #__init__ method captures any parameters that we want to use \n",
    "    def __init__(self, name, username, studentType, major, why, problemInterest, priorExperience):\n",
    "        self.name = name                            #create a string object initialize it with whatever is contained in name, make it part of the self namespace\n",
    "        self.username = username\n",
    "        self.studentType = studentType\n",
    "        self.major = major\n",
    "        self.why = why\n",
    "        self.problemInterest = problemInterest\n",
    "        self.priorExperience = priorExperience\n",
    "\n",
    "    #introduce function will provide the layout\n",
    "    def introduce (self):\n",
    "        print (\"My name is {0}\".format(self.name))                              #.format(self.name) will use the data from variable name --> does this with {0}\n",
    "        print (\"My username is {0}\".format(self.username))                      #.format(self.username) will use the data from variable username --> does this with {0}\n",
    "        print (\"I am an {0}\".format(self.studentType))\n",
    "        print (\"My major is {0}\".format(self.major))\n",
    "        print (\"{0}\".format(self.why))\n",
    "        print (\"{0}\".format(self.problemInterest))\n",
    "        print (\"I have prior experience in {0}\".format(self.priorExperience))\n",
    "\n",
    "name = 'William Schlough'\n",
    "username = 'wschloug'\n",
    "studentType = 'undergraduate student'\n",
    "major = 'Biomolecular Engineering and Bioinformatics B.S.'\n",
    "why = 'I am taking this class because I want to learn how to use / apply python in a general sense (gain a foundation) along with seeing how it is used in the field / workplace within my major.'\n",
    "problemInterest = 'I am interested in how neurological disorders function on a molecular level within the brain (mostly focusing on ADD / ADHD, parkinsons disease, and alzheimers disease). I also like tardigrades because of their crazy high resistances to radiation and pressure; they are always fun to learn about.'\n",
    "priorExperience = 'Java (a bit), C (a bit), and R (a bit), but I have always struggled with programming.'\n",
    "\n",
    "newPerson = Person(name, username, studentType, major, why, problemInterest, priorExperience) #make the newPerson object with all of the string objects that have been created\n",
    "newPerson.introduce()\n"
   ]
  },
  {
   "cell_type": "markdown",
   "metadata": {
    "pycharm": {}
   },
   "source": [
    "## Debug buggy code\n",
    "Practice makes us better; usually debugging makes code closer to perfect. \n",
    "This program is supposed to ask the user to enter a DNA sequence and then output the AT content of the sequence— total number of As and Ts divided by the sequence length—as a fraction of the total sequence length (a number between 0 and 1).\n",
    "\n",
    "For example, given the string:\n",
    "\n",
    "AAAATGAATGGCTAACTTTTGAA\n",
    "\n",
    "the program should output: (make sure that you pay attention to the number of significant digits in the output!)\n",
    "\n",
    "AT content = 0.739\n",
    "\n",
    "Unfortunately there are a few bugs in the program. Your task is to identify and correct those bugs. This part of the assignment is to help familiarize you with the debugging process. It is possible to identify the bugs without using any of the following techniques just by looking over the program, but this will be good practice and will be essential when your code gets more complex.\n",
    "\n",
    "To debug countAT-bugs.py, run the program, which will produce an error. Figure out what the error is and correct the code. It’s likely that after you correct the first error you will notice another error. Repeat this process until you fix all the bugs and the program runs properly.\n",
    "\n",
    "Save a corrected copy of the program called countAT-bugsSoln.py that includes: \n",
    "  - Documentation and comments\n",
    "  - A program overview that includes how many bugs you found and what lines from the original file they were found at."
   ]
  },
  {
   "cell_type": "markdown",
   "metadata": {
    "pycharm": {}
   },
   "source": [
    "## countAT-bugs"
   ]
  },
  {
   "cell_type": "code",
   "execution_count": 2,
   "outputs": [
    {
     "name": "stdout",
     "text": [
      "AT content = 0.739\n"
     ],
     "output_type": "stream"
    }
   ],
   "source": [
    "# C:\\Users\\wwsch\\anaconda3\\python.exe\n",
    "# Name: William Schlough(wschloug)\n",
    "# Group Members: N/A\n",
    "\n",
    "class DNAString (str): #changed form dnaString to DNAString\n",
    "    def length (self):\n",
    "        return len(self)   #removed redundant parentheses\n",
    "\n",
    "    def getAT (self):\n",
    "        num_A = self.count(\"A\") #changed to \"A\" from A --> is registering A as a variable input rather than a string input\n",
    "        num_T = self.count(\"T\")\n",
    "        return (num_A + num_T)/ self.length()  #changed self.len() to self.length() --> was trying to find a function (def) that didn't exist\n",
    "\n",
    "dna = input(\"Enter a dna sequence: \")\n",
    "upperDNA = dna.upper()                  #necessary line of code, .upper() converts all lowercase letters to uppercase letters (self.count() wouldn't work if input letters were lowercase\n",
    "coolString = DNAString(dna)\n",
    "\n",
    "print (\"AT content = {0:0.3f}\".format(coolString.getAT()) ) #changed {0:0.1f} to {0:0.3f} --> 1 float value to 3 float value (decimal places)"
   ],
   "metadata": {
    "pycharm": {
     "metadata": false,
     "name": "#%%\n",
     "is_executing": false
    }
   }
  },
  {
   "cell_type": "markdown",
   "metadata": {
    "pycharm": {}
   },
   "source": [
    "## Counting DNA Letters \n",
    "Now that you are inspired by your ability to debug the countAT-bugs code, let's create a new program that will ask the user to enter a DNA sequence and then output the total sequence length and \n",
    "the number of each base {total As, Cs, Gs, Ts} found in the sequence. \n",
    "For example, given the string:\n",
    "\n",
    "AAAATGAATGGCTAACTTTTGAA\n",
    "\n",
    "the program should output:\n",
    "\n",
    "Your sequence is 23 nucleotides long with the following breakdown of bases:\n",
    "\n",
    "number As = 10\n",
    "number Cs = 2\n",
    "number Gs = 4\n",
    "number Ts = 7\n",
    "\n",
    "Write a program called countNucleotides (put it below) that will take in a DNA sequence entered by a user and produce the outputs specified above. Note that \"specified\" means ... \"required\"\n",
    "\n",
    "To get full credit on this assignment, your code needs to:\n",
    "\n",
    "  * Run properly\n",
    "  * Contain documentation/comments\n",
    "  * Include an overview about what your program is designed to do with expected inputs and outputs. Use a MarkDown Cell to write your overview."
   ]
  },
  {
   "cell_type": "markdown",
   "metadata": {
    "pycharm": {}
   },
   "source": [
    "### countNucleotides"
   ]
  },
  {
   "cell_type": "code",
   "execution_count": 2,
   "metadata": {
    "pycharm": {
     "is_executing": false
    }
   },
   "outputs": [
    {
     "name": "stdout",
     "text": [
      "Your sequence is 23 nucleotides long with the following breakdown of bases:\n\nnumber As = 10 number Cs = 2 number Gs = 4 number Ts = 7\n"
     ],
     "output_type": "stream"
    }
   ],
   "source": [
    "# C:\\Users\\wwsch\\anaconda3\\python.exe\n",
    "# Name: William Schlough(wschloug)\n",
    "# Group Members: N/A\n",
    "\n",
    "\n",
    "class DNAString (str): \n",
    "    def length (self):\n",
    "        return len(self)   \n",
    "    \n",
    "    #get number of As in sequence\n",
    "    def getA (self):\n",
    "        num_A = self.count(\"A\")     #self.count(\"A\") will count number of times  A occurs within the input string\n",
    "        return num_A                #return variable num_A (which will have stored data from previous line\n",
    "    \n",
    "    #get number of Cs in sequence\n",
    "    def getC (self):\n",
    "        num_C = self.count(\"C\")\n",
    "        return num_C\n",
    "    \n",
    "    #get number of Gs in sequence\n",
    "    def getG (self):\n",
    "        num_G = self.count(\"G\")\n",
    "        return num_G\n",
    "    \n",
    "    #get number of Ts in sequence\n",
    "    def getT (self):\n",
    "        num_T = self.count(\"T\")\n",
    "        return num_T\n",
    "\n",
    "\n",
    "dna = input(\"Enter a dna sequence: \") #create variable dna, set it to the requested user input\n",
    "upperDNA = dna.upper()                #create variable upperDNA, set it to a formatted version of previous sequence (.upper() --> all uppercase lettering)\n",
    "coolString = DNAString(upperDNA)      #create variable coolString, set it to calling DNAString with variable upperDNA --> this class is of string (str) type, so it will accept the requested user input\n",
    "\n",
    "print(\"Your sequence is {0} nucleotides long with the following breakdown of bases:\\n\".format(coolString.length()))         #returns length of total sequence by calling function length of class DNAString (which initializes data as string (str))\n",
    "print(\"number As = {0} number Cs = {1} number Gs = {2} number Ts = {3}\".format(coolString.getA(), coolString.getC(), coolString.getG(), coolString.getT()))     #returns amount of A, T, G, and C is in input strand --> does this by calling functions getA, getC, getG, and getT of class DNAString\n",
    "\n"
   ]
  },
  {
   "cell_type": "markdown",
   "metadata": {
    "pycharm": {}
   },
   "source": [
    "## Submit your code and answers\n",
    "Important: please save your work before logging out of the computer. This will ensure that you have a copy of your work and you will avoid having to redo everything in the event that something happens. The two recommended solutions (pick one) at this point are to:\n",
    "\n",
    "  - Email your jupyter notebook to yourself\n",
    "  - Copy your notebook to a pen drive\n",
    "  \n",
    "The class will be using canvas to submit the notebook created as part of this lab assignment.\n",
    "\n",
    "For this lab, you should upload your notebook with the following cells filled in\n",
    "\n",
    "  * helloMe 4 points\n",
    "  * helloAgain 5 points\n",
    "  * myBio 6 points\n",
    "  * countAT-bugsSoln 9 points\n",
    "  * countNucleotides 6 points \n",
    "\n",
    "Important: to get full credit on this lab assignment, everything needs to\n",
    "\n",
    "  * Run properly\n",
    "  * Contain informative documentation/comment, including your name and your partner\n",
    "  * be your own work\n",
    "\n",
    "Congratulations, you finished your first lab assignment!"
   ]
  }
 ],
 "metadata": {
  "kernelspec": {
   "name": "python3",
   "language": "python",
   "display_name": "Python 3"
  },
  "language_info": {
   "codemirror_mode": {
    "name": "ipython",
    "version": 3
   },
   "file_extension": ".py",
   "mimetype": "text/x-python",
   "name": "python",
   "nbconvert_exporter": "python",
   "pygments_lexer": "ipython3",
   "version": "3.7.6"
  },
  "pycharm": {
   "stem_cell": {
    "cell_type": "raw",
    "source": [],
    "metadata": {
     "collapsed": false
    }
   }
  }
 },
 "nbformat": 4,
 "nbformat_minor": 2
}